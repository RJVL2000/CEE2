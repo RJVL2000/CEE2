{
  "cells": [
    {
      "cell_type": "markdown",
      "metadata": {
        "colab_type": "text",
        "id": "view-in-github"
      },
      "source": [
        "<a href=\"https://colab.research.google.com/github/jafiorucci/CEE2PY125/blob/main/7_tratamento_erros.ipynb\" target=\"_parent\"><img src=\"https://colab.research.google.com/assets/colab-badge.svg\" alt=\"Open In Colab\"/></a>"
      ]
    },
    {
      "cell_type": "markdown",
      "metadata": {
        "id": "sSvSYtmCw5QB"
      },
      "source": [
        "# Tratamento de erros"
      ]
    },
    {
      "cell_type": "markdown",
      "metadata": {
        "id": "33Kf1HGAiha8"
      },
      "source": [
        "Tratamento de erros (ou tratamento de exceções) serve para lidar com situações inesperadas que podem ocorrer durante a execução do programa, como:\n",
        "\n",
        "- Divisão por zero\n",
        "\n",
        "- Arquivo não encontrado\n",
        "\n",
        "- Valor inválido\n",
        "\n",
        "- Conexão de rede falhando\n",
        "\n",
        "Se você não tratar esses erros, o programa quebra (lança uma exceção e para de executar).\n",
        "\n",
        "\n",
        "## try-except\n",
        "\n",
        "A base do tratamento de exceções é a estrutura **try-except**.\n",
        "\n",
        "Os diferentes tipos de erros definidos no *Python* estão descritos em https://docs.python.org/3/library/exceptions.html#bltin-exceptions\n"
      ]
    },
    {
      "cell_type": "markdown",
      "metadata": {
        "id": "QEoSdD8VldYD"
      },
      "source": [
        "**Exemplo**: no exemplo abaixo é feita a tentativa de printar um variável `x`, mas essa variável não esta definida, o que iria gerar um erro e parar a execução, no entanto, como foi executado dentro de um bloco `try`, o erro vai gerar uma excessão que pode ser tratada de modo a manter o código funcionando. No caso, o tratamento será apenas apresentar um mensagem para o usuário alertando que ocorreu um erro."
      ]
    },
    {
      "cell_type": "code",
      "execution_count": null,
      "metadata": {
        "id": "DVNemK-jiwvO"
      },
      "outputs": [],
      "source": [
        "# Este bloco gera um erro pois 'x' não está definida.\n",
        "try:\n",
        "  print(x)\n",
        "except:\n",
        "  print(\"Ocorreu uma excessão (erro)\")"
      ]
    },
    {
      "cell_type": "markdown",
      "metadata": {
        "id": "iLTTBmJ8jGpS"
      },
      "source": [
        "É possível definir blocos `except` para diferentes tipos de erros.\n",
        "\n",
        "No exemplo abaixo, temos uma função que simplesmente divide dois valores. Para tratar todos possíveis erros, utilizamos os seguinte blocos:\n",
        "* `try`: O bloco try executa o código que pode gerar uma exceção.\n",
        "* `except ZeroDivisionError`: Este bloco captura o erro de divisão por zero, exibindo uma mensagem de erro.\n",
        "* `except TypeError`: Este bloco captura erros de tipo (caso um dos argumentos não seja um número), também exibindo uma mensagem.\n",
        "* `else`: Executado apenas se o código no bloco try não gerar nenhuma exceção, exibe o resultado da divisão.\n",
        "* `finally`: Este bloco é sempre executado, independentemente de ocorrer uma exceção, e pode ser útil para limpar recursos ou informar o usuário sobre o fim da operação."
      ]
    },
    {
      "cell_type": "code",
      "execution_count": null,
      "metadata": {
        "id": "JWk6yuDBdTD5"
      },
      "outputs": [],
      "source": [
        "def dividir_numeros(a, b):\n",
        "    try:\n",
        "        resultado = a / b\n",
        "    except ZeroDivisionError:\n",
        "        print(\"Erro: Não é possível dividir por zero.\")\n",
        "    except TypeError:\n",
        "        print(\"Erro: Ambos os valores devem ser números.\")\n",
        "    else:\n",
        "        print(resultado)\n",
        "    finally:\n",
        "        print(\"Operação de divisão finalizada.\")\n",
        "\n",
        "# Exemplos de uso\n",
        "\n",
        "dividir_numeros(10, 2)\n",
        "# Saída:\n",
        "## 5.0\n",
        "## Operação de divisão finalizada.\n",
        "print(\"---\")\n",
        "\n",
        "dividir_numeros(10, 0)\n",
        "# Saída:\n",
        "## Erro: Não é possível dividir por zero.\n",
        "## Operação de divisão finalizada.\n",
        "print(\"---\")\n",
        "\n",
        "dividir_numeros(10, 'a')\n",
        "# Saída:\n",
        "## Erro: Ambos os valores devem ser números.\n",
        "## Operação de divisão finalizada."
      ]
    },
    {
      "cell_type": "markdown",
      "metadata": {
        "id": "7brYJLpzkCZj"
      },
      "source": [
        " A palavra `finally` pode ser utilizada para encerrar acessos e liberar recursos.\n",
        "\n",
        " No exemplo abaixo, o programa abre um arquivo e tenta escrever, mas caso seja gerado algum erro na escrita, então o `finally`é utilizado para fechar o arquivo."
      ]
    },
    {
      "cell_type": "code",
      "execution_count": null,
      "metadata": {
        "id": "JUr3JaczkKGj"
      },
      "outputs": [],
      "source": [
        "try:\n",
        "  f = open(\"demofile.txt\")\n",
        "  try:\n",
        "    f.write(\"Lorem ipsum\")\n",
        "  except:\n",
        "    print(\"Não foi possível escrever no arquivo.\")\n",
        "  finally:\n",
        "    f.close()\n",
        "except:\n",
        "  print(\"Houve um erro na abertura do arquivo.\")"
      ]
    },
    {
      "cell_type": "markdown",
      "metadata": {
        "id": "ii7inCwix4_x"
      },
      "source": [
        "O tratamento também pode ser feito fora da função. Veja o exemplo."
      ]
    },
    {
      "cell_type": "code",
      "execution_count": null,
      "metadata": {
        "id": "kkZbFUQ6x-um"
      },
      "outputs": [],
      "source": [
        "def dividir(a, b):\n",
        "    return a / b\n",
        "\n",
        "try:\n",
        "    resultado = dividir(10, 0)\n",
        "    print(resultado)\n",
        "except:\n",
        "    print(\"Erro detectado na função:\")"
      ]
    },
    {
      "cell_type": "markdown",
      "metadata": {
        "id": "9E9LrVX1zEiv"
      },
      "source": [
        "Também podemos sinalizar um erro premeditado utilizando `raise`, neste caso, a execução é encerrada e o erro é apresentado."
      ]
    },
    {
      "cell_type": "code",
      "execution_count": null,
      "metadata": {
        "id": "AP8LgbUlzYRR"
      },
      "outputs": [],
      "source": [
        "def dividir(a, b):\n",
        "    if b == 0:\n",
        "        raise ValueError(\"Não é possível dividir por zero.\")\n",
        "    return a / b\n",
        "\n",
        "try:\n",
        "    resultado = dividir(10, 0)\n",
        "except ValueError as e:\n",
        "    print(\"Erro detectado na função:\", e)"
      ]
    },
    {
      "cell_type": "markdown",
      "metadata": {
        "id": "6VNt_rrK1Ga3"
      },
      "source": [
        "## Exercício 1:\n",
        "\n",
        "Para a lista abaixo, escreva um programa que peça ao usuário um índice e então apresente o elemento da lista na posição correspondente. Trate os possíveis erros:\n",
        "* O valor digitado não for um número (ValueError).\n",
        "* O índice estiver fora do intervalo da lista (IndexError).\n",
        "\n",
        "```python\n",
        "lista = [\"maçã\", \"banana\", \"laranja\", \"uva\", \"melancia\"]\n",
        "```"
      ]
    },
    {
      "cell_type": "code",
      "execution_count": 1,
      "metadata": {},
      "outputs": [
        {
          "name": "stdout",
          "output_type": "stream",
          "text": [
            "uva\n"
          ]
        }
      ],
      "source": [
        "lista = [\"maçã\", \"banana\", \"laranja\", \"uva\", \"melancia\"]\n",
        "\n",
        "indice = input(\"Digite um índice: \")\n",
        "try:\n",
        "    indice = int(indice)\n",
        "    try:\n",
        "        print(lista[indice])\n",
        "    except:\n",
        "        print(f\"O valor deve estar no intervalo da lista: (0 a {len(lista) - 1}).\")\n",
        "except:\n",
        "    print(\"O valor digitado deve ser um número inteiro.\")"
      ]
    }
  ],
  "metadata": {
    "colab": {
      "authorship_tag": "ABX9TyNNe0NqPlTBIVPyJuPioQTv",
      "include_colab_link": true,
      "provenance": []
    },
    "kernelspec": {
      "display_name": "Python 3",
      "name": "python3"
    },
    "language_info": {
      "codemirror_mode": {
        "name": "ipython",
        "version": 3
      },
      "file_extension": ".py",
      "mimetype": "text/x-python",
      "name": "python",
      "nbconvert_exporter": "python",
      "pygments_lexer": "ipython3",
      "version": "3.12.3"
    }
  },
  "nbformat": 4,
  "nbformat_minor": 0
}
