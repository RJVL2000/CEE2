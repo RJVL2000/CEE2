{
  "cells": [
    {
      "cell_type": "markdown",
      "metadata": {
        "colab_type": "text",
        "id": "view-in-github"
      },
      "source": [
        "<a href=\"https://colab.research.google.com/github/jafiorucci/CEE2PY125/blob/main/13_pandas_parte_3.ipynb\" target=\"_parent\"><img src=\"https://colab.research.google.com/assets/colab-badge.svg\" alt=\"Open In Colab\"/></a>"
      ]
    },
    {
      "cell_type": "markdown",
      "metadata": {
        "id": "oZa_-NAWDz81"
      },
      "source": [
        "# Pandas - Parte 3"
      ]
    },
    {
      "cell_type": "markdown",
      "metadata": {
        "id": "i-sVOmOXUTDq"
      },
      "source": [
        "## Séries temporais"
      ]
    },
    {
      "cell_type": "markdown",
      "metadata": {
        "id": "3eccDpWHrkUp"
      },
      "source": [
        "*Pandas* é uma das principais bibliotecas utilizadas para manipulação de séries temporais por possuir diversas funcionalidades úteis para esse tipo de dados.\n",
        "\n",
        "Em *Pandas* uma série temporal é representada por um objeto do tipo `Series` ou `DataFrame` indexadas por um tipo de objeto especifico para trabalhar com datas, o `datetime`."
      ]
    },
    {
      "cell_type": "markdown",
      "metadata": {
        "id": "gAMLO4OBjJEB"
      },
      "source": [
        "  **Objetos `datetime` no Python**\n",
        "\n",
        "  A biblioteca `datetime` do Python é utilizado para manipular datas e horários. Ela fornece várias classes úteis para criar, modificar, comparar e realizar cálculos com datas e tempos.\n",
        "\n",
        "  Principais Classes do Módulo `datetime`:\n",
        "\n",
        "  * `datetime.date`: Representa uma data (ano, mês e dia).\n",
        "  * `datetime.time`: Representa um horário (hora, minuto, segundo e microssegundo).\n",
        "  * `datetime.datetime`: Combina data e horário.\n",
        "  * `datetime.timedelta`: Representa diferenças entre datas ou tempos.\n",
        "  * `datetime.tzinfo` e `datetime.timezone`: Representam informações de fuso horário"
      ]
    },
    {
      "cell_type": "code",
      "execution_count": null,
      "metadata": {
        "id": "tTQeC829pXRQ"
      },
      "outputs": [],
      "source": [
        "## Exemplos datetime\n",
        "\n",
        "import datetime\n",
        "\n",
        "# Objeto date:\n",
        "  ## Criando uma data\n",
        "data = datetime.date(2024, 11, 29)\n",
        "print(type(data))\n",
        "print(\"\\nData Criada:\", data)\n",
        "\n",
        "  ## Acessando componentes\n",
        "print(\"Ano:\", data.year)\n",
        "print(\"Mês:\", data.month)\n",
        "print(\"Dia:\", data.day)\n",
        "\n",
        "# Objeto time:\n",
        "  ## Criando um horário\n",
        "horario = datetime.time(14, 30, 45)\n",
        "print(\"\\n\\n\", type(horario))\n",
        "print(\"\\nHorário Criado:\", horario)\n",
        "\n",
        "  ## Acessando componentes\n",
        "print(\"Hora:\", horario.hour)\n",
        "print(\"Minuto:\", horario.minute)\n",
        "print(\"Segundo:\", horario.second)\n",
        "\n",
        "# Objeto datetime:\n",
        "  ## Criando um objeto datetime\n",
        "data_hora = datetime.datetime(2024, 11, 29, 14, 30, 45)\n",
        "print(\"\\n\\n\", type(data_hora))\n",
        "print(\"\\nData e Hora Criadas:\", data_hora)\n",
        "\n",
        "  ## Acessando componentes\n",
        "print(\"Ano:\", data_hora.year)\n",
        "print(\"Hora:\", data_hora.hour)"
      ]
    },
    {
      "cell_type": "code",
      "execution_count": null,
      "metadata": {
        "id": "R664gs_LjnYv"
      },
      "outputs": [],
      "source": [
        "# Convertendo string para date, time ou datetime\n",
        "\n",
        "# Principais códigos de formatação:\n",
        "# %Y: Ano com quatro dígitos.\n",
        "# %m: Mês (01-12).\n",
        "# %d: Dia do mês (01-31).\n",
        "# %H: Hora (00-23).\n",
        "# %M: Minuto (00-59).\n",
        "# %S: Segundo (00-59).\n",
        "\n",
        "## Exemplo 1\n",
        "data_string = \"29/11/2024\"\n",
        "\n",
        "data_convertida = datetime.datetime.strptime(data_string, \"%d/%m/%Y\")\n",
        "print(\"String Convertida para datetime:\", data_convertida)\n",
        "print(\"String Convertida para date:\", data_convertida.date())\n",
        "\n",
        "\n",
        "## Exemplo 2\n",
        "data_string = \"29/11/2024 14:30:45\"\n",
        "data_convertida = datetime.datetime.strptime(data_string, \"%d/%m/%Y %H:%M:%S\")\n",
        "print(\"\\n\\nString Convertida para datetime:\", data_convertida)\n",
        "print(\"String Convertida para date:\", data_convertida.date())\n",
        "print(\"String Convertida para time:\", data_convertida.time())"
      ]
    },
    {
      "cell_type": "markdown",
      "metadata": {
        "id": "NfhilXi8shY-"
      },
      "source": [
        "**1. Criando Séries Temporais**\n",
        "\n",
        "Podemos criar séries temporais usando o `pd.date_range()` e trabalhar diretamente com objetos `datetime`."
      ]
    },
    {
      "cell_type": "code",
      "execution_count": null,
      "metadata": {
        "id": "RIaT-auWuRvq"
      },
      "outputs": [],
      "source": [
        "import pandas as pd\n",
        "import numpy as np\n",
        "\n",
        "\n",
        "####### serie diaria ###########################################################\n",
        "\n",
        "# Gerando uma sequência de dias\n",
        "dias = pd.date_range(start=\"2023-01-02\", end=\"2023-01-20\", freq=\"D\")\n",
        "print(\"Sequência de dias:\\n\", dias)\n",
        "\n",
        "# Criando uma série temporal diária\n",
        "serie_diaria = pd.Series(np.random.randint(1, 100, len(dias)), index=dias)\n",
        "print(\"\\nSérie diaria:\\n\", serie_diaria)\n",
        "\n",
        "################################################################################\n",
        "\n",
        "####### serie semanal ##########################################################\n",
        "\n",
        "# Gerando uma sequência de semanas\n",
        "semanas = pd.date_range(\"2023-01-01\", \"2023-03-01\", freq=\"W\")\n",
        "\n",
        "# Criando uma série temporal semanal\n",
        "serie_semanal = pd.Series(np.random.randint(1, 100, len(semanas)), index=semanas)\n",
        "print(\"\\nSérie semanal:\\n\", serie_semanal)\n",
        "\n",
        "################################################################################\n",
        "\n",
        "####### serie horária ##########################################################\n",
        "\n",
        "# Frequência por horas\n",
        "horas = pd.date_range(\"2023-01-01\", \"2023-01-02\", freq=\"h\")\n",
        "\n",
        "# Criando uma série temporal horaria\n",
        "serie_horaria = pd.Series(np.random.randint(1, 100, len(horas)), index=horas)\n",
        "print(\"\\nSérie horaria:\\n\", serie_horaria)\n",
        "\n",
        "################################################################################\n"
      ]
    },
    {
      "cell_type": "markdown",
      "metadata": {
        "id": "nZ7otU6ks8H3"
      },
      "source": [
        "**2. Manipulando Datas como Índices**\n",
        "\n",
        "As colunas de datas ou índices permitem acessar, filtrar e realizar operações."
      ]
    },
    {
      "cell_type": "code",
      "execution_count": null,
      "metadata": {
        "id": "Ob8Aut9ttC-q"
      },
      "outputs": [],
      "source": [
        "# Filtrando dados específicos\n",
        "print(\"Valores de 2023-01-03 a 2023-01-05:\\n\", serie_diaria[\"2023-01-03\":\"2023-01-05\"])\n",
        "\n",
        "# Selecionando com base em condições\n",
        "print(\"\\nValores maiores que 50:\\n\", serie_diaria[serie_diaria > 50])\n"
      ]
    },
    {
      "cell_type": "markdown",
      "metadata": {
        "id": "vCyRY6wUtI-0"
      },
      "source": [
        "**4. Reamostragem e Alteração de Frequência**\n",
        "\n",
        "A reamostragem ajusta a frequência temporal dos dados (e.g., diário para mensal)."
      ]
    },
    {
      "cell_type": "code",
      "execution_count": null,
      "metadata": {
        "id": "T_-urGdGwTU1"
      },
      "outputs": [],
      "source": [
        "# Seria diaria\n",
        "print(\"serie diaria:\\n\", serie_diaria )\n",
        "\n",
        "# Reamostragem para frequência semanal\n",
        "reamostrado = serie_diaria.resample(\"W\")\n",
        "\n",
        "## media dos valores\n",
        "print(\"\\nSerie Semanal (media):\\n\", reamostrado.mean())\n",
        "\n",
        "## soma dos valores\n",
        "print(\"\\nSerie Semanal (soma):\\n\", reamostrado.sum())\n",
        "\n",
        "## maximo dos valores\n",
        "print(\"\\nSerie Semanal (max):\\n\", reamostrado.max())"
      ]
    },
    {
      "cell_type": "markdown",
      "metadata": {
        "id": "izvVdLOp6MTB"
      },
      "source": [
        "**5. Operações de Deslocamento**\n",
        "\n",
        "O deslocamento temporal é útil em diversas situações. Por exemplo, a construção de modelo de regressão pode utilizar uma variável defasada (Ex: Taxa_desemprego ~ Selic_defasada)."
      ]
    },
    {
      "cell_type": "code",
      "execution_count": null,
      "metadata": {
        "id": "iXt3_36-6Z-j"
      },
      "outputs": [],
      "source": [
        "serie = serie_diaria[\"2023-01-02\":\"2023-01-08\"]\n",
        "print(\"serie diaria:\\n\", serie)\n",
        "\n",
        "# Deslocando os valores para frente\n",
        "deslocado1 = serie.shift(1)\n",
        "print(\"\\nSérie Deslocada para Frente:\\n\", deslocado1)\n",
        "\n",
        "# Deslocando os valores para trás\n",
        "deslocado2 = serie.shift(-1)\n",
        "print(\"\\nSérie Deslocada para trás:\\n\", deslocado2)\n",
        "\n",
        "# Calculando diferenças\n",
        "diferencas = serie.diff()\n",
        "print(\"\\nDiferenças Entre Valores Consecutivos:\\n\", diferencas)"
      ]
    },
    {
      "cell_type": "markdown",
      "metadata": {
        "id": "DnhfpugbbPZA"
      },
      "source": [
        "**6. Trabalhando com Timezones**\n",
        "\n",
        "O Pandas suporta fuso horário com `tz_localize` e `tz_convert`."
      ]
    },
    {
      "cell_type": "code",
      "execution_count": null,
      "metadata": {
        "id": "czoZrRkivDKR"
      },
      "outputs": [],
      "source": [
        "import numpy as np\n",
        "import pandas as pd\n",
        "\n",
        "# Criando uma série temporal horária (UTC)\n",
        "horas_utc = pd.date_range(\"2023-01-01 07:00\", \"2023-01-01 12:00\", freq=\"h\", tz=\"UTC\")\n",
        "serie_horaria_utc = pd.Series(np.random.randint(1, 100, len(horas_utc)), index=horas_utc)\n",
        "\n",
        "print(\"Série horária no timezone UTC:\")\n",
        "print(serie_horaria_utc)\n",
        "\n",
        "# Convertendo para o timezone América/São_Paulo\n",
        "serie_horaria_sao_paulo = serie_horaria_utc.tz_convert(\"America/Sao_Paulo\")\n",
        "print(\"\\nSérie horária convertida para América/São_Paulo:\")\n",
        "print(serie_horaria_sao_paulo)\n",
        "\n",
        "# Série sem fuso horário\n",
        "horas_sem_tz = pd.date_range(\"2023-01-01 07:00\", \"2023-01-01 12:00\", freq=\"h\")\n",
        "serie_sem_tz = pd.Series(np.random.randint(1, 100, len(horas_sem_tz)), index=horas_sem_tz)\n",
        "\n",
        "# Adicionando timezone à série sem fuso horário\n",
        "serie_com_tz = serie_sem_tz.tz_localize(\"America/New_York\")\n",
        "print(\"\\nSérie sem timezone adicionada ao timezone América/New_York:\")\n",
        "print(serie_com_tz)\n"
      ]
    },
    {
      "cell_type": "markdown",
      "metadata": {
        "id": "YaNiOCzj4yyy"
      },
      "source": [
        "Os fusos horários disponíveis podem ser acessados em [time-zones](https://en.wikipedia.org/wiki/List_of_tz_database_time_zones)."
      ]
    },
    {
      "cell_type": "markdown",
      "metadata": {
        "id": "Kw7d4rBdfqOK"
      },
      "source": [
        "**7. Gráfico de séries temporais**\n",
        "\n",
        "No Pandas, é possível criar gráficos de séries temporais de forma simples utilizando o método `.plot()` integrado. Ele é ideal para representar visualmente dados temporais, como tendências ao longo do tempo. Para isso, você pode usar diretamente o DataFrame ou a Series, desde que tenham um índice temporal.\n",
        "\n",
        "> Quando você usa o método .plot() em um objeto do pandas (por exemplo, um DataFrame ou Series), ele retorna um objeto `matplotlib.axes._axes.Axes`, que faz parte da biblioteca matplotlib. Esse objeto representa o eixo do gráfico e permite manipulações adicionais, como adicionar título, rótulos, etc.\n",
        "\n",
        "> Em Colab (ou Jupyter), quando você chama `plot()` o gráfico é exibido automaticamente.\n"
      ]
    },
    {
      "cell_type": "code",
      "execution_count": null,
      "metadata": {
        "id": "M9PgA2dZgAB3"
      },
      "outputs": [],
      "source": [
        "import pandas as pd\n",
        "import numpy as np\n",
        "\n",
        "# Gerar uma série temporal horaria\n",
        "datas = pd.date_range(\"2023-01-01\", \"2023-01-5\", freq=\"h\")\n",
        "valores = np.random.randint(50, 100, len(datas))\n",
        "serie_temporal = pd.Series(valores, index=datas)\n",
        "\n",
        "# Criar o gráfico\n",
        "fig = serie_temporal.plot(title=\"Série Temporal\", xlabel=\"Data\", ylabel=\"Valor\",\n",
        "                    figsize=(6, 3))"
      ]
    },
    {
      "cell_type": "code",
      "execution_count": null,
      "metadata": {
        "id": "zfo6aOKChHXb"
      },
      "outputs": [],
      "source": [
        "# Gera um DataFrame com múltiplas séries temporais\n",
        "df = pd.DataFrame({\n",
        "    \"Produto A\": np.random.randint(50, 100, len(datas)),\n",
        "    \"Produto B\": np.random.randint(60, 120, len(datas)),\n",
        "    \"Produto C\": np.random.randint(30, 90, len(datas)),\n",
        "}, index=datas)\n",
        "\n",
        "# Gera o gráfico\n",
        "fig = df.plot(title=\"Comparação de Produtos\", xlabel=\"Data\", ylabel=\"Vendas\",\n",
        "        figsize=(7, 4))"
      ]
    },
    {
      "cell_type": "markdown",
      "metadata": {
        "id": "33uuakLLiaGS"
      },
      "source": [
        "A biblioteca `matplotlib` pode ser utilizada para personalizar os gráficos. Será visto a frente."
      ]
    },
    {
      "cell_type": "markdown",
      "metadata": {
        "id": "UZiW85H9jR1N"
      },
      "source": [
        "### Exercício 1\n",
        "\n",
        "Considere o seguinte código:\n",
        "\n",
        "```python\n",
        "import pandas as pd\n",
        "import numpy as np\n",
        "\n",
        "# Série temporal diária para janeiro de 2023\n",
        "dias = pd.date_range(start=\"2023-01-01\", end=\"2023-01-31\", freq=\"D\")\n",
        "serie = pd.Series(np.random.randint(10, 100, len(dias_janeiro)), index=dias)\n",
        "print(\"Série Temporal:\\n\", serie)\n",
        "```\n",
        "\n",
        "Então para o objeto `serie`:\n",
        "\n",
        "1. Construa uma série semanal tomando os valores máximos de cada semana.\n",
        "\n",
        "2. Construa uma série semanal tomando os valores médios de cada semana.\n",
        "\n",
        "3. Inclua o fuso horário \"America/Sao_Paulo\".\n",
        "\n",
        "4. Apresente o gráfico das duas séries temporais."
      ]
    },
    {
      "cell_type": "code",
      "execution_count": 1,
      "metadata": {},
      "outputs": [
        {
          "data": {
            "image/png": "[encoded data removed]",
            "text/plain": [
              "<Figure size 1200x600 with 1 Axes>"
            ]
          },
          "metadata": {},
          "output_type": "display_data"
        }
      ],
      "source": [
        "import pandas as pd\n",
        "import numpy as np\n",
        "import matplotlib.pyplot as plt\n",
        "\n",
        "# Série temporal diária para janeiro de 2023\n",
        "dias_janeiro = pd.date_range(start=\"2023-01-01\", end=\"2023-01-31\", freq=\"D\")\n",
        "serie = pd.Series(np.random.randint(10, 100, len(dias_janeiro)), index=dias_janeiro)\n",
        "# print(\"Série Temporal:\\n\", serie)\n",
        "\n",
        "# 1.\n",
        "maximos = serie.resample(\"W\").max()\n",
        "# print(\"\\nMáximos Semanais:\\n\", maximos)\n",
        "\n",
        "# 2.\n",
        "medias = serie.resample(\"W\").mean()\n",
        "# print(\"\\nMédias Semanais:\\n\", medios)\n",
        "\n",
        "# 3.\n",
        "serie_tz_sp = serie.tz_localize(\"America/Sao_Paulo\")\n",
        "# print(\"\\nSérie Temporal com Fuso Horário:\\n\", serie_tz_sp)\n",
        "\n",
        "# 4.\n",
        "plt.figure(figsize=(12,6))\n",
        "\n",
        "plt.plot(maximos, label='Semanal - Máximos')\n",
        "plt.plot(medias, label='Semanal - Médias')\n",
        "plt.legend()\n",
        "plt.show()"
      ]
    },
    {
      "cell_type": "markdown",
      "metadata": {
        "id": "cCQ4zMPSUizA"
      },
      "source": [
        "## Dados categorizados"
      ]
    },
    {
      "cell_type": "markdown",
      "metadata": {
        "id": "lJHqK0SJ5Qug"
      },
      "source": [
        "Os dados categorizados são úteis para representar variáveis que têm um número fixo e limitado de categorias. O *Pandas* oferece suporte para o tipo de dado `category`, permitindo economizar memória e melhorar o desempenho em operações com dados categóricos.\n",
        "\n",
        "> `category` em *Pandas* é o equivalente ao `factor` na linguagem R.\n",
        "\n",
        "Por que usar dados categorizados?\n",
        "\n",
        "* Eficiência de memória: Categorias são armazenadas como índices inteiros internamente, reduzindo o uso de memória.\n",
        "\n",
        "* Desempenho: Operações como comparação e agrupamento são mais rápidas.\n",
        "\n",
        "* **Modelagem**: Modelos de regressão não lidam diretamente com variáveis categóricas. Elas precisam ser convertidas em uma representação numérica, como **one-hot encoding** (cada categoria vira uma coluna binária) ou codificação **ordinal** (são tratadas como números).  \n"
      ]
    },
    {
      "cell_type": "markdown",
      "metadata": {
        "id": "YRS_yQYzzs4E"
      },
      "source": [
        "**Criando Dados Categorizados**"
      ]
    },
    {
      "cell_type": "code",
      "execution_count": null,
      "metadata": {
        "id": "JvG6W2t_zdyA"
      },
      "outputs": [],
      "source": [
        "import pandas as pd\n",
        "import numpy as np\n",
        "\n",
        "## A partir de uma lista\n",
        "categoricas = pd.Series([\"Alto\", \"Médio\", \"Baixo\", \"Médio\"], dtype=\"category\")\n",
        "print(\"Série categórica:\")\n",
        "print(categoricas)  # Aqui o Python não sabe qual é a ordem\n",
        "\n",
        "# Definindo uma ordem explícita (ordinal)\n",
        "categoricas2 = categoricas.cat.set_categories([\"Baixo\", \"Médio\", \"Alto\"],\n",
        "                                             ordered=True)\n",
        "print(\"\\nSérie categórica ordenada:\")\n",
        "print(categoricas2)\n"
      ]
    },
    {
      "cell_type": "markdown",
      "metadata": {
        "id": "Kaaj05mQBnmz"
      },
      "source": [
        "Segmentando variáveis utilizando `.cut`"
      ]
    },
    {
      "cell_type": "code",
      "execution_count": null,
      "metadata": {
        "id": "oeJyFc5YB9Vg"
      },
      "outputs": [],
      "source": [
        "df = pd.DataFrame({\n",
        "    \"Nome\": [\"Ana\", \"Bruno\", \"Carlos\", \"Diana\", \"Eduardo\"],\n",
        "    \"Gênero\": [\"Feminino\", \"Masculino\", \"Masculino\", \"Feminino\", \"Masculino\"],\n",
        "    \"Notas\": [9.5, 5.3, 0.1, 6.1, 7.7]\n",
        "})\n",
        "\n",
        "# Aplicando a função .cut para criar a coluna menção\n",
        "cortes = [0.0, 3.0, 5, 7, 9, 10]\n",
        "classes = [\"II\",\"MI\",\"MM\",\"MS\",\"SS\"]\n",
        "df['Menção'] = pd.cut( df['Notas'], bins=cortes, labels=classes )\n",
        "\n",
        "# Transformando Menção em categorica\n",
        "df[\"Menção\"] = df[\"Menção\"].astype(\"category\")\n",
        "\n",
        "# Transformando Menção em categorica ordinal\n",
        "df.Menção = df.Menção.cat.set_categories([\"SR\",\"II\",\"MI\",\"MM\",\"MS\",\"SS\"],\n",
        "                                               ordered = True)\n",
        "print(\"df:\\n\", df)"
      ]
    },
    {
      "cell_type": "markdown",
      "metadata": {
        "id": "efeWjtSs67Vq"
      },
      "source": [
        "Renomeando as categorias para nomes com mais significado:"
      ]
    },
    {
      "cell_type": "code",
      "execution_count": null,
      "metadata": {
        "id": "THG1pXmy7rx4"
      },
      "outputs": [],
      "source": [
        "from typing_extensions import runtime\n",
        "print(\"df:\\n\", df)\n",
        "\n",
        "new_categories = [\"péssimo\", \"muito ruim\", \"ruim\", \"meia boca\", \"aceitável\", \"bom\"]\n",
        "# SR -> péssimo\n",
        "# II -> muito ruim\n",
        "# MI -> ruim\n",
        "# ...\n",
        "\n",
        "df[\"Menção\"] = df[\"Menção\"].cat.rename_categories(new_categories)\n",
        "\n",
        "print(\"\\ndf:\\n\", df)"
      ]
    },
    {
      "cell_type": "markdown",
      "metadata": {
        "id": "81_7uUtW8e5f"
      },
      "source": [
        "A  ordenação nas categorias é por classe, não alfabética:"
      ]
    },
    {
      "cell_type": "code",
      "execution_count": null,
      "metadata": {
        "id": "WxBpRGWq8zPp"
      },
      "outputs": [],
      "source": [
        "df.sort_values(by=\"Menção\")"
      ]
    },
    {
      "cell_type": "markdown",
      "metadata": {
        "id": "m6feZ8OW8z1v"
      },
      "source": [
        "Agrupamento de variáveis categorizadas com `observed=False` também mostram as categorias vazias:"
      ]
    },
    {
      "cell_type": "code",
      "execution_count": null,
      "metadata": {
        "id": "0O6hdHpK9RxH"
      },
      "outputs": [],
      "source": [
        "df.groupby(\"Menção\", observed=False).size()"
      ]
    },
    {
      "cell_type": "markdown",
      "metadata": {
        "id": "MvucXDs-94Sm"
      },
      "source": [
        "**Codificação one-hot**\n",
        "\n",
        "Neste exemplo, vamos simular que estamos preparando a variável \"Gênero\" para ser utilizada em um modelo de regressão. Por conta disso, vamos transformar ela em dummy:"
      ]
    },
    {
      "cell_type": "code",
      "execution_count": null,
      "metadata": {
        "id": "u_iVzeta9kgC"
      },
      "outputs": [],
      "source": [
        "## Dummies da variável \"Gênero\"\n",
        "df_dummies = pd.get_dummies(df, columns=[\"Gênero\"])\n",
        "print( df_dummies )"
      ]
    },
    {
      "cell_type": "markdown",
      "metadata": {
        "id": "Haw0r4IX_jRu"
      },
      "source": [
        "### Exercício 2\n",
        "\n",
        "Considere o seguinte código que construi um dataframe representando vendas de um loja de eletrônicos:\n",
        "\n",
        "```python\n",
        "import pandas as pd\n",
        "import numpy as np\n",
        "\n",
        "# Criando um DataFrame de exemplo\n",
        "dados = {\n",
        "    \"Produto\": [\"Notebook\", \"Smartphone\", \"Tablet\", \"Notebook\", \"Smartphone\", \"Tablet\", \"Notebook\", \"Smartphone\", \"Tablet\", \"Notebook\"],\n",
        "    \"Loja\": [\"Loja A\", \"Loja B\", \"Loja C\", \"Loja A\", \"Loja B\", \"Loja C\", \"Loja A\", \"Loja B\", \"Loja C\", \"Loja A\"],\n",
        "    \"Vendas\": [1500, 2000, 1000, 1800, 2200, 1200, 1700, 2100, 1300, 1600],\n",
        "    \"Ano\": [2023, 2023, 2023, 2023, 2023, 2023, 2023, 2023, 2023, 2023],\n",
        "    \"Categoria\": [\"Eletrônicos\", \"Eletrônicos\", \"Eletrônicos\", \"Eletrônicos\", \"Eletrônicos\", \"Eletrônicos\", \"Eletrônicos\", \"Eletrônicos\", \"Eletrônicos\", \"Eletrônicos\"],\n",
        "}\n",
        "\n",
        "df = pd.DataFrame(dados)\n",
        "\n",
        "print(\"Conjunto de Dados de Vendas:\")\n",
        "print(df)\n",
        "\n",
        "```\n",
        "\n",
        "Então para o objeto `serie`:\n",
        "\n",
        "1. Converta as colunas \"Loja\" e \"Produto\" para categóricas.\n",
        "\n",
        "2. Faça a coluna \"Produto\" ter a seguinte ordem: \"Tablet\", \"Smartphone\", \"Notebook\".\n",
        "\n",
        "3. Calcule a quantidade de ocorrências de cada nível da coluna \"Loja\" usando `value_counts()`.\n",
        "\n",
        "4. Crie uma nova coluna categórica ordinal chamada `Categoria_Vendas`, onde será categorizado para \"Alto\", \"Médio\" ou \"Baixo\", com base nos seguintes critérios:\n",
        "  * \"Alto\": Vendas > 2000\n",
        "  * \"Médio\": 1500 <= Vendas <= 2000\n",
        "  * \"Baixo\": Vendas < 1500.\n",
        "\n",
        "5. Transforme em dummies as variáveis `Produto` e  `Categoria_Vendas`.    "
      ]
    },
    {
      "cell_type": "code",
      "execution_count": 2,
      "metadata": {},
      "outputs": [
        {
          "name": "stdout",
          "output_type": "stream",
          "text": [
            "Loja\n",
            "Loja A    4\n",
            "Loja B    3\n",
            "Loja C    3\n",
            "Name: count, dtype: int64\n",
            "\n",
            "       Produto    Loja  Vendas Categoria_Vendas\n",
            "0    Notebook  Loja A    1500            Médio\n",
            "1  Smartphone  Loja B    2000            Médio\n",
            "2      Tablet  Loja C    1000            Baixo\n",
            "3    Notebook  Loja A    1800            Médio\n",
            "4  Smartphone  Loja B    2200             Alto\n",
            "5      Tablet  Loja C    1200            Baixo\n",
            "6    Notebook  Loja A    1700            Médio\n",
            "7  Smartphone  Loja B    2100             Alto\n",
            "8      Tablet  Loja C    1300            Baixo\n",
            "9    Notebook  Loja A    1600            Médio\n",
            "\n",
            "       Produto    Loja  Vendas   Ano    Categoria Categoria_Vendas  \\\n",
            "0    Notebook  Loja A    1500  2023  Eletrônicos            Médio   \n",
            "1  Smartphone  Loja B    2000  2023  Eletrônicos            Médio   \n",
            "2      Tablet  Loja C    1000  2023  Eletrônicos            Baixo   \n",
            "3    Notebook  Loja A    1800  2023  Eletrônicos            Médio   \n",
            "4  Smartphone  Loja B    2200  2023  Eletrônicos             Alto   \n",
            "5      Tablet  Loja C    1200  2023  Eletrônicos            Baixo   \n",
            "6    Notebook  Loja A    1700  2023  Eletrônicos            Médio   \n",
            "7  Smartphone  Loja B    2100  2023  Eletrônicos             Alto   \n",
            "8      Tablet  Loja C    1300  2023  Eletrônicos            Baixo   \n",
            "9    Notebook  Loja A    1600  2023  Eletrônicos            Médio   \n",
            "\n",
            "   Produto_Tablet  Produto_Smartphone  Produto_Notebook  \\\n",
            "0           False               False              True   \n",
            "1           False                True             False   \n",
            "2            True               False             False   \n",
            "3           False               False              True   \n",
            "4           False                True             False   \n",
            "5            True               False             False   \n",
            "6           False               False              True   \n",
            "7           False                True             False   \n",
            "8            True               False             False   \n",
            "9           False               False              True   \n",
            "\n",
            "   Categoria_Vendas_Baixo  Categoria_Vendas_Médio  Categoria_Vendas_Alto  \n",
            "0                   False                    True                  False  \n",
            "1                   False                    True                  False  \n",
            "2                    True                   False                  False  \n",
            "3                   False                    True                  False  \n",
            "4                   False                   False                   True  \n",
            "5                    True                   False                  False  \n",
            "6                   False                    True                  False  \n",
            "7                   False                   False                   True  \n",
            "8                    True                   False                  False  \n",
            "9                   False                    True                  False  \n"
          ]
        }
      ],
      "source": [
        "import pandas as pd\n",
        "import numpy as np\n",
        "\n",
        "# Criando um DataFrame de exemplo\n",
        "dados = {\n",
        "    \"Produto\": [\n",
        "        \"Notebook\",\n",
        "        \"Smartphone\",\n",
        "        \"Tablet\",\n",
        "        \"Notebook\",\n",
        "        \"Smartphone\",\n",
        "        \"Tablet\",\n",
        "        \"Notebook\",\n",
        "        \"Smartphone\",\n",
        "        \"Tablet\",\n",
        "        \"Notebook\",\n",
        "    ],\n",
        "    \"Loja\": [\n",
        "        \"Loja A\",\n",
        "        \"Loja B\",\n",
        "        \"Loja C\",\n",
        "        \"Loja A\",\n",
        "        \"Loja B\",\n",
        "        \"Loja C\",\n",
        "        \"Loja A\",\n",
        "        \"Loja B\",\n",
        "        \"Loja C\",\n",
        "        \"Loja A\",\n",
        "    ],\n",
        "    \"Vendas\": [1500, 2000, 1000, 1800, 2200, 1200, 1700, 2100, 1300, 1600],\n",
        "    \"Ano\": [2023, 2023, 2023, 2023, 2023, 2023, 2023, 2023, 2023, 2023],\n",
        "    \"Categoria\": [\n",
        "        \"Eletrônicos\",\n",
        "        \"Eletrônicos\",\n",
        "        \"Eletrônicos\",\n",
        "        \"Eletrônicos\",\n",
        "        \"Eletrônicos\",\n",
        "        \"Eletrônicos\",\n",
        "        \"Eletrônicos\",\n",
        "        \"Eletrônicos\",\n",
        "        \"Eletrônicos\",\n",
        "        \"Eletrônicos\",\n",
        "    ],\n",
        "}\n",
        "\n",
        "df = pd.DataFrame(dados)\n",
        "\n",
        "# print(\"Conjunto de Dados de Vendas:\")\n",
        "# print(df)\n",
        "\n",
        "# 1.\n",
        "df[\"Loja\"] = df[\"Loja\"].astype(\"category\")\n",
        "df[\"Produto\"] = df[\"Produto\"].astype(\"category\")\n",
        "\n",
        "# 2.\n",
        "df[\"Produto\"] = pd.Categorical(df[\"Produto\"], categories=[\"Tablet\", \"Smartphone\", \"Notebook\"], ordered=True)\n",
        "\n",
        "# 3.\n",
        "contagem_lojas = df[\"Loja\"].value_counts()\n",
        "print(contagem_lojas)\n",
        "\n",
        "# 4.\n",
        "df[\"Categoria_Vendas\"] = pd.cut(\n",
        "    df[\"Vendas\"],\n",
        "    bins=[-np.inf, 1499, 2000, np.inf],\n",
        "    labels=[\"Baixo\", \"Médio\", \"Alto\"],\n",
        "    ordered=True\n",
        ")\n",
        "\n",
        "print(\"\\n\", df[[\"Produto\", \"Loja\", \"Vendas\", \"Categoria_Vendas\"]])\n",
        "\n",
        "# 5.\n",
        "dummies_produto = pd.get_dummies(df[\"Produto\"], prefix=\"Produto\")\n",
        "dummies_categoria_vendas = pd.get_dummies(df[\"Categoria_Vendas\"], prefix=\"Categoria_Vendas\")\n",
        "\n",
        "df_dummies = pd.concat([df, dummies_produto, dummies_categoria_vendas], axis=1)\n",
        "\n",
        "print(\"\\n\", df_dummies)"
      ]
    },
    {
      "cell_type": "markdown",
      "metadata": {
        "id": "g7hv1IbvU66m"
      },
      "source": [
        "## Importando e exportando dados"
      ]
    },
    {
      "cell_type": "markdown",
      "metadata": {
        "id": "nh5jmihRU_zW"
      },
      "source": [
        "### Valores separados por vírgula (CSV)"
      ]
    },
    {
      "cell_type": "markdown",
      "metadata": {
        "id": "ZyV_WSno-P3v"
      },
      "source": [
        "Para escrever um arquivo CSV (*valores separados por vírgula*) use `DataFrame.to_csv()`:"
      ]
    },
    {
      "cell_type": "code",
      "execution_count": null,
      "metadata": {
        "id": "dhne78MJ_FIQ"
      },
      "outputs": [],
      "source": [
        "import pandas as pd\n",
        "import numpy as np\n",
        "\n",
        "df = pd.DataFrame(np.random.randint(0, 5, (10, 5)))\n",
        "df.to_csv(\"foo.csv\")"
      ]
    },
    {
      "cell_type": "markdown",
      "metadata": {
        "id": "1S2D7YJU2Sxf"
      },
      "source": [
        "* utilize `sep=\";\"` para separar por ponto e vírgula.\n",
        "* `encoding=\"utf-8-sig\"` pode ser útil para compatibilidade com Excel (Windows)."
      ]
    },
    {
      "cell_type": "markdown",
      "metadata": {
        "id": "Gx2VNrdJ_Gkf"
      },
      "source": [
        "Para ler o arquivo CSV use `pd.read_csv()`:"
      ]
    },
    {
      "cell_type": "code",
      "execution_count": null,
      "metadata": {
        "id": "xIvflSzT_ZSo"
      },
      "outputs": [],
      "source": [
        "pd.read_csv(\"foo.csv\")"
      ]
    },
    {
      "cell_type": "markdown",
      "metadata": {
        "id": "YClZ0B7i4BcH"
      },
      "source": [
        "No caso de um DataFrame com indices, podemos utilizar os seguintes argumentos da função read:\n",
        "* `index_col=0`: usa a primeira coluna como índice.\n",
        "\n",
        "Se for uma série temporal, então também podemos adicionar:\n",
        "* `parse_dates=True`: converte para datetime.\n",
        "\n",
        "> Desta forma, o Pandas irá entender que a primeira coluna se trata de datas que formam o indice da sua série temporal.\n",
        "\n",
        "Veja o exemplo abaixo:"
      ]
    },
    {
      "cell_type": "code",
      "execution_count": null,
      "metadata": {
        "id": "V8RIgYJr3TaI"
      },
      "outputs": [],
      "source": [
        "import pandas as pd\n",
        "import numpy as np\n",
        "\n",
        "# Gerar uma série temporal horaria\n",
        "datas = pd.date_range(\"2023-01-01\", \"2023-01-5\", freq=\"h\")\n",
        "valores = np.random.randint(50, 100, len(datas))\n",
        "serie_temporal = pd.Series(valores, index=datas)\n",
        "\n",
        "df = pd.DataFrame({\n",
        "    \"Produto A\": np.random.randint(50, 100, len(datas)),\n",
        "    \"Produto B\": np.random.randint(60, 120, len(datas)),\n",
        "    \"Produto C\": np.random.randint(30, 90, len(datas)),\n",
        "}, index=datas)\n",
        "\n",
        "## escreve arquivo csv\n",
        "df.to_csv(\"serie_temporal.csv\")\n",
        "\n",
        "## le arquivo\n",
        "df2 = pd.read_csv(\"serie_temporal.csv\", index_col=0, parse_dates=True)\n",
        "\n",
        "print(df2)"
      ]
    },
    {
      "cell_type": "markdown",
      "metadata": {
        "id": "v-At6-FxVQFO"
      },
      "source": [
        "### Excel"
      ]
    },
    {
      "cell_type": "markdown",
      "metadata": {
        "id": "yXCw_f-0BFou"
      },
      "source": [
        "A escrita e leitura de arquivo Excel segue o mesmo formato de argumentos vistos para a função `DataFrame.to_csv()`. A principal diferença é que para Excel podemos apontar a aba de leitura/escrita através do argumento `sheet_name`.\n",
        "\n",
        "Para escrever um arquivo Excel use `DataFrame.to_excel()`:"
      ]
    },
    {
      "cell_type": "code",
      "execution_count": null,
      "metadata": {
        "id": "zpR8CVpRBsUo"
      },
      "outputs": [],
      "source": [
        "df.to_excel(\"foo.xlsx\", sheet_name=\"Sheet1\")"
      ]
    },
    {
      "cell_type": "markdown",
      "metadata": {
        "id": "aPucD9hEBs9f"
      },
      "source": [
        "Para ler um arquivo Excel use `pd.read_excel()`:"
      ]
    },
    {
      "cell_type": "code",
      "execution_count": null,
      "metadata": {
        "id": "9_97oF5-CGQv"
      },
      "outputs": [],
      "source": [
        "pd.read_excel(\"foo.xlsx\", \"Sheet1\", index_col=None)"
      ]
    }
  ],
  "metadata": {
    "colab": {
      "authorship_tag": "ABX9TyO48ucPvj7ridZJJBp1wWyO",
      "include_colab_link": true,
      "provenance": []
    },
    "kernelspec": {
      "display_name": "Python 3",
      "name": "python3"
    },
    "language_info": {
      "codemirror_mode": {
        "name": "ipython",
        "version": 3
      },
      "file_extension": ".py",
      "mimetype": "text/x-python",
      "name": "python",
      "nbconvert_exporter": "python",
      "pygments_lexer": "ipython3",
      "version": "3.12.3"
    }
  },
  "nbformat": 4,
  "nbformat_minor": 0
}
