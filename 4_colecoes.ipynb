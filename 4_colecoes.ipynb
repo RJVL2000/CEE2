{
  "cells": [
    {
      "cell_type": "markdown",
      "metadata": {
        "colab_type": "text",
        "id": "view-in-github"
      },
      "source": [
        "<a href=\"https://colab.research.google.com/github/jafiorucci/CEE2PY125/blob/main/4_colecoes.ipynb\" target=\"_parent\"><img src=\"https://colab.research.google.com/assets/colab-badge.svg\" alt=\"Open In Colab\"/></a>"
      ]
    },
    {
      "cell_type": "markdown",
      "metadata": {
        "id": "ggyndaXSYDt0"
      },
      "source": [
        "# Coleções\n",
        "\n",
        "Uma coleção é uma estrutura de dados que agrupa múltiplos valores em uma única variável, permitindo armazenar, acessar e manipular conjuntos de dados de forma organizada.\n",
        "\n",
        "Dentre as coleções mais comuns estão as listas, tuplas, conjuntos e dicionários.\n",
        "\n",
        "  ## Índices:\n",
        "\n",
        "  - No caso das listas e outros tipos de vetores, os elementos são acessados por meio de índices, que começam em 0. Isso significa que o primeiro elemento está na posição 0, o segundo na posição 1, e assim por diante.\n",
        "\n",
        "  - Também é possível utilizar índices negativos, onde -1 representa o último elemento da lista, -2 o penúltimo, e assim por diante."
      ]
    },
    {
      "cell_type": "markdown",
      "metadata": {
        "id": "b1gBeTabvwKd"
      },
      "source": [
        "## Listas"
      ]
    },
    {
      "cell_type": "markdown",
      "metadata": {
        "id": "-PYNGIrlvy25"
      },
      "source": [
        "As listas são usadas quando você precisa de uma estrutura de dados ordenada (ordem inclusão) e mutável. Elas são a estrutura mais flexível, permitindo alterações em seus elementos, como adicionar, remover ou modificar valores.\n",
        "\n",
        "As **listas** (`list`) são coleções:\n",
        "\n",
        "* **ordenadas**: os elementos mantém a ordem de inclusão.\n",
        "\n",
        "* **elementos podem ser alterados**: o valor dos elementos podem ter seus valores alterados.\n",
        "\n",
        "* **permite duplicação dos elementos**: os elementos podem ter valores repetidos."
      ]
    },
    {
      "cell_type": "markdown",
      "metadata": {
        "id": "dkTRT0XF12XC"
      },
      "source": [
        "Os métodos definidos na classe `list` são:\n",
        "\n",
        "* `append()`: Adiciona um elemento no final da lista.\n",
        "* `clear()`: Remove todos os elementos da lista.\n",
        "* `copy()`: Retorna uma cópia da lista.\n",
        "* `count()`: Retorna o número de elementos com o valor especificado.\n",
        "* `extend()`: Adiciona os elementos de um conjunto de dados ao final da lista.\n",
        "* `index()`: Retorna o índice do primeiro elemento com o valor especificado.\n",
        "* `insert()`: Adiciona um elemento na posição especificada.\n",
        "* `pop()`: Remove e retorna o elemento na posição especificada. Se não especificado, então remove o ultimo elemento.\n",
        "* `remove():` Remove o primeiro elemento com o valor especificado.\n",
        "* `reverse()`: Inverte a ordem da lista.\n",
        "* `sort()`: Ordena a lista."
      ]
    },
    {
      "cell_type": "markdown",
      "metadata": {
        "id": "nP3l5XZR7aoh"
      },
      "source": [
        "As listas são criadas usando `[]` ou `list()`. Veja os exemplos abaixo."
      ]
    },
    {
      "cell_type": "code",
      "execution_count": null,
      "metadata": {
        "id": "ObjKZskBv2rb"
      },
      "outputs": [],
      "source": [
        "v1 = [\"Fortran\", \"Python\", \"R\", \"Python\"]\n",
        "v2 = list((\"Fortran\", \"Python\", \"R\", \"Python\"))\n",
        "\n",
        "print(v1)    # Exibe a lista v1.\n",
        "print(v2)    # Exibe a lista v2.\n",
        "\n",
        "print(type(v1))    # Exibe \"<class 'list'> indicando que é lista.\n",
        "print(type(v2))    # Exibe \"<class 'list'> indicando que é lista."
      ]
    },
    {
      "cell_type": "code",
      "execution_count": null,
      "metadata": {
        "id": "kwbNzr1Xyvq9"
      },
      "outputs": [],
      "source": [
        "v = [\"Fortran\", \"Python\", \"R\", \"Python\"]\n",
        "\n",
        "## acessando posições de um lista\n",
        "print(v[0])    # Exibe 'Fortran'\n",
        "print(v[1])    # Exibe 'Python'\n",
        "print(v[2])    # Exibe 'R'\n",
        "print(v[3])    # Exibe 'Python'\n",
        "\n",
        "## print(v[4])) # gera um erro pois essa posição não existe na lista v"
      ]
    },
    {
      "cell_type": "code",
      "execution_count": null,
      "metadata": {
        "id": "7EavSk1TzCiz"
      },
      "outputs": [],
      "source": [
        "v = [\"Fortran\", \"Python\", \"R\", \"Python\"]\n",
        "\n",
        "## acessando posições de um lista\n",
        "print(v[-1])    # Exibe 'Python'\n",
        "print(v[-2])    # Exibe 'R'\n",
        "print(v[-3])    # Exibe 'Python'\n",
        "print(v[-4])    # Exibe 'Fortran'\n",
        "\n",
        "## print(v[-5])) # gera um erro pois essa posição não existe na lista"
      ]
    },
    {
      "cell_type": "code",
      "execution_count": null,
      "metadata": {
        "id": "dGWIpR8W0aoK"
      },
      "outputs": [],
      "source": [
        "v = [\"Fortran\", \"Python\", \"R\", \"Python\"]\n",
        "\n",
        "print(v)     # exibe a lista original\n",
        "\n",
        "v[1] = \"C++\" # altera o segundo elemento da lista\n",
        "\n",
        "print(v)     # exibe a lista alterada"
      ]
    },
    {
      "cell_type": "code",
      "execution_count": null,
      "metadata": {
        "id": "Ldw9kp5312XC"
      },
      "outputs": [],
      "source": [
        "v1 = [\"Cobol\", \"Fortran\", \"Python\"]\n",
        "v2 = [\"A\", \"B\", \"C\", \"D\"]\n",
        "\n",
        "v1.append(\"R\")               # v1 = ['Cobol', 'Fortran', 'Python', 'R']\n",
        "v2.clear()                   # v2 = []\n",
        "v3 = v1.copy()               # v3 = ['Cobol', 'Fortran', 'Python', 'R']\n",
        "\n",
        "print( v1.count(\"R\") )       # => 1  ('R' aparece 1 vez)\n",
        "print(\"------\")\n",
        "\n",
        "v1.extend([\"Java\", \"C\"])     # v1 = ['Cobol', 'Fortran', 'Python', 'R', 'Java', 'C']\n",
        "print(v1.index(\"Python\"))    # => 2 ('Python' está na posição 2)\n",
        "print(\"------\")\n",
        "\n",
        "v1.insert(1, \"C#\")           # v1 = ['Cobol', 'C#', 'Fortran', 'Python', 'R', 'Java', 'C']\n",
        "print(v1.pop(1))             # v1 = ['Cobol', 'Fortran', 'Python', 'R', 'Java', 'C'] => 'C#'\n",
        "print(\"------\")\n",
        "\n",
        "v1.remove(\"Fortran\")         # v1 = ['Cobol', 'Python', 'R', 'Java', 'C']\n",
        "v1.reverse()                 # v1 = ['C', 'Java', 'R', 'Python', 'Cobol']\n",
        "v1.sort()                    # v1 = ['C', 'Cobol', 'Java', 'Python', 'R']\n",
        "\n",
        "print(\"v1 = \", v1)           # Exibe v1 = ['C', 'Cobol', 'Java', 'Python', 'R']\n",
        "print(\"v2 = \", v2)           # Exibe v2 = []\n",
        "print(\"v3 = \", v3)           # Exibe v3 = ['Cobol', 'Fortran', 'Python', 'R']"
      ]
    },
    {
      "cell_type": "markdown",
      "metadata": {
        "id": "R8GIWJI193Ig"
      },
      "source": [
        "**Pilhas utilizando `list`**\n",
        "\n",
        "Os métodos de lista tornam fácil usar uma lista como uma **pilha**, onde o último elemento adicionado é o primeiro elemento recuperado (“último a entrar, primeiro a sair”). Para adicionar um item ao topo da pilha, use `append()`. Para recuperar um item do topo da pilha, use `pop()` sem um índice explícito. Por exemplo:"
      ]
    },
    {
      "cell_type": "code",
      "execution_count": null,
      "metadata": {
        "id": "0zK0ddpz-W1N"
      },
      "outputs": [],
      "source": [
        "pilha = []            ## inicializa uma lista vazia\n",
        "pilha.append(3)       ## atualiza para [3]\n",
        "pilha.append(4)       ## atualiza para [3, 4]\n",
        "pilha.append(5)       ## atualiza para [3, 4, 5]\n",
        "pilha.append(6)       ## atualiza para [3, 4, 5, 6]\n",
        "pilha.append(7)       ## atualiza para [3, 4, 5, 6, 7]\n",
        "print( pilha )        ## printa [3, 4, 5, 6, 7]\n",
        "\n",
        "pilha.pop()           ## remove o 7\n",
        "pilha.pop()           ## remove o 6\n",
        "print( pilha )        ## printa [3, 4, 5]\n",
        "\n",
        "pilha.pop()           ## remove o 5\n",
        "pilha.pop()           ## remove o 4\n",
        "pilha.pop()           ## remove o 3\n",
        "print( pilha )        ## printa []\n"
      ]
    },
    {
      "cell_type": "markdown",
      "metadata": {
        "id": "u1BW2jla3Wuh"
      },
      "source": [
        "### Exercício 1: Modificando uma lista\n",
        "\n",
        "Dada a lista `frutas = [\"maçã\", \"banana\", \"laranja\", \"uva\"]`, faça o seguinte:\n",
        "\n",
        "* Substitua a fruta \"banana\" por \"abacaxi\".\n",
        "* Adicione a fruta \"morango\" ao final da lista.\n",
        "* Exiba a lista resultante.\n",
        "* Coloque a lista em ordem alfabética.\n",
        "* Substitua a fruta \"maçã\" por \"pera\".\n",
        "* Exiba a lista e verifique se ainda esta ordenada. Caso não esteja, então ordene e exiba novamente.\n",
        "\n",
        "\n"
      ]
    },
    {
      "cell_type": "code",
      "execution_count": 1,
      "metadata": {},
      "outputs": [
        {
          "name": "stdout",
          "output_type": "stream",
          "text": [
            "['maçã', 'abacaxi', 'laranja', 'uva', 'morango']\n",
            "['abacaxi', 'laranja', 'pera', 'morango', 'uva']\n",
            "['abacaxi', 'laranja', 'morango', 'pera', 'uva']\n"
          ]
        }
      ],
      "source": [
        "frutas = [\"maçã\", \"banana\", \"laranja\", \"uva\"]\n",
        "frutas = [\"abacaxi\" if x == \"banana\" else x for x in frutas]\n",
        "\n",
        "frutas.append(\"morango\")\n",
        "\n",
        "print(frutas)\n",
        "\n",
        "frutas.sort()\n",
        "\n",
        "frutas = [\"pera\" if x == \"maçã\" else x for x in frutas]\n",
        "\n",
        "print(frutas)\n",
        "frutas.sort()\n",
        "print(frutas)"
      ]
    },
    {
      "cell_type": "markdown",
      "metadata": {
        "id": "HWqa_8owwjba"
      },
      "source": [
        "## Tuplas"
      ]
    },
    {
      "cell_type": "markdown",
      "metadata": {
        "id": "aFaI2sXAw4Fu"
      },
      "source": [
        "**Tuplas** (`tuple`) são similares às listas, mas com a diferença de serem imutáveis, ou seja, seus valores não podem ser alterados após a criação. Temos então as seguintes propriedades para a classe `tuble`:\n",
        "\n",
        "* **ordenadas**: os elementos mantém a ordem de inclusão.\n",
        "\n",
        "* **elementos não podem ser alterados**: o valor dos elementos não podem ter seus valores alterados.\n",
        "\n",
        "* **permite duplicação dos elementos**: os elementos podem ter valores repetidos.\n",
        "\n"
      ]
    },
    {
      "cell_type": "markdown",
      "metadata": {
        "id": "qtwICsiCrgUe"
      },
      "source": [
        "Os métodos definidos na classe **tupla** são:\n",
        "\n",
        "* `count()`: Retorna o número de elementos com o valor especificado.\n",
        "* `index()`: Retorna o índice do primeiro elemento com o valor especificado.\n"
      ]
    },
    {
      "cell_type": "markdown",
      "metadata": {
        "id": "CRxr89p5r1AY"
      },
      "source": [
        "As **tuplas** são criadas usando apenas virgulas ou `()` ou `tuple()`:"
      ]
    },
    {
      "cell_type": "code",
      "execution_count": null,
      "metadata": {
        "id": "xNUzGHMuwwGG"
      },
      "outputs": [],
      "source": [
        "v0 = \"Fortran\", \"Python\", \"R\", \"Python\"\n",
        "v1 = (\"Fortran\", \"Python\", \"R\", \"Python\")\n",
        "v2 = tuple((\"Fortran\", \"Python\", \"R\", \"Python\"))\n",
        "\n",
        "print(v0)    # Exibe a tupla v0.\n",
        "print(v1)    # Exibe a tupla v1.\n",
        "print(v2)    # Exibe a tupla v2.\n",
        "\n",
        "print(type(v0))    # Exibe \"<class 'tuple'> indicando que é tupla.\n",
        "print(type(v1))    # Exibe \"<class 'tuple'> indicando que é tupla.\n",
        "print(type(v2))    # Exibe \"<class 'tuple'> indicando que é tupla."
      ]
    },
    {
      "cell_type": "markdown",
      "metadata": {
        "id": "e4rKizuhr1AZ"
      },
      "source": [
        "Os elementos de uma **tupla** podem ser *desempacotados* em um conjunto de variáveis:"
      ]
    },
    {
      "cell_type": "code",
      "execution_count": null,
      "metadata": {
        "id": "WnGN4BWpr1AZ"
      },
      "outputs": [],
      "source": [
        "frutas = (\"maçã\", \"banana\", \"cereja\")\n",
        "(verde, amarelo, vermelho) = frutas\n",
        "\n",
        "print(verde)       # Exibe 'maçã'\n",
        "print(amarelo)     # Exibe 'banana'\n",
        "print(vermelho)    # Exibe 'cereja'"
      ]
    },
    {
      "cell_type": "markdown",
      "metadata": {
        "id": "OInib-XEr1AZ"
      },
      "source": [
        "Se existem múltiplos elementos, os elementos finais da **tupla** podem ser atribuídos à uma lista:"
      ]
    },
    {
      "cell_type": "code",
      "execution_count": null,
      "metadata": {
        "id": "arqd7rfvr1AZ"
      },
      "outputs": [],
      "source": [
        "frutas = (\"maçã\", \"banana\", \"cereja\", \"morango\", \"framboesa\")\n",
        "(verde, amarelo, *vermelho) = frutas\n",
        "\n",
        "print(verde)\n",
        "print(amarelo)\n",
        "print(vermelho)"
      ]
    },
    {
      "cell_type": "code",
      "execution_count": null,
      "metadata": {
        "id": "iAtfmMhFr1AZ"
      },
      "outputs": [],
      "source": [
        "v = (\"Cobol\", \"Fortran\", \"Python\", \"Python\", \"Python\")\n",
        "\n",
        "print(v[0])    # Exibe 'Cobol'\n",
        "print(v[1])    # Exibe 'Fortran\n",
        "print(v[-1])   # Exibe 'Python'\n",
        "print(v[1:4])  # Exibe ('Fortran', 'Python', 'Python')\n",
        "\n",
        "print(v.count(\"Python\"))    # Exibe 3 ('Python' ocorre 3 vezes)\n",
        "print(v.index(\"Python\"))    # Exibe 2 (a primeira ocorrência de 'Python' está na posição 2)"
      ]
    },
    {
      "cell_type": "markdown",
      "metadata": {
        "id": "--N32RVhwQZ5"
      },
      "source": [
        "### Exercício 2: Trabalhando com tupla\n",
        "\n",
        "Dada a tupla `dados = (\"Maria\", 28, \"Engenheira\", \"São Paulo\")`:\n",
        "- Exiba o índice onde está o valor \"Engenheira\" na tupla.\n",
        "- Faça o desempacotamento da tupla nas variáveis: nome, idade, profissao e cidade.\n",
        "- Utilize f-string para formar e apresentar a seguinte frase: \"Maria tem 28 anos, é Engenheira e mora em São Paulo.\"\n",
        "\n"
      ]
    },
    {
      "cell_type": "code",
      "execution_count": 2,
      "metadata": {},
      "outputs": [
        {
          "name": "stdout",
          "output_type": "stream",
          "text": [
            "2\n"
          ]
        },
        {
          "data": {
            "text/plain": [
              "'Maria tem 28 anos, é Engenheira e mora em São Paulo'"
            ]
          },
          "execution_count": 2,
          "metadata": {},
          "output_type": "execute_result"
        }
      ],
      "source": [
        "dados = (\"Maria\", 28, \"Engenheira\", \"São Paulo\")\n",
        "print(dados.index('Engenheira'))\n",
        "\n",
        "nome, idade, profissao, cidade = dados\n",
        "\n",
        "f\"{nome} tem {idade} anos, é {profissao} e mora em {cidade}\""
      ]
    },
    {
      "cell_type": "markdown",
      "metadata": {
        "id": "3Cc1ByHexKaG"
      },
      "source": [
        "## Conjuntos"
      ]
    },
    {
      "cell_type": "markdown",
      "metadata": {
        "id": "Zec9oUtaxRNt"
      },
      "source": [
        "Os **conjuntos** (`set`) são coleções desordenadas de itens únicos, o que significa que eles não mantêm uma ordem específica e não permitem elementos duplicados. Temos então as seguintes propriedades para a classe `set`:\n",
        "\n",
        "* **não ordenadas**: os elementos mantém uma ordem aleatória.\n",
        "\n",
        "* **elementos não podem ser alterados**: o valor dos elementos não podem ter seus valores alterados, embora possam ser incluídos ou excluídos do conjunto.\n",
        "\n",
        "* **não permite duplicação dos elementos**: os elementos não podem ter valores repetidos; são incluídos uma única vez."
      ]
    },
    {
      "cell_type": "markdown",
      "metadata": {
        "id": "VN_-Ld7zxBAC"
      },
      "source": [
        "Os principais métodos definidos na classe `set` são:\n",
        "\n",
        "* `add()`: adiciona um elemento ao conjunto.\n",
        "* `clear()`: remove todos os elementos do conjunto.\n",
        "* `copy()`: retorna uma cópia do conjunto.\n",
        "* `difference()`: retorna um conjunto contendo a diferença entre dois ou mais conjuntos.\n",
        "* `discard()`: Remove um item especificado.\n",
        "* `intersection()`: retorna um conjunto com aintersecção entre dois conjuntos.\n",
        "* `isdisjoint()`: verifica se os conjuntos são disjuntos.\n",
        "* `issubset()`: verifica se o conjunto está contido em outro conjunto.\n",
        "* `issuperset()`: verifica se o conjunto contém outro conjunto.\n",
        "* `remove()`: remove o elemento especificado.\n",
        "* `union()`: Retorna um conjunto com a união entre conjuntos.\n",
        "* `update()`: Atualiza o conjunto acrescentando outros conjuntos."
      ]
    },
    {
      "cell_type": "markdown",
      "metadata": {
        "id": "0qSLcJ8bwaks"
      },
      "source": [
        "Os **conjuntos** são criados usando `{}` ou `set()`:"
      ]
    },
    {
      "cell_type": "code",
      "execution_count": null,
      "metadata": {
        "id": "HBWinuxuxIqP"
      },
      "outputs": [],
      "source": [
        "v1 = {\"Fortran\", \"Python\", \"R\", \"Python\"}\n",
        "v2 = set((\"Fortran\", \"Python\", \"R\", \"Python\"))\n",
        "\n",
        "print(v1)    # Exibe o conjunto v1.\n",
        "print(v2)    # Exibe o conjunto v2.\n",
        "\n",
        "print(type(v1))    # Exibe \"<class 'set'> indicando que é conjunto.\n",
        "print(type(v2))    # Exibe \"<class 'set'> indicando que é conjunto."
      ]
    },
    {
      "cell_type": "markdown",
      "metadata": {
        "id": "Hrqa9hJZw0Xk"
      },
      "source": [
        "Elementos repetidos em um conjunto são ignorados:"
      ]
    },
    {
      "cell_type": "code",
      "execution_count": null,
      "metadata": {
        "id": "ECymgIMRw35q"
      },
      "outputs": [],
      "source": [
        "v = {1, 2, 3, 3, 4, 5}\n",
        "print(v)"
      ]
    },
    {
      "cell_type": "code",
      "execution_count": null,
      "metadata": {
        "id": "5ViHQpgcydy2"
      },
      "outputs": [],
      "source": [
        "s1 = {\"A\", \"B\", \"C\", \"D\", \"E\"}\n",
        "s2 = {\"A\", \"B\", \"C\"}\n",
        "s3 = {\"X\", \"Y\", \"Z\"}\n",
        "\n",
        "s3.add(\"W\")                           # s3 = {'X', 'W', 'Y', 'Z'}\n",
        "print(\"s3: \", s3)                     # exibe: s3:  {'W', 'X', 'Y', 'Z'}\n",
        "s3.clear()                            # s3 = {}\n",
        "print(\"s3: \", s3)                     # exibe: s3:  set()\n",
        "\n",
        "s3 = s2.copy()                        # s3 = {'A', 'B', 'C'}\n",
        "print(\"s3: \", s3)                     # exibe: s3:  {'A', 'B', 'C'}\n",
        "\n",
        "s3 = s1.difference(s2)                # s3 = {'D', 'E'}\n",
        "print(\"s3: \", s3)                     # exibe: s3:  {'D', 'E'}\n",
        "\n",
        "s3.discard(\"D\")                       # s3 = {'E'}\n",
        "print(\"s3: \", s3)                     # exibe: s3:  {'E'}\n",
        "\n",
        "print(\"s2 inter s1 :\", s2.intersection(s1))  # exibe:  {\"A\", \"B\", \"C\"}"
      ]
    },
    {
      "cell_type": "code",
      "execution_count": null,
      "metadata": {
        "id": "crscGfzva8vd"
      },
      "outputs": [],
      "source": [
        "s1 = {\"A\", \"B\", \"C\", \"D\", \"E\"}\n",
        "s2 = {\"A\", \"B\", \"C\"}\n",
        "\n",
        "print(s1.isdisjoint(s2))              # s1 disjunto s2? => False\n",
        "\n",
        "print(s1.issubset(s2))                # s1 contido s2? => False\n",
        "\n",
        "print(s2.issubset(s1))                # s2 contido s1? => True\n",
        "\n",
        "print(s1.issuperset(s2))              # s2 contido s1? => True\n",
        "\n",
        "s1.remove(\"C\")                        # s1 = {\"A\", \"B\", \"D\", \"E\"}\n",
        "print(\"s1: \", s1)                     # exibe: s1:  {'A', 'B', 'D', 'E'}\n",
        "\n",
        "s1.update(s2)                         # s1 = {'A', 'B', 'C', 'D', 'E'}\n",
        "print(\"s1 uniao s2:\", s1.union(s2))   # exibe: s1 uniao s2: {'A', 'B', 'C', 'D', 'E'}\n",
        "\n",
        "print(\"s1 = \", s1)    # Exibe o conjunto s1.\n",
        "print(\"s2 = \", s2)    # Exibe o conjunto s2."
      ]
    },
    {
      "cell_type": "markdown",
      "metadata": {
        "id": "POy_ymRgzlR3"
      },
      "source": [
        "### Exercício 3: Operações com `set`.\n",
        "\n",
        "Crie um set chamado `frutas` contendo as frutas `\"maçã\", \"banana\", \"laranja\"` e `\"uva\"` e então:\n",
        "* exiba o conteúdo;\n",
        "* adicione a fruta \"abacaxi\" e exiba o resultado;\n",
        "* remova o elemento \"banana\" e exiba o resultado;\n",
        "* faça a união do set `frutas` com o set `vermelhas = {\"morango\", \"cereja\", \"amora\"}`, guarde em `frutas` e exiba o resultado;\n",
        "* exiba a interseção do conjunto `frutas` com o conjunto `frutas2 = {\"banana\", \"pera\", \"morango\"}`."
      ]
    },
    {
      "cell_type": "code",
      "execution_count": 3,
      "metadata": {},
      "outputs": [
        {
          "name": "stdout",
          "output_type": "stream",
          "text": [
            "{'uva', 'maçã', 'laranja', 'banana'}\n",
            "{'laranja', 'banana', 'abacaxi', 'uva', 'maçã'}\n",
            "{'laranja', 'abacaxi', 'uva', 'maçã'}\n",
            "{'uva', 'laranja', 'amora', 'maçã', 'cereja', 'abacaxi', 'morango'}\n",
            "{'morango'}\n"
          ]
        }
      ],
      "source": [
        "frutas = {\"maçã\", \"banana\", \"laranja\", \"uva\"}\n",
        "print(frutas)\n",
        "\n",
        "frutas.add(\"abacaxi\")\n",
        "print(frutas)\n",
        "\n",
        "frutas.remove(\"banana\")\n",
        "print(frutas)\n",
        "\n",
        "vermelhas = {\"morango\", \"cereja\", \"amora\"}\n",
        "frutas = frutas.union(vermelhas)\n",
        "print(frutas)\n",
        "\n",
        "frutas2 = {\"banana\", \"pera\", \"morango\"}\n",
        "print(frutas.intersection(frutas2))"
      ]
    },
    {
      "cell_type": "markdown",
      "metadata": {
        "id": "A06PHVNqxeKM"
      },
      "source": [
        "## Dicionário"
      ]
    },
    {
      "cell_type": "markdown",
      "metadata": {
        "id": "XbyqxTOZxh2-"
      },
      "source": [
        "Os **dicionários** (*dict*) são coleções de (*chave*, *valor*) que são ordenadas e mutáveis. Não permite duplicações de suas chaves. Temos então as seguintes propriedades para a classe `dict`:\n",
        "\n",
        "* **ordenadas**: os elementos mantém a ordem de inclusão (*a partir da versão 3.7 do Python*).\n",
        "\n",
        "* **elementos podem ser alterados**: o valor dos elementos podem ter seus valores alterados.\n",
        "\n",
        "* **não permite duplicação das chaves**: as chaves não podem ser repetidas."
      ]
    },
    {
      "cell_type": "markdown",
      "metadata": {
        "id": "8KzC0BzT535a"
      },
      "source": [
        "Os métodos definidos na classe `dict` são:\n",
        "\n",
        "* `clear()`: Remove todos os elementos do dicionário.\n",
        "* `copy()`: Retorna uma cópia do dicionário.\n",
        "* `get()`: Retorna o valor de uma chave específica.\n",
        "* `items()`: Retorna uma lista contendo uma tupla para cada par `(chave, valor)`.\n",
        "* `keys()`: Retorna uma lista contendo as chaves do dicionário.\n",
        "* `pop()`: Remove o elemento na chave especificada.\n",
        "* `popitem()`: Remove o último elemento inserido.\n",
        "* `setdefault()`: Retorna o valor da chave especificada. Se a chave não existir, então insere a chave com o valor especificado.\n",
        "* `update()`: Atualiza o dicionário com os pares `(chave, valor)` especificados.\n",
        "* `values()`: Retorna uma lista de todos os valores no dicionário"
      ]
    },
    {
      "cell_type": "markdown",
      "metadata": {
        "id": "65TKIvwgjGp4"
      },
      "source": [
        "Os **dicionários** são criados usando `{}` informando pares do tipo `chave: valor`; também podem ser criados com `dict()`:"
      ]
    },
    {
      "cell_type": "code",
      "execution_count": null,
      "metadata": {
        "id": "lz57mxFJxvVX"
      },
      "outputs": [],
      "source": [
        "v1 = {\"name\" : \"R\", \"version\" : 2.7, \"name\" : \"Python\"}\n",
        "v2 = dict(name = \"Python\", version = 2.7)\n",
        "# v2 = dict(name = \"R\", version = 2.7, name = \"Python\")  ## ERRO: chave duplicada !!\n",
        "\n",
        "print(v1)    # Exibe o dicionário v1.\n",
        "print(v2)    # Exibe o dicionário v2.\n",
        "\n",
        "print(type(v1))    # Exibe \"<class 'dict'> indicando que é dicionário.\n",
        "print(type(v2))    # Exibe \"<class 'dict'> indicando que é dicionário."
      ]
    },
    {
      "cell_type": "markdown",
      "metadata": {
        "id": "zcMRhL01gfJW"
      },
      "source": [
        "O comando `dict.fromkeys()` permite criar dicionários com valores iguais para todas as chaves."
      ]
    },
    {
      "cell_type": "code",
      "execution_count": null,
      "metadata": {
        "id": "0S0LKeiDg3GQ"
      },
      "outputs": [],
      "source": [
        "# Criar dicionário com chaves e valor padrão None\n",
        "chaves = [\"nome\", \"idade\", \"cidade\"]\n",
        "dicionario1 = dict.fromkeys(chaves)\n",
        "print(dicionario1)\n",
        "# Saída: {'nome': None, 'idade': None, 'cidade': None}\n",
        "\n",
        "# Criar dicionário com valor padrão personalizado\n",
        "dicionario2 = dict.fromkeys(chaves, \"desconhecido\")\n",
        "print(dicionario2)\n",
        "# Saída: {'nome': 'desconhecido', 'idade': 'desconhecido', 'cidade': 'desconhecido'}"
      ]
    },
    {
      "cell_type": "markdown",
      "metadata": {
        "id": "5V9C5Rtt5mz0"
      },
      "source": [
        "Os valores em um dicionário são acessíveis através da chave:"
      ]
    },
    {
      "cell_type": "code",
      "execution_count": null,
      "metadata": {
        "id": "OM84vYxO5rpF"
      },
      "outputs": [],
      "source": [
        "carro_1 = dict(marca = \"Ford\", modelo = \"Mustang\", ano = 1967)\n",
        "carro_2 = dict(marca = \"Toyota\", modelo = \"Corolla\", ano = 2022)\n",
        "\n",
        "print(carro_1[\"marca\"])   # Exibe 'Ford'\n",
        "print(carro_2[\"modelo\"])  # Exibe 'Corolla'"
      ]
    },
    {
      "cell_type": "code",
      "execution_count": null,
      "metadata": {
        "id": "g2ZSugLA6rKd"
      },
      "outputs": [],
      "source": [
        "carro = dict(marca = \"Ford\", modelo = \"Mustang\", ano = 1967)\n",
        "\n",
        "print(carro.get(\"modelo\"))                   # => 'Mustang'\n",
        "print(carro.items())                            # => dict_items([('marca', 'Ford'), ('modelo', 'Mustang'), ('ano', 1967)])\n",
        "print(carro.keys())                             # => dict_keys(['marca', 'modelo', 'ano'])\n",
        "\n",
        "carro.pop(\"modelo\")\n",
        "print(carro)                                # {'marca': 'Ford', 'ano': 1967}"
      ]
    },
    {
      "cell_type": "code",
      "execution_count": null,
      "metadata": {
        "id": "8rATdfhziCo5"
      },
      "outputs": [],
      "source": [
        "carro = dict(marca = \"Ford\", modelo = \"Mustang\", ano = 1967)\n",
        "\n",
        "carro.popitem()\n",
        "print(carro)                              # {'marca': 'Ford', 'modelo': 'Mustang'}\n",
        "\n",
        "carro.setdefault(\"ano\", 2020)\n",
        "carro.setdefault(\"marca\", \"Fiat\")\n",
        "print(carro)                              # {'marca': 'Ford', 'modelo': 'Mustang', 'ano': 2020}\n",
        "\n",
        "carro.update({\"modelo\": \"Bronco\"})\n",
        "carro.update({\"tipo\": \"SUV\"})\n",
        "print(carro)                              # {'marca': 'Ford', 'modelo': 'Bronco', 'ano': 2020, 'tipo': 'SUV'}\n",
        "\n",
        "print(carro.values())                     # ict_values(['Ford', 'Bronco', 2020, 'SUV'])"
      ]
    },
    {
      "cell_type": "markdown",
      "metadata": {
        "id": "-RT7mE5ElEs8"
      },
      "source": [
        "### Comando zip()\n",
        "\n",
        "O `zip()` é uma função embutida em Python que permite agrupar elementos de duas ou mais coleções (como listas, tuplas) e formar listas, tuplas ou dicionários.\n",
        "\n",
        "Ele é útil quando você quer associar dados paralelamente, como unir uma lista de chaves com uma lista de valores para criar um dicionário, por exemplo."
      ]
    },
    {
      "cell_type": "code",
      "execution_count": null,
      "metadata": {
        "id": "q9PRmK6Rlfsl"
      },
      "outputs": [],
      "source": [
        "nomes = [\"Ana\", \"Bruno\", \"Carlos\"]\n",
        "idades = [25, 30, 22]\n",
        "\n",
        "lista = list(zip(nomes, idades))  ## lista de tuplas\n",
        "print( \"lista:\", lista)\n",
        "\n",
        "tupla = tuple(zip(nomes, idades))  ## tupla de tuplas\n",
        "print( \"tupla:\", tupla)\n",
        "\n",
        "dicionario = dict(zip(nomes, idades))\n",
        "print( dicionario )  ## dicionário"
      ]
    },
    {
      "cell_type": "markdown",
      "metadata": {
        "id": "QZTnQUdUka2B"
      },
      "source": [
        "### Exercício 4: Operações com dict\n",
        "\n",
        "Crie um dicionário chamado `aluno` com as chaves `\"nome\", \"idade\"` e `\"nota\"`, e os respectivos valores `\"Ana\"`, `20` e `8.5`. Então:\n",
        "\n",
        "* exiba o dicionário completo;\n",
        "* exiba apenas a nota;\n",
        "* adicione uma nova chave `curso` com o valor `matematica` e exiba o dicionário autalizado;\n",
        "* altera a `idade` para `21` e exiba o dicionário atualizado;\n",
        "* remova a chave `nota` e exiba o dicionário atualizado;\n",
        "* inclua a chave `notas` com os valores `[8.5, 9.0]`  e exiba o dicionário autalizado."
      ]
    },
    {
      "cell_type": "code",
      "execution_count": 4,
      "metadata": {},
      "outputs": [
        {
          "name": "stdout",
          "output_type": "stream",
          "text": [
            "{'nome': 'Ana', 'idade': 20, 'nota': 8.5}\n",
            "8.5\n",
            "{'nome': 'Ana', 'idade': 20, 'nota': 8.5, 'curso': 'matematica'}\n",
            "{'nome': 'Ana', 'idade': 21, 'nota': 8.5, 'curso': 'matematica'}\n",
            "{'nome': 'Ana', 'idade': 21, 'curso': 'matematica'}\n",
            "{'nome': 'Ana', 'idade': 21, 'curso': 'matematica', 'notas': [8.5, 9.0]}\n"
          ]
        }
      ],
      "source": [
        "aluno = {\"nome\": \"Ana\", \"idade\": 20, \"nota\": 8.5}\n",
        "print(aluno)\n",
        "\n",
        "print(aluno[\"nota\"])\n",
        "\n",
        "aluno[\"curso\"] = \"matematica\"\n",
        "print(aluno)\n",
        "\n",
        "aluno[\"idade\"] = 21\n",
        "print(aluno)\n",
        "\n",
        "aluno.pop(\"nota\")\n",
        "print(aluno)\n",
        "\n",
        "aluno[\"notas\"] = [8.5, 9.0]\n",
        "print(aluno)"
      ]
    },
    {
      "cell_type": "markdown",
      "metadata": {
        "id": "ZeHV1sG0x3LK"
      },
      "source": [
        "## Range"
      ]
    },
    {
      "cell_type": "markdown",
      "metadata": {
        "id": "hdEQQTq8x7tk"
      },
      "source": [
        "Range é uma estrutura de sequência utilizada principalmente para a construção de índices ou loopings. Essas sequências são criadas utilizando a seguinte função:\n",
        "\n",
        "`range(start, stop, step)`.\n",
        "\n",
        "Veja o exemplo:"
      ]
    },
    {
      "cell_type": "code",
      "execution_count": null,
      "metadata": {
        "id": "xZ4OqBcQyAao"
      },
      "outputs": [],
      "source": [
        "x = range(6)          # Sequência 0, 1, 2, 3, 4, 5.\n",
        "y = range(2, 6)       # Sequência 2, 3, 4, 5.\n",
        "z = range(2, 20, 3)   # Sequência 2, 5, 8, 11, 14, 17.\n",
        "\n",
        "print(x)              # Exibe:  range(0, 6)\n",
        "for i in x:\n",
        "  print(i)\n",
        "\n",
        "print(y)              # Exibe: range(2, 6)\n",
        "for i in y:\n",
        "  print(i)\n",
        "\n",
        "print(z)              # Exibe: range(2, 20, 3)\n",
        "for i in z:\n",
        "  print(i)\n",
        "\n",
        "print(type(x))    # Exibe \"<class 'range'> indicando que é sequência.\n",
        "print(type(y))    # Exibe \"<class 'range'> indicando que é sequência.\n",
        "print(type(z))    # Exibe \"<class 'range'> indicando que é sequência."
      ]
    },
    {
      "cell_type": "markdown",
      "metadata": {
        "id": "qC_1mqjPph-D"
      },
      "source": [
        "### Exercício 5: utilizando range\n",
        "\n",
        "1. exiba o resultado do `range(0, 30, 2)`;\n",
        "2. exiba todos os números pares entre 50 e 70;\n",
        "3. exiba todos os números ímpares entre 50 e 70;\n",
        "4. exiba todos os números que são multiplos de 5 entre 17 e 69.\n",
        "\n"
      ]
    },
    {
      "cell_type": "code",
      "execution_count": 5,
      "metadata": {},
      "outputs": [
        {
          "name": "stdout",
          "output_type": "stream",
          "text": [
            "[0, 2, 4, 6, 8, 10, 12, 14, 16, 18, 20, 22, 24, 26, 28]\n",
            "[50, 52, 54, 56, 58, 60, 62, 64, 66, 68]\n",
            "[51, 53, 55, 57, 59, 61, 63, 65, 67, 69]\n",
            "[20, 25, 30, 35, 40, 45, 50, 55, 60, 65]\n"
          ]
        }
      ],
      "source": [
        "print([i for i in range(0, 30, 2)])\n",
        "\n",
        "print([i for i in range(50, 70, 2)])\n",
        "\n",
        "print([i + 1 for i in range(50, 70, 2)])\n",
        "\n",
        "print([i for i in range(17, 69) if i % 5 == 0])"
      ]
    }
  ],
  "metadata": {
    "colab": {
      "authorship_tag": "ABX9TyMXtHuREMEmFclWgIv0Vz4n",
      "include_colab_link": true,
      "provenance": [],
      "toc_visible": true
    },
    "kernelspec": {
      "display_name": "Python 3",
      "name": "python3"
    },
    "language_info": {
      "codemirror_mode": {
        "name": "ipython",
        "version": 3
      },
      "file_extension": ".py",
      "mimetype": "text/x-python",
      "name": "python",
      "nbconvert_exporter": "python",
      "pygments_lexer": "ipython3",
      "version": "3.12.3"
    }
  },
  "nbformat": 4,
  "nbformat_minor": 0
}
