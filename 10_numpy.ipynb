{
  "cells": [
    {
      "cell_type": "markdown",
      "metadata": {
        "colab_type": "text",
        "id": "view-in-github"
      },
      "source": [
        "<a href=\"https://colab.research.google.com/github/jafiorucci/CEE2PY125/blob/main/10_numpy.ipynb\" target=\"_parent\"><img src=\"https://colab.research.google.com/assets/colab-badge.svg\" alt=\"Open In Colab\"/></a>"
      ]
    },
    {
      "cell_type": "markdown",
      "metadata": {
        "id": "z-qiukcJzTIS"
      },
      "source": [
        "# Introdução ao NumPy"
      ]
    },
    {
      "cell_type": "markdown",
      "metadata": {
        "id": "8-9lsUutzcVq"
      },
      "source": [
        "O **NumPy** é uma das bibliotecas fundamentais para a computação científica em Python, sendo amplamente usada para trabalhar com arrays multidimensionais e operações matemáticas de alto desempenho. Ela fornece ferramentas para manipulação de dados, álgebra linear, estatísticas, etc.\n",
        "\n",
        "- Esta é uma rápida introdução ao NumPy que demonstra como matrizes n-dimensionais são representadas e podem ser manipulatadas.\n",
        "\n",
        "- Mais detalhes podem ser encontrados no tutorial: https://numpy.org/devdocs/user/quickstart.html\n",
        "\n",
        "A classe de matrizes do NumPy é chamada `ndarray` (ou simplesmente `array`). Note que `numpy.array` não é o mesmo que a classe `array.array` da biblioteca padrão do Python, a qual manipula apenas vetores unidimensionais e oferece menos funcionalidades.\n",
        "\n",
        "Os principais atributos de um objeto `ndarray` são:\n",
        "\n",
        "- `ndarray.ndim`: número de dimensões da matriz.\n",
        "\n",
        "- `ndarray.shape`: as dimensões da matriz. Uma tupla de inteiros indicando o tamanho em cada dimensão. Para uma matriz com linhas e colunas, o resultado será `(n, m)`. O tamanho da tupla é o mesmo que o número de eixos `ndim`.\n",
        "\n",
        "- `ndarray.size`: o número total de elementos na matriz. É igual ao produtos dos elementos do shape.\n",
        "\n",
        "- `ndarray.dtype`: um objeto que descreve o tipo dos elementos da matriz. Pode ser criado usando os tipos padrão do Python. Além destes, NumPy define outros tipos como `numpy.int32`, `numpy.int16`, e `numpy.float64`.\n",
        "\n",
        "- `ndarray.reshape`: permite alterar a dimensão de um array.\n"
      ]
    },
    {
      "cell_type": "markdown",
      "metadata": {
        "id": "8wgGhC78jHsp"
      },
      "source": [
        "## Criando Arrays\n",
        "\n",
        "O `array` é a estrutura de dados central do NumPy. Ele é mais eficiente e flexível do que as listas Python tradicionais.\n",
        "\n",
        "Importanto a biblioteca com\n",
        "```python\n",
        "import NumPy as np\n",
        "```\n",
        "\n",
        "Alguns módulos mais importantes da biblioteca são:\n",
        "\n",
        "* `np.array()`: cria arrays a partir de listas;\n",
        "* `np.zeros()`: cria um array preenchido com zeros;\n",
        "* `np.arange()`: cria um array com uma sequência de valores;\n",
        "* `np.linspace()`: cria um array de valores uniformemente espaçados.\n",
        "\n",
        "Veja os exemplo abaixo:"
      ]
    },
    {
      "cell_type": "code",
      "execution_count": null,
      "metadata": {
        "id": "DYjubt7PjWjm"
      },
      "outputs": [],
      "source": [
        "# Criando um array a partir de uma lista:\n",
        "\n",
        "import numpy as np\n",
        "\n",
        "a = np.array([1, 2, 3, 4])\n",
        "print(a)                  # Saída: [1 2 3 4] (vetor)\n",
        "print(\"type:\", type(a))   # Saída: <class 'numpy.ndarray'>\n",
        "print(\"dtype:\", a.dtype)  # Saída: int64\n",
        "print(\"size:\", a.size)    # Saída: 4\n",
        "print(\"ndim:\", a.ndim)    # Saída: 1\n",
        "print(\"shape:\", a.shape)  # Saída: (4,)"
      ]
    },
    {
      "cell_type": "code",
      "execution_count": null,
      "metadata": {
        "id": "uXN7mcBzAxPb"
      },
      "outputs": [],
      "source": [
        "# Arrays de múltiplas dimensões:\n",
        "\n",
        "import numpy as np\n",
        "\n",
        "b = np.array([[1, 2, 3], [4, 5, 6]])\n",
        "print(b)                  # Saída: [[1 2 3] [4 5 6]] (matriz)\n",
        "print(\"type:\", type(b))   # Saída: <class 'numpy.ndarray'>\n",
        "print(\"dtype:\", b.dtype)  # Saída: int64\n",
        "print(\"size:\", b.size)    # Saída: 4\n",
        "print(\"ndim:\", b.ndim)    # Saída: 2\n",
        "print(\"shape:\", b.shape)  # Saída: (2, 3)"
      ]
    },
    {
      "cell_type": "code",
      "execution_count": null,
      "metadata": {
        "id": "AwAtH2LjA0NM"
      },
      "outputs": [],
      "source": [
        "# Arrays com valores predefinidos\n",
        "\n",
        "import numpy as np\n",
        "\n",
        "## Array de zeros:\n",
        "print(\"--zeros--\")\n",
        "zeros = np.zeros((2, 3))\n",
        "print(\"dtype:\", zeros.dtype)  # Saída: float64\n",
        "print(zeros)                  # Saída: [[0. 0. 0.] [0. 0. 0.]]\n",
        "print(\"-----\")\n",
        "\n",
        "## Array de uns:\n",
        "print(\"--ones--\")\n",
        "ones = np.ones((2, 2))    # Matriz 2x2 de uns\n",
        "print(ones)               # Saída: [[1. 1.] [1. 1.]]\n",
        "print(\"-----\")"
      ]
    },
    {
      "cell_type": "markdown",
      "metadata": {
        "id": "MtyUAHxRASXg"
      },
      "source": [
        "Para criar sequências de números o NumPy fornece a função `arange()` que é análoga à função `range()`."
      ]
    },
    {
      "cell_type": "code",
      "execution_count": null,
      "metadata": {
        "id": "gHYpKMfRA50F"
      },
      "outputs": [],
      "source": [
        "# Arrays sequenciais\n",
        "\n",
        "import numpy as np\n",
        "\n",
        "## Array com valores de 0 a 9:\n",
        "print(\"--seq1--\")\n",
        "seq1 = np.arange(10)\n",
        "print(seq1)                # Saída: [0 1 2 3 4 5 6 7 8 9]\n",
        "print(\"-----\")\n",
        "\n",
        "# Cria um vetor com elementos de 10 a 30 com passo 5.\n",
        "print(\"--seq2--\")\n",
        "seq2 = np.arange(10, 30, 5)\n",
        "print(seq2)               # Saída: [10 15 20 25]\n",
        "print(\"-----\")\n",
        "\n",
        "## Array com valores igualmente espaçados:\n",
        "print(\"--lin--\")\n",
        "lin_space = np.linspace(0, 1, 5)  # 5 valores igualmente espaçados entre 0 e 1\n",
        "print(lin_space)          # Saída: [0.   0.25 0.5  0.75 1.  ]\n",
        "print(\"-----\")"
      ]
    },
    {
      "cell_type": "markdown",
      "metadata": {
        "id": "82TN58SYA5Mn"
      },
      "source": [
        "Ao usar `arange()` com números não inteiros pode não ser possível predizer a quantidade de elementos obtidos devido à precisão do ponto flutuante. Melhor usar `linspace()` passando o número de elementos:"
      ]
    },
    {
      "cell_type": "code",
      "execution_count": null,
      "metadata": {
        "id": "_NYUTBMSBUk5"
      },
      "outputs": [],
      "source": [
        "import numpy as np\n",
        "\n",
        "x = np.linspace(0, 2 * np.pi, 30)  # Cria um vetor com 30 elementos entre 0 e 2pi.\n",
        "print(x)"
      ]
    },
    {
      "cell_type": "markdown",
      "metadata": {
        "id": "ymS47PlNswZr"
      },
      "source": [
        "## Dimensão\n",
        "\n",
        "A dimensão de um array pode ser alterada utilizando o atributo `.reshape`. Veja o exemplo:"
      ]
    },
    {
      "cell_type": "code",
      "execution_count": null,
      "metadata": {
        "id": "PetCK-bVs41_"
      },
      "outputs": [],
      "source": [
        "import numpy as np\n",
        "\n",
        "## vetor\n",
        "seq = np.arange(12)\n",
        "print(seq)  # Saída: [0 1 2 3 4 5 6 7 8 9 10 11]\n",
        "print(\"-----\")\n",
        "\n",
        "## matriz 3x4\n",
        "a = seq.reshape(3, 4)\n",
        "print(a)  # Saída: [[ 0  1  2  3] [ 4  5  6  7] [ 8  9 10 11]]\n",
        "print(\"-----\")\n",
        "\n",
        "## matriz 4x3\n",
        "b = seq.reshape(4, 3)\n",
        "print(b)  # Saída: [[ 0  1  2] [ 3  4  5] [ 6  7  8] [ 9 10 11]]"
      ]
    },
    {
      "cell_type": "markdown",
      "metadata": {
        "id": "MWQ3hdg69flQ"
      },
      "source": [
        "Existem diversas formas de se criar matrizes:"
      ]
    },
    {
      "cell_type": "code",
      "execution_count": null,
      "metadata": {
        "id": "XktvaZAt-R04"
      },
      "outputs": [],
      "source": [
        "# O tipo é deduzido dos elementos.\n",
        "\n",
        "import numpy as np\n",
        "a = np.array([2, 3, 4])\n",
        "print(a)\n",
        "print(a.dtype)     ## exibe: dtype('int64')\n",
        "\n",
        "print(\"-----\")\n",
        "\n",
        "b = np.array([1.2, 3.5, 5.1])\n",
        "print(b)\n",
        "print(b.dtype)    ## exibe: dtype('float64')"
      ]
    },
    {
      "cell_type": "code",
      "execution_count": null,
      "metadata": {
        "id": "xJYoVhVDCczj"
      },
      "outputs": [],
      "source": [
        "# O tipo da matriz pode ser especificado explicitamente na criação:\n",
        "\n",
        "import numpy as np\n",
        "\n",
        "a = np.array([2, 3, 4], dtype= float)\n",
        "print(a)\n",
        "a.dtype     ## exibe: dtype('float64')\n",
        "\n",
        "print(\"-----\")\n",
        "\n",
        "c = np.array([[1, 2], [3, 4]], dtype= complex)\n",
        "c"
      ]
    },
    {
      "cell_type": "markdown",
      "metadata": {
        "id": "J9mts1m9-SD_"
      },
      "source": [
        "Um erro frequente consiste em chamar array com múltiplos argumentos, ao invés de uma sequência."
      ]
    },
    {
      "cell_type": "code",
      "execution_count": null,
      "metadata": {
        "id": "m84CUTVD-vfh"
      },
      "outputs": [],
      "source": [
        "#a = np.array(1, 2, 3, 4)     # TypeError\n",
        "a = np.array([1, 2, 3, 4])   # CORRETO!"
      ]
    },
    {
      "cell_type": "markdown",
      "metadata": {
        "id": "UnAroZ92BU3A"
      },
      "source": [
        "O NumPy exibe a matriz de forma similar à listas aninhadas com o seguinte layout:\n",
        "\n",
        "- O último eixo é exibido da esquerda para a direita;\n",
        "\n",
        "- O penúltimo eixo é exibido de cima para baixo;\n",
        "\n",
        "- Os demais eixos são exibidos de cima para baixo separados por uma linha em branco;\n",
        "\n",
        "Vetores (unidimensional) são exibidos como vetorlinhas, matrizes bidimensionais como matrizes e matrizes tridimensionais como lista de matrizes."
      ]
    },
    {
      "cell_type": "code",
      "execution_count": null,
      "metadata": {
        "id": "qlldY-1eB3Yx"
      },
      "outputs": [],
      "source": [
        "a = np.arange(6)    # Cria um vetor com 6 elementos de 0 a 5.\n",
        "print(a)"
      ]
    },
    {
      "cell_type": "code",
      "execution_count": null,
      "metadata": {
        "id": "YEf7325YB5f_"
      },
      "outputs": [],
      "source": [
        "b = np.arange(12).reshape(4, 3)    # Cria uma matriz 4x3.\n",
        "print(b)"
      ]
    },
    {
      "cell_type": "code",
      "execution_count": null,
      "metadata": {
        "id": "QOvffrdMB6VH"
      },
      "outputs": [],
      "source": [
        "c = np.arange(24).reshape(2, 3, 4)  # Cria uma matriz tridimensional: 2x3x4.\n",
        "print(c)"
      ]
    },
    {
      "cell_type": "markdown",
      "metadata": {
        "id": "i9I0NDwJB3pA"
      },
      "source": [
        "Se a matriz é muito grande o NumPy automaticamente omite a parte central da matriz:"
      ]
    },
    {
      "cell_type": "code",
      "execution_count": null,
      "metadata": {
        "id": "YQgXgUeUCV2w"
      },
      "outputs": [],
      "source": [
        "print(np.arange(10000))"
      ]
    },
    {
      "cell_type": "code",
      "execution_count": null,
      "metadata": {
        "id": "p8cvmrIyCb3_"
      },
      "outputs": [],
      "source": [
        "print(np.arange(1000).reshape(10, 100))"
      ]
    },
    {
      "cell_type": "markdown",
      "metadata": {
        "id": "DCc5iGzQCWFf"
      },
      "source": [
        "Para disabilitar, mude a opção usando:\n",
        "\n",
        "```python\n",
        "np.set_printoptions(threshold= sys.maxsize)\n",
        "```"
      ]
    },
    {
      "cell_type": "code",
      "execution_count": null,
      "metadata": {
        "id": "2OwsOKF_Qq2h"
      },
      "outputs": [],
      "source": [
        "## exemplo\n",
        "\n",
        "import sys\n",
        "\n",
        "np.set_printoptions(threshold= 5)\n",
        "\n",
        "print(np.arange(100).reshape(10, 10))"
      ]
    },
    {
      "cell_type": "markdown",
      "metadata": {
        "id": "gxA0rbWh4cUi"
      },
      "source": [
        "## Exercício 1\n",
        "\n",
        "a) Crie um array de zeros com forma 3x3.\n",
        "\n",
        "b) Crie um array com números de 1 a 20, com passo de 3.\n"
      ]
    },
    {
      "cell_type": "code",
      "execution_count": 1,
      "metadata": {},
      "outputs": [
        {
          "name": "stdout",
          "output_type": "stream",
          "text": [
            "[[0. 0. 0.]\n",
            " [0. 0. 0.]\n",
            " [0. 0. 0.]]\n",
            "[ 1  4  7 10 13 16 19]\n"
          ]
        }
      ],
      "source": [
        "import numpy as np\n",
        "\n",
        "# a)\n",
        "print(np.zeros((3, 3)))  # Saída: [[0. 0. 0.] [0. 0. 0.] [0. 0. 0.]]\n",
        "\n",
        "# b)\n",
        "print(np.arange(1, 21, 3))  # Saída: [ 1  4  7 10 13 16 19]"
      ]
    },
    {
      "cell_type": "markdown",
      "metadata": {
        "id": "OPcT67OACqKP"
      },
      "source": [
        "## Operações básicas"
      ]
    },
    {
      "cell_type": "markdown",
      "metadata": {
        "id": "08EEy92DCq1X"
      },
      "source": [
        "Operadores aritméticos são aplicados em cada elemento. Uma nova matriz com o resultado é criada."
      ]
    },
    {
      "cell_type": "code",
      "execution_count": null,
      "metadata": {
        "id": "4WondI1UDNc4"
      },
      "outputs": [],
      "source": [
        "import numpy as np\n",
        "\n",
        "a = np.array([2, 5, 4, 0])    # Cria um vetor com os vetores passados.\n",
        "b = np.arange(4)              # Cria um vetor com os valores 0, 1, 2, 3.\n",
        "\n",
        "print(a, \"\\n\")                # Exibe o vetor a.\n",
        "print(a+2, \"\\n\")              # Adição elemento a elemento.\n",
        "print(a+b, \"\\n\")              # Adição elemento a elemento.\n",
        "print(a-b, \"\\n\")              # Subtração elemento a elemento.\n",
        "print(b**2, \"\\n\")             # Exibe o vetor com os quadrados dos elementos de b.\n",
        "print(10 * np.sin(a), \"\\n\")   # Calcula 10 vezes seno dos elementos do vetor a.\n",
        "print(a < 3, \"\\n\")            # Retorna um vetor booleano com True para cada elemento menor que 35."
      ]
    },
    {
      "cell_type": "markdown",
      "metadata": {
        "id": "y_J3g0HbDNsY"
      },
      "source": [
        "O operador produto `*` opera elemento-a-elemento. O produto matricial é feito com `@` (Python >=3.5) ou com `dot()`:"
      ]
    },
    {
      "cell_type": "code",
      "execution_count": null,
      "metadata": {
        "id": "IWc_-piADswn"
      },
      "outputs": [],
      "source": [
        "A = np.array([[1, 1], [0, 1]])\n",
        "B = np.array([[2, 0], [3, 4]])\n",
        "\n",
        "print(A * B, \"\\n\")       # Produto elemento a elemento\n",
        "print(A @ B, \"\\n\")       # Produto matricial\n",
        "print(A.dot(B), \"\\n\")    # Produto matricial"
      ]
    },
    {
      "cell_type": "markdown",
      "metadata": {
        "id": "WwFNFARyDtBH"
      },
      "source": [
        "Operações como `+=` e `*=` modifica uma matriz existente ao invés de criar uma nova."
      ]
    },
    {
      "cell_type": "code",
      "execution_count": null,
      "metadata": {
        "id": "vJSfhI3FEZQ4"
      },
      "outputs": [],
      "source": [
        "A = np.array([[1, 1], [0, 1]])\n",
        "B = np.array([[2, 0], [3, 4]])\n",
        "\n",
        "A *= 3\n",
        "print(A, \"\\n\")\n",
        "\n",
        "B += A\n",
        "print(B, \"\\n\")\n"
      ]
    },
    {
      "cell_type": "markdown",
      "metadata": {
        "id": "_7GmMiSuFTln"
      },
      "source": [
        "Muitas operações são implementadas como métodos da classe `ndarray`."
      ]
    },
    {
      "cell_type": "code",
      "execution_count": null,
      "metadata": {
        "id": "_UElF5P4GBIB"
      },
      "outputs": [],
      "source": [
        "A = np.array([[1, 1], [0, 1]])\n",
        "print(A)\n",
        "print(\"\\n\")\n",
        "print(A.sum())    # Exibe a soma dos elementos.\n",
        "print(A.min())    # Exibe o menor elemento.\n",
        "print(A.max())    # Exibe o maior elemento.\n",
        "print(A.mean())   # Exibe a média dos elementos.\n",
        "print(A.std())    # Exibe o desvio padrão dos elementos."
      ]
    },
    {
      "cell_type": "markdown",
      "metadata": {
        "id": "4m5TpZdNGBpf"
      },
      "source": [
        "Por padrão, estas operações tratam a matriz como uma lista de números. No entanto, é possível especificar o eixos para aplicar a operação:"
      ]
    },
    {
      "cell_type": "code",
      "execution_count": null,
      "metadata": {
        "id": "OcyUXKBeGlhH"
      },
      "outputs": [],
      "source": [
        "B = np.arange(12).reshape(3, 4)\n",
        "print( B, \"\\n\" )\n",
        "\n",
        "print( B.sum(axis= 0), \"\\n\" )      # soma de cada coluna\n",
        "print( B.min(axis= 1), \"\\n\" )      # mínimo de cada linha\n",
        "print( B.cumsum(axis= 1), \"\\n\" )   # soma cumulativa em cada linha"
      ]
    },
    {
      "cell_type": "markdown",
      "metadata": {
        "id": "y7zcg8589Eqj"
      },
      "source": [
        "## Exercício 2\n",
        "\n",
        "* Crie um array com os valores `[10, 20, 30, 40, 50]`.\n",
        "* Subtraia `5` de cada elemento e, em seguida, eleve ao quadrado cada valor.\n",
        "* Apresente o vetor com a soma das colunas."
      ]
    },
    {
      "cell_type": "code",
      "execution_count": 2,
      "metadata": {},
      "outputs": [
        {
          "name": "stdout",
          "output_type": "stream",
          "text": [
            "4125\n"
          ]
        }
      ],
      "source": [
        "array = np.arange(1, 6) * 10  # [10, 20, 30, 40, 50]\n",
        "new_array = (array - 5) ** 2  # [25, 225, 625, 1225, 2025]\n",
        "\n",
        "print(new_array.sum(axis=0))  # Saída: 4125"
      ]
    },
    {
      "cell_type": "markdown",
      "metadata": {
        "id": "p6DNmB2Xqmtd"
      },
      "source": [
        "## Funções universais"
      ]
    },
    {
      "cell_type": "markdown",
      "metadata": {
        "id": "-hgjmFqTGlwv"
      },
      "source": [
        "Funções matemáticas como `sin()`, `cos()` e `exp()`, chamadas de *funções universais* (`ufunc`), operam emento-a-elemento."
      ]
    },
    {
      "cell_type": "code",
      "execution_count": null,
      "metadata": {
        "id": "i0IPkDElHT0n"
      },
      "outputs": [],
      "source": [
        "import numpy as np\n",
        "\n",
        "B = np.arange(3)               # Cria um vetor com 3 elementos.\n",
        "print(np.exp(B))               # Exibe o exponencial de cada elemento de B.\n",
        "print(np.sqrt(B))              # Exibe a raiz quadrada de cada elemento de B.\n",
        "C = np.array([2., -1., 4.])    # Cria um vetor com 3 elementos.\n",
        "print(np.add(B, C))            # Exibe a soma entre os vetores B e C."
      ]
    },
    {
      "cell_type": "markdown",
      "metadata": {
        "id": "giZJn49PumjF"
      },
      "source": [
        "## Indexação, fatiamento e iteração"
      ]
    },
    {
      "cell_type": "markdown",
      "metadata": {
        "id": "nL5ijMJAHUCW"
      },
      "source": [
        "Vetores unidimensionais podem ser indexados, fatiados e iterados como se fosse uma lista."
      ]
    },
    {
      "cell_type": "code",
      "execution_count": null,
      "metadata": {
        "id": "oI3i2Y6LKjmB"
      },
      "outputs": [],
      "source": [
        "import numpy as np\n",
        "\n",
        "a = np.arange(10)           # Gera um vetor dos cubos de 0 a 9.\n",
        "\n",
        "print(a, \"\\n\")              # Exibe o vetor 'a'.\n",
        "print(a[2], \"\\n\")           # Exibe o terceiro elemento do vetor 'a'.\n",
        "print(a[2:5], \"\\n\")         # Exibe os elementos nas posições 2, 3, 4."
      ]
    },
    {
      "cell_type": "code",
      "execution_count": null,
      "metadata": {
        "id": "tquGxVYEHy6H"
      },
      "outputs": [],
      "source": [
        "a = np.arange(10)           # Gera um vetor dos cubos de 0 a 9.\n",
        "\n",
        "print(a, \"\\n\")              # Exibe o vetor 'a'.\n",
        "\n",
        "a[:6:2] = 10              # Substitui os elementos nas posições 0, 2 e 4 por 10.\n",
        "\n",
        "print(a, \"\\n\")              # Exibe o vetor 'a'\n",
        "\n",
        "print(a[::-1], \"\\n\")        # Exibe o vetor 'a' invertido."
      ]
    },
    {
      "cell_type": "markdown",
      "metadata": {
        "id": "QLNFLuujHzJO"
      },
      "source": [
        "Matrizes multidimensionais tem `1` índice por eixo:"
      ]
    },
    {
      "cell_type": "code",
      "execution_count": null,
      "metadata": {
        "id": "wgx0DjMUIU-5"
      },
      "outputs": [],
      "source": [
        "b = np.array([[1, 2, 3], [4, 5, 6], [7, 8, 9]])\n",
        "\n",
        "print( b,\"\\n\")\n",
        "\n",
        "print(\"Primeira linha:\", b[0, :], \"\\n\")\n",
        "\n",
        "print(\"Terceira linha:\", b[2, :], \"\\n\")\n",
        "\n",
        "print(\"Elemento (2,3):\", b[1, 2], \"\\n\")"
      ]
    },
    {
      "cell_type": "code",
      "execution_count": null,
      "metadata": {
        "id": "hcsBcoIjL-cl"
      },
      "outputs": [],
      "source": [
        "b = np.array([[1, 2, 3], [4, 5, 6], [7, 8, 9]])\n",
        "\n",
        "print( b,\"\\n\")\n",
        "\n",
        "print(b[:, 1], \"\\n\")      # todas as linhas e 2a coluna\n",
        "\n",
        "print(b[:2, 1], \"\\n\")     # 1a e 2a linhas e 2a coluna.\n",
        "\n",
        "print(b[1:, 2], \"\\n\")     # 2a e 3a linhas e 3a coluna.\n",
        "\n",
        "print(b[1:3, :])          # 2a e 3a linhas e todas as colunas."
      ]
    },
    {
      "cell_type": "markdown",
      "metadata": {
        "id": "0AWgAv41IVPf"
      },
      "source": [
        "Se forem passados menos índices que o número de eixos, todos os demais estarão completos:"
      ]
    },
    {
      "cell_type": "code",
      "execution_count": null,
      "metadata": {
        "id": "JLsv4a2DI-Yw"
      },
      "outputs": [],
      "source": [
        "b[-1]     # A última linha. Equivale a b[-1, :]"
      ]
    },
    {
      "cell_type": "markdown",
      "metadata": {
        "id": "AX-QsGU4HRmm"
      },
      "source": [
        "## Exercício 3\n",
        "\n",
        "* Crie um array 3x3 com valores de 1 a 9.\n",
        "* Extraia a segunda linha.\n",
        "* Extraia o último elemento da primeira linha.\n"
      ]
    },
    {
      "cell_type": "code",
      "execution_count": 3,
      "metadata": {},
      "outputs": [
        {
          "name": "stdout",
          "output_type": "stream",
          "text": [
            "[[1 2 3]\n",
            " [4 5 6]\n",
            " [7 8 9]]\n",
            "[4 5 6]\n",
            "3\n"
          ]
        }
      ],
      "source": [
        "array = np.arange(1, 10).reshape(3, 3)\n",
        "print(array)  # Saída: [[1 2 3] [4 5 6] [7 8 9]]\n",
        "\n",
        "print(array[1,])  # Saída: [4 5 6]\n",
        "\n",
        "print(array[0, -1])  # Saída: 3"
      ]
    },
    {
      "cell_type": "markdown",
      "metadata": {
        "id": "A3m2Ce1b32HW"
      },
      "source": [
        "## Empilhamento e Desmembramento"
      ]
    },
    {
      "cell_type": "markdown",
      "metadata": {
        "id": "xiogCceYNAZG"
      },
      "source": [
        "Várias matrizes podem ser empilhadas em diferentes eixos:"
      ]
    },
    {
      "cell_type": "code",
      "execution_count": null,
      "metadata": {
        "id": "z_mZqlj3NMLO"
      },
      "outputs": [],
      "source": [
        "import numpy as np\n",
        "\n",
        "a = np.zeros((3,3))\n",
        "b = np.ones((3,3))\n",
        "\n",
        "print(a, \"\\n\")                   # Exibe a matriz 'a'.\n",
        "print(b, \"\\n\")                   # Exibe a matriz 'b'.\n",
        "\n",
        "print(np.vstack((a, b)), \"\\n\")   # Empilha 'a' e 'b' na vertical.\n",
        "print(np.hstack((a, b)), \"\\n\")   # Empilha 'a' e 'b' na horizontal."
      ]
    },
    {
      "cell_type": "markdown",
      "metadata": {
        "id": "zY-wcIPoPniI"
      },
      "source": [
        "`hsplit()` permite desmembrar no eixo horizontal:"
      ]
    },
    {
      "cell_type": "code",
      "execution_count": null,
      "metadata": {
        "id": "kTPHDOAIPuAf"
      },
      "outputs": [],
      "source": [
        "a = np.arange(18).reshape(3, 6)\n",
        "print(a, \"\\n\")\n",
        "\n",
        "# Desmembra 'a' por colunas em 3 partes iguais\n",
        "parte1, parte2, parte3 = np.hsplit( a, 3)\n",
        "print(\"Parte 1:\\n\", parte1)\n",
        "print(\"Parte 2:\\n\", parte2)\n",
        "print(\"Parte 3:\\n\", parte3)\n",
        "\n",
        "\n",
        "# Dividindo após a 2ª e a 5ª coluna\n",
        "print(\"\\n\")\n",
        "parte1, parte2, parte3 = np.hsplit(a, [1, 4])\n",
        "\n",
        "print(\"Parte 1:\\n\", parte1)\n",
        "print(\"Parte 2:\\n\", parte2)\n",
        "print(\"Parte 3:\\n\", parte3)"
      ]
    },
    {
      "cell_type": "markdown",
      "metadata": {
        "id": "lHJ5S7X-PuMf"
      },
      "source": [
        "`vsplit()` desmembra na vertical e `array_split()` permite escolher o eixo."
      ]
    },
    {
      "cell_type": "markdown",
      "metadata": {
        "id": "51J12pDOF2tT"
      },
      "source": [
        "## Exercício 4\n",
        "\n",
        "1. Crie dois arrays 1D, `a` e `b`, com valores de 1 a 5 e de 6 a 10, respectivamente.\n",
        "1. Empilhe `a` e `b` verticalmente para formar um array 2D.\n",
        "1. Em seguida, empilhe `a` e `b` horizontalmente para formar um array 1x10.\n",
        "\n",
        "Dica: Use np.vstack() para empilhamento vertical e np.hstack() para empilhamento horizontal."
      ]
    },
    {
      "cell_type": "code",
      "execution_count": 4,
      "metadata": {},
      "outputs": [
        {
          "name": "stdout",
          "output_type": "stream",
          "text": [
            "[[ 1  2  3  4  5]\n",
            " [ 6  7  8  9 10]] \n",
            "\n",
            "[ 1  2  3  4  5  6  7  8  9 10] \n",
            "\n"
          ]
        }
      ],
      "source": [
        "a = np.arange(1, 6)\n",
        "b = np.arange(6, 11)\n",
        "\n",
        "print(np.vstack((a, b)), \"\\n\") # Saída: [[1 2 3 4 5] [6 7 8 9 10]]\n",
        "print(np.hstack((a, b)), \"\\n\") # Saída: [1 2 3 4 5 6 7 8 9 10]"
      ]
    },
    {
      "cell_type": "markdown",
      "metadata": {
        "id": "HXMKSvne4hG5"
      },
      "source": [
        "## Cópias e visualizações"
      ]
    },
    {
      "cell_type": "markdown",
      "metadata": {
        "id": "G65uhbIHQNIP"
      },
      "source": [
        "Algumas operações copiam a matriz outras não. Atribuições não fazem cópias de objetos ou dados.\n",
        "\n",
        "Veja os exemplos."
      ]
    },
    {
      "cell_type": "code",
      "execution_count": null,
      "metadata": {
        "id": "XQmeINJ7tpd_"
      },
      "outputs": [],
      "source": [
        "import numpy as np\n",
        "\n",
        "A = np.zeros((3,3))\n",
        "\n",
        "B = A          ## atribuição não é cópia\n",
        "\n",
        "A[:,1] = 100   ## note que ao alterar \"A\" a matriz \"B\" também será alterada\n",
        "\n",
        "print(\"A = \")\n",
        "print(A)\n",
        "\n",
        "print(\"\\nB = \")\n",
        "print(B)\n",
        "\n",
        "print(\"\\nA e B são o mesmo objeto?\")\n",
        "print(B is A)\n",
        "\n",
        "print(f\"\\nid(A): {id(A)}, id(B): {id(B)}\") ## A e B possuem o mesmo id"
      ]
    },
    {
      "cell_type": "code",
      "execution_count": null,
      "metadata": {
        "id": "cjpdbROrxB2c"
      },
      "outputs": [],
      "source": [
        "## No entanto, pode-se gerar uma cópia\n",
        "import numpy as np\n",
        "\n",
        "A = np.zeros((3,3))\n",
        "\n",
        "B = A.copy()    ## atribuição não é cópia\n",
        "\n",
        "A[:,1] = 100    ## note que ao alterar \"A\", a matriz \"B\" ainda será a mesma.\n",
        "\n",
        "print(\"A = \")\n",
        "print(A)\n",
        "\n",
        "print(\"\\nB = \")\n",
        "print(B)\n",
        "\n",
        "print(\"\\nA e B são o mesmo objeto?\")\n",
        "print(B is A)\n",
        "\n",
        "\n",
        "print(f\"\\nid(A): {id(A)}, id(B): {id(B)}\") ## A e B possuem id's diferentes"
      ]
    },
    {
      "cell_type": "markdown",
      "metadata": {
        "id": "6UiNZTlAQaLe"
      },
      "source": [
        "O Python passa objetos mutáveis por referência para funções, de modo que a chamada de uma função não faz uma cópia.\n",
        "\n",
        ">  Se um objeto passado por referência for modificado dentro de uma função, ele também será modificado fora dela."
      ]
    },
    {
      "cell_type": "code",
      "execution_count": null,
      "metadata": {
        "id": "OsJSuMcQRLBn"
      },
      "outputs": [],
      "source": [
        "def f(x):\n",
        "  return id(x)\n",
        "\n",
        "a = np.zeros((3,3))\n",
        "\n",
        "print(id(a))    # ID é o identificador único do objeto\n",
        "print(f(a))     # mesmo ID\n"
      ]
    },
    {
      "cell_type": "markdown",
      "metadata": {
        "id": "1O8AzwXyzxGf"
      },
      "source": [
        "Ou seja, se o objeto for alterado dentro da função, então ele será alterado também fora da função."
      ]
    },
    {
      "cell_type": "code",
      "execution_count": null,
      "metadata": {
        "id": "HCvyaj0Kz9Bg"
      },
      "outputs": [],
      "source": [
        "def f(x):\n",
        "  x[:, 1] = 100\n",
        "  return;\n",
        "\n",
        "A = np.zeros((3,3))\n",
        "f(A)\n",
        "print(A)     # \"A\" foi modificada dentro da função"
      ]
    },
    {
      "cell_type": "markdown",
      "metadata": {
        "id": "ccn2kgxK0uoA"
      },
      "source": [
        "Para evitar este possível problema, pode-se passar um cópia."
      ]
    },
    {
      "cell_type": "code",
      "execution_count": null,
      "metadata": {
        "id": "REXGwGo_00OR"
      },
      "outputs": [],
      "source": [
        "def f(x):\n",
        "  x[:, 1] = 100\n",
        "  return;\n",
        "\n",
        "A = np.zeros((3,3))\n",
        "\n",
        "f( A.copy() )  # A cópia de \"A\" é passada para a função\n",
        "\n",
        "print(A)       # A matriz \"A\" continua a mesma"
      ]
    },
    {
      "cell_type": "markdown",
      "metadata": {
        "id": "ZKnIy3FMRLM2"
      },
      "source": [
        "Diferentes matrizes podem compartilhar o mesmo dado. O método `view` cria uma visualização da matriz."
      ]
    },
    {
      "cell_type": "code",
      "execution_count": null,
      "metadata": {
        "id": "V5J0F-A4RpgO"
      },
      "outputs": [],
      "source": [
        "import numpy as np\n",
        "\n",
        "a = np.arange(12).reshape(3, 4)\n",
        "print(a, \"\\n\")\n",
        "\n",
        "c = a.view()\n",
        "\n",
        "print(c is a, \"\\n\")      ## \"c\" é uma visualização de \"a\"\n",
        "\n",
        "c = c.reshape((2, 6))    ## Não muda a dimensão de 'a'\n",
        "print(a.shape, \"\\n\")\n",
        "\n",
        "c[0, 4] = 100            ## Muda os dados em 'a'\n",
        "print(a)"
      ]
    },
    {
      "cell_type": "markdown",
      "metadata": {
        "id": "HI9rtZm3RptG"
      },
      "source": [
        "Fatiar uma matriz retorna uma visualização:"
      ]
    },
    {
      "cell_type": "code",
      "execution_count": null,
      "metadata": {
        "id": "Jt9kZGJBSMno"
      },
      "outputs": [],
      "source": [
        "import numpy as np\n",
        "\n",
        "a = np.arange(12).reshape(3, 4)\n",
        "\n",
        "print(\"a:\\n\",a,\"\\n\")\n",
        "\n",
        "s = a[:, 1:3]          # \"s\" é uma visualização de uma parte de \"a\".\n",
        "print(\"s:\\n\",s,\"\\n\")\n",
        "\n",
        "print(s is a, \"\\n\")\n",
        "\n",
        "s[:] = 10              # s[:] é uma visualização de 's'.\n",
        "print(\"s:\\n\",s,\"\\n\")\n",
        "\n",
        "print(\"a:\\n\",a,\"\\n\")   # ao alterar \"s\", o objeto \"a\" também foi alterado."
      ]
    },
    {
      "cell_type": "markdown",
      "metadata": {
        "id": "V_lm3i7TG9nn"
      },
      "source": [
        "## Exercício 5\n",
        "\n",
        "1. Crie uma matriz A de tamanho 4x3 de zeros.\n",
        "1. Faça `B=A` e `C=A.copy()`.\n",
        "1. Verifique se `B` e `C` são os mesmos objetos utilizando `is`.\n",
        "1. Mostre os id's de `A`, `B` e `C`.\n",
        "1. Altere um elemento de `A` e veja o que acontece com `B` e com `C`."
      ]
    },
    {
      "cell_type": "code",
      "execution_count": 5,
      "metadata": {},
      "outputs": [
        {
          "name": "stdout",
          "output_type": "stream",
          "text": [
            "False\n",
            "136848994256624 136848994256624 136848994258064\n",
            "[[1. 0. 0.]\n",
            " [0. 0. 0.]\n",
            " [0. 0. 0.]\n",
            " [0. 0. 0.]]\n",
            "[[0. 0. 0.]\n",
            " [0. 0. 0.]\n",
            " [0. 0. 0.]\n",
            " [0. 0. 0.]]\n"
          ]
        }
      ],
      "source": [
        "A = np.zeros((4, 3))\n",
        "B = A\n",
        "C = A.copy()\n",
        "\n",
        "print(B is C) # Saída: False\n",
        "print(id(A), id(B), id(C)) # Saída: IDs diferentes\n",
        "\n",
        "A[0,0] = 1\n",
        "\n",
        "print(B) # Saída: [[1. 0. 0.] [0. 0. 0.] [0. 0. 0.] [0. 0. 0.]]\n",
        "print(C) # Saída: [[0. 0. 0.] [0. 0. 0.] [0. 0. 0.] [0. 0. 0.]]"
      ]
    }
  ],
  "metadata": {
    "colab": {
      "authorship_tag": "ABX9TyNL7yqOrqpOga5ftw2fstSj",
      "include_colab_link": true,
      "provenance": [],
      "toc_visible": true
    },
    "kernelspec": {
      "display_name": "Python 3",
      "name": "python3"
    },
    "language_info": {
      "codemirror_mode": {
        "name": "ipython",
        "version": 3
      },
      "file_extension": ".py",
      "mimetype": "text/x-python",
      "name": "python",
      "nbconvert_exporter": "python",
      "pygments_lexer": "ipython3",
      "version": "3.12.3"
    }
  },
  "nbformat": 4,
  "nbformat_minor": 0
}
