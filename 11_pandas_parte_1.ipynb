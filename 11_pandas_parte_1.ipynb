{
  "cells": [
    {
      "cell_type": "markdown",
      "metadata": {
        "colab_type": "text",
        "id": "view-in-github"
      },
      "source": [
        "<a href=\"https://colab.research.google.com/github/jafiorucci/CEE2PY125/blob/main/11_pandas_parte_1.ipynb\" target=\"_parent\"><img src=\"https://colab.research.google.com/assets/colab-badge.svg\" alt=\"Open In Colab\"/></a>"
      ]
    },
    {
      "cell_type": "markdown",
      "metadata": {
        "id": "9AL8Xv2r47Sa"
      },
      "source": [
        "# Introdução ao Pandas"
      ]
    },
    {
      "cell_type": "markdown",
      "metadata": {
        "id": "Y__3E66FL0AG"
      },
      "source": [
        "A biblioteca **Pandas** é uma das ferramentas mais populares para manipulação e análise de dados em Python. Projetada para lidar com grandes volumes de dados de forma eficiente, ela oferece estruturas flexíveis, como Series e DataFrames, que permitem armazenar, organizar e manipular dados tabulares com facilidade.\n",
        "\n",
        "- Possui uma gama de funcionalidades, como leitura e escrita de arquivos (CSV, Excel, SQL, entre outros), limpeza e tratamento de dados, e suporte para operações de agrupamento e agregação.\n",
        "\n",
        "- O Pandas é utilizada em tarefas que vão desde a análise exploratória de dados até a preparação de conjuntos de dados para modelagem e aprendizado de máquina.\n",
        "\n",
        "- O conteúdo  deste tutorial foi baseado em [10 minutes to pandas](https://pandas.pydata.org/docs/user_guide/10min.html#min). Esta introdução ao **Pandas** mostra as principais funcionalidades da biblioteca. Para mais detalhes sugere-se consultar o [Cookbook](https://pandas.pydata.org/docs/user_guide/cookbook.html#cookbook)."
      ]
    },
    {
      "cell_type": "markdown",
      "metadata": {
        "id": "zScckBrY4_S5"
      },
      "source": [
        "## Importando a biblioteca"
      ]
    },
    {
      "cell_type": "markdown",
      "metadata": {
        "id": "SiKpoNnl5D1r"
      },
      "source": [
        "O **Pandas** funciona em conjunto com o **NumPy**. Assim, para utilizar a biblioteca, em geral, se importa:"
      ]
    },
    {
      "cell_type": "code",
      "execution_count": null,
      "metadata": {
        "id": "Kx_d4AYSLzE-"
      },
      "outputs": [],
      "source": [
        "import numpy as np\n",
        "import pandas as pd"
      ]
    },
    {
      "cell_type": "markdown",
      "metadata": {
        "id": "G7r8T4ay5ctM"
      },
      "source": [
        "## Estrutura de dados no Pandas"
      ]
    },
    {
      "cell_type": "markdown",
      "metadata": {
        "id": "WALJXKrPMyDt"
      },
      "source": [
        "A biblioteca Pandas define 2 tipos de estrutura de dados:\n",
        "\n",
        "- `Series`: um vetor unidimensional nomeado que armazena dados de qualquer tipo, tais como: inteiros, strings, objetos do Python, etc.\n",
        "\n",
        "- `DataFrame`: uma estrutura de dados bidimensional que armazena dados como uma planilha, em que cada coluna é uma série (Series). É o equivalente ao `data.frame` na linguagem [R](https://www.r-project.org/).\n",
        "\n",
        "\n",
        "Uma **série** pode ser criada passando uma lista de valores:"
      ]
    },
    {
      "cell_type": "markdown",
      "metadata": {
        "id": "Yp0qErTmTx5G"
      },
      "source": [
        "## Criação de objetos"
      ]
    },
    {
      "cell_type": "markdown",
      "metadata": {
        "id": "IDUqjXM9QjIk"
      },
      "source": [
        "Uma **série** no Pandas pode ser criada com o método `pandas.Series()`."
      ]
    },
    {
      "cell_type": "code",
      "execution_count": null,
      "metadata": {
        "id": "5UA5xYkpOf5m"
      },
      "outputs": [],
      "source": [
        "s = pd.Series([1, 3, 5, np.nan, 6, 8]) ## a partir de uma lista\n",
        "\n",
        "print(type(s))\n",
        "print(s)"
      ]
    },
    {
      "cell_type": "code",
      "execution_count": null,
      "metadata": {
        "id": "3iZBnzyuyPKl"
      },
      "outputs": [],
      "source": [
        "a = np.arange(6, dtype=float) ## via array do NumPy (aula passada)\n",
        "\n",
        "s = pd.Series( a )\n",
        "\n",
        "print(type(s))\n",
        "print(s)"
      ]
    },
    {
      "cell_type": "code",
      "execution_count": null,
      "metadata": {
        "id": "ktvEYpF20CHZ"
      },
      "outputs": [],
      "source": [
        "## Série temporal\n",
        "\n",
        "# Cria um range de datas\n",
        "datas = pd.date_range(start='2023-01-01', periods=6, freq='D')  # 10 dias a partir de 01/01/2023\n",
        "\n",
        "# Valores da série\n",
        "valores = [1, 3, 5, np.nan, 6, 8]\n",
        "\n",
        "# Criar a série temporal\n",
        "serie_temporal = pd.Series(data=valores, index=datas)\n",
        "\n",
        "print(serie_temporal)"
      ]
    },
    {
      "cell_type": "markdown",
      "metadata": {
        "id": "keNdIXmZOgfN"
      },
      "source": [
        "Um **DataFrame** pode ser utilizando o comando `pd.DataFrame()`:"
      ]
    },
    {
      "cell_type": "code",
      "execution_count": null,
      "metadata": {
        "id": "a_y1lhH10vMv"
      },
      "outputs": [],
      "source": [
        "a = np.arange(20).reshape(4,5) ## via array bidimensional do NumPy (aula anterior)\n",
        "\n",
        "df = pd.DataFrame( a )\n",
        "df"
      ]
    },
    {
      "cell_type": "code",
      "execution_count": null,
      "metadata": {
        "id": "ngbln24cQPne"
      },
      "outputs": [],
      "source": [
        "# Também podemos representar uma série temporal multivariada\n",
        "\n",
        "## range de datas\n",
        "datas = pd.date_range(\"20190101\", periods=5)\n",
        "\n",
        "## Valores\n",
        "valores = np.arange(20).reshape(5,4)\n",
        "\n",
        "## DataFrame\n",
        "df = pd.DataFrame(data=valores, index=datas, columns=list(\"ABCD\"))\n",
        "df"
      ]
    },
    {
      "cell_type": "markdown",
      "metadata": {
        "id": "npTArlwxQQhN"
      },
      "source": [
        "É possível criar um **DataFrame** passando um dicionário de objetos em que as *chaves* são os nomes das colunas e os *valores* os dados."
      ]
    },
    {
      "cell_type": "code",
      "execution_count": null,
      "metadata": {
        "id": "WamCOGv9R6EN"
      },
      "outputs": [],
      "source": [
        "df2 = pd.DataFrame(\n",
        "    {\n",
        "        \"A\": 1.0,\n",
        "        \"B\": pd.Timestamp(\"20190102\"),\n",
        "        \"C\": pd.Series(1, index=list(range(4)), dtype=\"float32\"),\n",
        "        \"D\": np.array([1, 2, 3, 4], dtype=\"int32\"),\n",
        "        \"E\": pd.Categorical([\"teste\", \"treino\", \"teste\", \"treino\"]),\n",
        "        \"F\": np.nan,\n",
        "    }\n",
        ")\n",
        "\n",
        "df2"
      ]
    },
    {
      "cell_type": "markdown",
      "metadata": {
        "id": "CX_P-Gm1R6ts"
      },
      "source": [
        "As colunas do **DataFrame** resultante podem possuir diferentes tipos:"
      ]
    },
    {
      "cell_type": "code",
      "execution_count": null,
      "metadata": {
        "id": "WFBeUdUxSuN1"
      },
      "outputs": [],
      "source": [
        "print(df2)\n",
        "\n",
        "df2.dtypes"
      ]
    },
    {
      "cell_type": "markdown",
      "metadata": {
        "id": "-WgT2dB9Wwxd"
      },
      "source": [
        "Também é possível criar `DataFrame` passando um listas de objetos como colunas:"
      ]
    },
    {
      "cell_type": "code",
      "execution_count": null,
      "metadata": {
        "id": "RuwaHH3eWv3i"
      },
      "outputs": [],
      "source": [
        "import pandas as pd\n",
        "\n",
        "# Vetores como listas\n",
        "nomes = [\"Ana\", \"Bruno\", \"Clara\", \"Diego\"]\n",
        "idades = [23, 35, 29, 40]\n",
        "cidades = [\"São Paulo\", \"Rio de Janeiro\", \"Belo Horizonte\", \"Curitiba\"]\n",
        "\n",
        "# Criar o DataFrame combinando os vetores por colunas\n",
        "df = pd.DataFrame({\n",
        "    \"Nome\": nomes,\n",
        "    \"Idade\": idades,\n",
        "    \"Cidade\": cidades\n",
        "})\n",
        "\n",
        "print(df)\n"
      ]
    },
    {
      "cell_type": "markdown",
      "metadata": {
        "id": "hEJoUVidXurM"
      },
      "source": [
        "e também podemos criar passando vetores como linhas:"
      ]
    },
    {
      "cell_type": "code",
      "execution_count": null,
      "metadata": {
        "id": "NKxCZBd1X1QL"
      },
      "outputs": [],
      "source": [
        "import pandas as pd\n",
        "\n",
        "# Dados como vetores (linhas)\n",
        "linha1 = [\"Ana\", 23, \"São Paulo\"]\n",
        "linha2 = [\"Bruno\", 35, \"Rio de Janeiro\"]\n",
        "linha3 = [\"Clara\", 29, \"Belo Horizonte\"]\n",
        "\n",
        "# Criar o DataFrame\n",
        "df = pd.DataFrame(\n",
        "    [linha1, linha2, linha3],            # Passar as linhas\n",
        "    columns=[\"Nome\", \"Idade\", \"Cidade\"]  # Nomear as colunas\n",
        ")\n",
        "\n",
        "print(df)\n"
      ]
    },
    {
      "cell_type": "markdown",
      "metadata": {
        "id": "_oC666gsVYyg"
      },
      "source": [
        "## Exercício 1:\n",
        "\n",
        "Crie um vetor do tipo `Series` com:\n",
        "* as seguintes datas como indices: \"2023-01-01\", \"2023-03-15\", \"2023-07-20\", \"2023-12-25\".\n",
        "  * dica: utilize `pd.to_datetime([\"2023-01-01\", \"2023-03-15\", \"2023-07-20\", \"2023-12-25\"])`\n",
        "* os seguintes valores:  100, 200, 300, 400\n",
        "\n"
      ]
    },
    {
      "cell_type": "code",
      "execution_count": 1,
      "metadata": {},
      "outputs": [
        {
          "name": "stdout",
          "output_type": "stream",
          "text": [
            "2023-01-01    100\n",
            "2023-03-15    200\n",
            "2023-07-20    300\n",
            "2023-12-25    400\n",
            "dtype: int64\n"
          ]
        }
      ],
      "source": [
        "import numpy as np\n",
        "import pandas as pd\n",
        "\n",
        "datas = pd.to_datetime([\"2023-01-01\", \"2023-03-15\", \"2023-07-20\", \"2023-12-25\"])\n",
        "valores = [100, 200, 300, 400]\n",
        "\n",
        "s = pd.Series(data=valores, index=datas)\n",
        "print(s)"
      ]
    },
    {
      "cell_type": "markdown",
      "metadata": {
        "id": "3XyUKoNZaXQn"
      },
      "source": [
        "## Exercício 2\n",
        "\n",
        "Crie um `DataFrame` com 3 colunas chamadas `[\"Número\", \"Quadrado\", \"Cubo\"]`. Preencha com os números de 1 a 10 na coluna `Número`, e nas colunas `Quadrado` e `Cubo`, insira os valores correspondentes ao quadrado e ao cubo de cada número.\n"
      ]
    },
    {
      "cell_type": "code",
      "execution_count": 2,
      "metadata": {},
      "outputs": [
        {
          "name": "stdout",
          "output_type": "stream",
          "text": [
            "   Número  Quadrado  Cubo\n",
            "0       1         1     1\n",
            "1       2         4     8\n",
            "2       3         9    27\n",
            "3       4        16    64\n",
            "4       5        25   125\n",
            "5       6        36   216\n",
            "6       7        49   343\n",
            "7       8        64   512\n",
            "8       9        81   729\n"
          ]
        }
      ],
      "source": [
        "numero = np.arange(1, 10)\n",
        "\n",
        "df = pd.DataFrame({\n",
        "    \"Número\": numero,\n",
        "    \"Quadrado\": numero ** 2,\n",
        "    \"Cubo\": numero ** 3\n",
        "})\n",
        "\n",
        "print(df)"
      ]
    },
    {
      "cell_type": "markdown",
      "metadata": {
        "id": "urziTWczQxgB"
      },
      "source": [
        "## Visualização e ordenação"
      ]
    },
    {
      "cell_type": "markdown",
      "metadata": {
        "id": "4lKW1-ThSu9E"
      },
      "source": [
        "Use `DataFrame.head()` e `DataFrame.tail()` para visualizar as linhas iniciais e finais do *data frame*:"
      ]
    },
    {
      "cell_type": "code",
      "execution_count": null,
      "metadata": {
        "id": "t16iREG3UYYd"
      },
      "outputs": [],
      "source": [
        "datas = pd.date_range(\"20190101\", periods=6)\n",
        "\n",
        "df = pd.DataFrame(np.random.randn(6, 4), index=datas, columns=list(\"ABCD\"))\n",
        "print(\"df:\\n\", df)\n",
        "\n",
        "print(\"\\ndf.head(3):\")\n",
        "df.head(3)"
      ]
    },
    {
      "cell_type": "code",
      "execution_count": null,
      "metadata": {
        "id": "s5WAtJnjUYpM"
      },
      "outputs": [],
      "source": [
        "df.tail(3)"
      ]
    },
    {
      "cell_type": "markdown",
      "metadata": {
        "id": "rBfn-PDEUY7E"
      },
      "source": [
        "Use `DataFrame.index` e `DataFrame.columns` para obter, respectivamente, os índices e as colunas:"
      ]
    },
    {
      "cell_type": "code",
      "execution_count": null,
      "metadata": {
        "id": "CFp1zLTOYCzM"
      },
      "outputs": [],
      "source": [
        "df.index"
      ]
    },
    {
      "cell_type": "code",
      "execution_count": null,
      "metadata": {
        "id": "HH87F9UBYDak"
      },
      "outputs": [],
      "source": [
        "df.columns"
      ]
    },
    {
      "cell_type": "markdown",
      "metadata": {
        "id": "_ctFrSBhYD5s"
      },
      "source": [
        "Retorne uma representação *NumPy* dos dados com `DataFrame.to_numpy()`, descartando os indices e as colunas:"
      ]
    },
    {
      "cell_type": "code",
      "execution_count": null,
      "metadata": {
        "id": "9n-11EQvZy69"
      },
      "outputs": [],
      "source": [
        "df.to_numpy() ## resulta em um array bidimensional"
      ]
    },
    {
      "cell_type": "markdown",
      "metadata": {
        "id": "BdUhV-C4Zzsd"
      },
      "source": [
        "**Nota**: matrizes *NumPy* possuem um único `dtype` enquanto os *data frames* do *Pandas* possuem um `dtype` por coluna. Ao chamar `DataFrame.to_numpy()`, o *Pandas* converterá os tipos de dados para um tipo que comporte todos os tipos de dados."
      ]
    },
    {
      "cell_type": "code",
      "execution_count": null,
      "metadata": {
        "id": "tA8JT0uKbJnM"
      },
      "outputs": [],
      "source": [
        "df2.dtypes"
      ]
    },
    {
      "cell_type": "code",
      "execution_count": null,
      "metadata": {
        "id": "fJ_YCf8-bKNL"
      },
      "outputs": [],
      "source": [
        "df2.to_numpy()"
      ]
    },
    {
      "cell_type": "markdown",
      "metadata": {
        "id": "d_5tiJpZbKs0"
      },
      "source": [
        "`describe()` mostra uma breve descrição estatística do conjunto de dados:"
      ]
    },
    {
      "cell_type": "code",
      "execution_count": null,
      "metadata": {
        "id": "OTDi7b5_cOEL"
      },
      "outputs": [],
      "source": [
        "df.describe()"
      ]
    },
    {
      "cell_type": "markdown",
      "metadata": {
        "id": "THPgwH2qcPvT"
      },
      "source": [
        "Transpondo os dados:"
      ]
    },
    {
      "cell_type": "code",
      "execution_count": null,
      "metadata": {
        "id": "TFhNzLXFcvZn"
      },
      "outputs": [],
      "source": [
        "df.T"
      ]
    },
    {
      "cell_type": "markdown",
      "metadata": {
        "id": "G4jBoTedcwEN"
      },
      "source": [
        "`DataFrame.sort_index()` ordena os dados com relação a um determinado eixo:"
      ]
    },
    {
      "cell_type": "code",
      "execution_count": null,
      "metadata": {
        "id": "ZjbfZBKYd0H0"
      },
      "outputs": [],
      "source": [
        "a = df.sort_index(axis=0, ascending=False) # ordenação descendente pelo nome das linhas\n",
        "print(a)\n",
        "\n",
        "b = df.sort_index(axis=1, ascending=False) # ordenação descendente pelo nome das colunas\n",
        "print(b)"
      ]
    },
    {
      "cell_type": "markdown",
      "metadata": {
        "id": "eAyY2xBFd0ts"
      },
      "source": [
        "`DataFrame.sort_values()` ordena os valores de acordo com uma coluna:"
      ]
    },
    {
      "cell_type": "code",
      "execution_count": null,
      "metadata": {
        "id": "dF9jpwb9d1OU"
      },
      "outputs": [],
      "source": [
        "df.sort_values(by=\"B\")"
      ]
    },
    {
      "cell_type": "markdown",
      "metadata": {
        "id": "8PabNIab6lRw"
      },
      "source": [
        "## Seleção de valores"
      ]
    },
    {
      "cell_type": "markdown",
      "metadata": {
        "id": "e6Pyt3Xvd1vD"
      },
      "source": [
        "Em Pandas, o fatiamento de valores pode ser feito de modo semelhante ao NumPy/Python, mas é recomendado utilizar os métodos otimizados :para acessar dados: `DataFrame.at()`, `DataFrame.iat()`, `DataFrame.loc()` e `DataFrame.iloc()`:\n",
        "\n",
        "- `.at` e `.iat`: acesso rápido para um único elemento (rótulo ou posição).\n",
        "\n",
        "- `.loc` e `.iloc`: acesso mais geral (por rótulos ou posições, respectivamente)."
      ]
    },
    {
      "cell_type": "code",
      "execution_count": null,
      "metadata": {
        "id": "bXijGohtnIq5"
      },
      "outputs": [],
      "source": [
        "## DataFrame que será utilizado para ilustrar as funções\n",
        "datas = pd.date_range(\"20190101\", periods=6)\n",
        "\n",
        "df = pd.DataFrame(np.random.randn(6, 4), index=datas, columns=list(\"ABCD\"))\n",
        "\n",
        "print(\"df:\\n\", df)"
      ]
    },
    {
      "cell_type": "markdown",
      "metadata": {
        "id": "c05ZgT4A6yrl"
      },
      "source": [
        "Para um `DataFrame`, ao receber um nome entre colchetes, a coluna correspondente é selecionada."
      ]
    },
    {
      "cell_type": "code",
      "execution_count": null,
      "metadata": {
        "id": "xsNU95RL84Un"
      },
      "outputs": [],
      "source": [
        "df[\"A\"]"
      ]
    },
    {
      "cell_type": "markdown",
      "metadata": {
        "id": "WQSJYnomnJGg"
      },
      "source": [
        "Uma forma alternativa de referenciar uma coluna é usando `.`:"
      ]
    },
    {
      "cell_type": "code",
      "execution_count": null,
      "metadata": {
        "id": "9mlo2XBQnJhw"
      },
      "outputs": [],
      "source": [
        "df.A"
      ]
    },
    {
      "cell_type": "markdown",
      "metadata": {
        "id": "J2PDVukRnJzI"
      },
      "source": [
        "Em um `DataFrame`, o operador `:` seleciona as linhas correspondentes:"
      ]
    },
    {
      "cell_type": "code",
      "execution_count": null,
      "metadata": {
        "id": "NeOMz_wbpgJQ"
      },
      "outputs": [],
      "source": [
        "df[0:3]\n",
        "\n",
        "## no entanto, não vale para coluna\n",
        "## df[0:3, 1:2] ## ERROR!"
      ]
    },
    {
      "cell_type": "markdown",
      "metadata": {
        "id": "SW56qdzr7cGA"
      },
      "source": [
        "A seleção também funciona para valores dos índices:"
      ]
    },
    {
      "cell_type": "code",
      "execution_count": null,
      "metadata": {
        "id": "6rVZ9Ab5pgXH"
      },
      "outputs": [],
      "source": [
        "df[\"20190102\":\"20190104\"]\n",
        "##  neste exemplo,  utilizamos o padrão \"AAAAMMDD\"\n",
        "##  resultados equivalentes são obtidos para os padrões\n",
        "##  \"AAAA-MM-DD\",\"AAAA/MMDD\""
      ]
    },
    {
      "cell_type": "markdown",
      "metadata": {
        "id": "wmmchX3P7g2K"
      },
      "source": [
        "### Seleção por nome\n",
        "\n",
        "Vamos utilizar as funções `DataFrame.loc()` e `DataFrame.at()`."
      ]
    },
    {
      "cell_type": "markdown",
      "metadata": {
        "id": "htBeGFfZpgsn"
      },
      "source": [
        "Selecionando uma linha relativa ao nome:"
      ]
    },
    {
      "cell_type": "code",
      "execution_count": null,
      "metadata": {
        "id": "bnw50jhgqo4Q"
      },
      "outputs": [],
      "source": [
        "df.loc[datas[0]]"
      ]
    },
    {
      "cell_type": "markdown",
      "metadata": {
        "id": "qzT-OsZdqpLx"
      },
      "source": [
        "Selecionandos todas as linhas (`:`) com a seleção da coluna por nomes:"
      ]
    },
    {
      "cell_type": "code",
      "execution_count": null,
      "metadata": {
        "id": "unbLUEh5rVjg"
      },
      "outputs": [],
      "source": [
        "df.loc[:, [\"A\", \"B\"]]"
      ]
    },
    {
      "cell_type": "markdown",
      "metadata": {
        "id": "Gnhd8GROrWLg"
      },
      "source": [
        "Ao selecionar linhas, ambos os limites são incluídos:"
      ]
    },
    {
      "cell_type": "code",
      "execution_count": null,
      "metadata": {
        "id": "dhhvw41Qs6m4"
      },
      "outputs": [],
      "source": [
        "df.loc[\"20190102\":\"20190104\", [\"A\", \"B\"]]"
      ]
    },
    {
      "cell_type": "markdown",
      "metadata": {
        "id": "b-QlQs0hs7Nf"
      },
      "source": [
        "Ao selecionar uma única linha e coluna, o resultado é um escalar:"
      ]
    },
    {
      "cell_type": "code",
      "execution_count": null,
      "metadata": {
        "id": "20WIYVEOtcRT"
      },
      "outputs": [],
      "source": [
        "df.loc[datas[0], \"A\"]"
      ]
    },
    {
      "cell_type": "markdown",
      "metadata": {
        "id": "0WiwExBOtdFA"
      },
      "source": [
        "Um método de acesso mais rápido é:"
      ]
    },
    {
      "cell_type": "code",
      "execution_count": null,
      "metadata": {
        "id": "D2CSAr6HuaYw"
      },
      "outputs": [],
      "source": [
        "df.at[datas[0], \"A\"]\n",
        "\n",
        "## a função .at só permite acessar uma celula por vez\n",
        "## df.at[datas[0:2], \"A\"] ## Erro!"
      ]
    },
    {
      "cell_type": "markdown",
      "metadata": {
        "id": "GWjo3c4k7uQD"
      },
      "source": [
        "### Seleção por posição\n",
        "\n",
        "Vamos utilizar as funções `DataFrame.iloc()` e `DataFrame.iat()`."
      ]
    },
    {
      "cell_type": "markdown",
      "metadata": {
        "id": "kJp9N0Qwua7n"
      },
      "source": [
        "A seleção por posição é feita passando valores inteiros:"
      ]
    },
    {
      "cell_type": "code",
      "execution_count": null,
      "metadata": {
        "id": "-Wl4R0Buu0Rf"
      },
      "outputs": [],
      "source": [
        "df.iloc[3]"
      ]
    },
    {
      "cell_type": "markdown",
      "metadata": {
        "id": "k8Lw9QZJu00v"
      },
      "source": [
        "Seleção por inteiros age de forma similar no *NumPy*:"
      ]
    },
    {
      "cell_type": "code",
      "execution_count": null,
      "metadata": {
        "id": "sw2h0ofcwBPY"
      },
      "outputs": [],
      "source": [
        "df.iloc[3:5, 0:2]\n",
        "\n",
        "## Erro comum: esquecer do .iloc\n",
        "## df[3:5,0:2] ## gera um erro"
      ]
    },
    {
      "cell_type": "markdown",
      "metadata": {
        "id": "e8CvuT1BwB2G"
      },
      "source": [
        "Selecionando por listas de inteiros:"
      ]
    },
    {
      "cell_type": "code",
      "execution_count": null,
      "metadata": {
        "id": "i9NsdSBCwyvo"
      },
      "outputs": [],
      "source": [
        "df.iloc[[1, 2, 4], [0, 2]]"
      ]
    },
    {
      "cell_type": "markdown",
      "metadata": {
        "id": "5rBRYRAKwzTP"
      },
      "source": [
        "Selecionando linhas explicitamente:"
      ]
    },
    {
      "cell_type": "code",
      "execution_count": null,
      "metadata": {
        "id": "_gLpjk5HxJfn"
      },
      "outputs": [],
      "source": [
        "df.iloc[1:3, :]"
      ]
    },
    {
      "cell_type": "markdown",
      "metadata": {
        "id": "lis_-BddxKE_"
      },
      "source": [
        "Selecionando colunas explicitamente:"
      ]
    },
    {
      "cell_type": "code",
      "execution_count": null,
      "metadata": {
        "id": "Th90Xzxwxf_g"
      },
      "outputs": [],
      "source": [
        "df.iloc[:, 1:3]"
      ]
    },
    {
      "cell_type": "markdown",
      "metadata": {
        "id": "z07UOmnqxgeo"
      },
      "source": [
        "Selecionando os valores explicitamente:"
      ]
    },
    {
      "cell_type": "code",
      "execution_count": null,
      "metadata": {
        "id": "QFFkvkqKyGQQ"
      },
      "outputs": [],
      "source": [
        "df.iloc[1, 1]"
      ]
    },
    {
      "cell_type": "markdown",
      "metadata": {
        "id": "-loLZh38yGzf"
      },
      "source": [
        "Para fazer um acesso rápido usando o escalar:"
      ]
    },
    {
      "cell_type": "code",
      "execution_count": null,
      "metadata": {
        "id": "bphh_bZ3yc6X"
      },
      "outputs": [],
      "source": [
        "df.iat[1, 1]\n",
        "\n",
        "## a função .iat só permite acessar uma celula por vez.\n",
        "## df.iat[0:2, 1] ## Erro."
      ]
    },
    {
      "cell_type": "markdown",
      "metadata": {
        "id": "4RN1pF9N78DQ"
      },
      "source": [
        "### Seleção por valores lógicos"
      ]
    },
    {
      "cell_type": "markdown",
      "metadata": {
        "id": "uoGNYa6fydpn"
      },
      "source": [
        "Seleção de valores com base em uma coluna:"
      ]
    },
    {
      "cell_type": "code",
      "execution_count": null,
      "metadata": {
        "id": "BOjxdheGy7XH"
      },
      "outputs": [],
      "source": [
        "df[df[\"A\"] > 0] ## seleciona as linhas em que a coluna A tem valores positivos"
      ]
    },
    {
      "cell_type": "markdown",
      "metadata": {
        "id": "yEFLSLoQy7_3"
      },
      "source": [
        "Selecionando valores de um `DataFrame` que atendem uma determinada condição lógica:"
      ]
    },
    {
      "cell_type": "code",
      "execution_count": null,
      "metadata": {
        "id": "kBdAHLxsy8go"
      },
      "outputs": [],
      "source": [
        "df[df > 0]"
      ]
    },
    {
      "cell_type": "markdown",
      "metadata": {
        "id": "Hio40Swey8_-"
      },
      "source": [
        "Usando `isin()` para seleção:"
      ]
    },
    {
      "cell_type": "code",
      "execution_count": null,
      "metadata": {
        "id": "rjgFm5rIz5Yf"
      },
      "outputs": [],
      "source": [
        "df2 = df.copy()\n",
        "\n",
        "## acrescenta a coluna E\n",
        "df2[\"E\"] = [\"um\", \"um\", \"dois\", \"três\", \"quatro\", \"três\"]\n",
        "df2"
      ]
    },
    {
      "cell_type": "code",
      "execution_count": null,
      "metadata": {
        "id": "X28UREtGz5le"
      },
      "outputs": [],
      "source": [
        "print( df2[\"E\"].isin([\"um\", \"quatro\"]) )\n",
        "\n",
        "df2[df2[\"E\"].isin([\"um\", \"quatro\"])]"
      ]
    },
    {
      "cell_type": "markdown",
      "metadata": {
        "id": "GMFYK4nGfruA"
      },
      "source": [
        "## Exercício 3\n",
        "\n",
        "Considere o seguinte `DataFrame`:\n",
        "```python\n",
        "df = pd.DataFrame({\n",
        "    \"Nome\": [\"Ana\", \"Bruno\", \"Clara\", \"Diego\"],\n",
        "    \"Idade\": [23, 35, 29, 40],\n",
        "    \"Cidade\": [\"São Paulo\", \"Rio de Janeiro\", \"Belo Horizonte\", \"Curitiba\"]\n",
        "})\n",
        "```\n",
        "Então:\n",
        "\n",
        "1. Selecione apenas a coluna `Idade`.\n",
        "1. Selecione as colunas [\"Nome\", \"Cidade\"].\n",
        "1. Filtre apenas as linhas onde a idade seja maior que 30."
      ]
    },
    {
      "cell_type": "code",
      "execution_count": 3,
      "metadata": {},
      "outputs": [
        {
          "name": "stdout",
          "output_type": "stream",
          "text": [
            "0    23\n",
            "1    35\n",
            "2    29\n",
            "3    40\n",
            "Name: Idade, dtype: int64\n",
            "    Nome          Cidade\n",
            "0    Ana       São Paulo\n",
            "1  Bruno  Rio de Janeiro\n",
            "2  Clara  Belo Horizonte\n",
            "3  Diego        Curitiba\n",
            "    Nome  Idade          Cidade\n",
            "1  Bruno     35  Rio de Janeiro\n",
            "3  Diego     40        Curitiba\n"
          ]
        }
      ],
      "source": [
        "df = pd.DataFrame(\n",
        "    {\n",
        "        \"Nome\": [\"Ana\", \"Bruno\", \"Clara\", \"Diego\"],\n",
        "        \"Idade\": [23, 35, 29, 40],\n",
        "        \"Cidade\": [\"São Paulo\", \"Rio de Janeiro\", \"Belo Horizonte\", \"Curitiba\"],\n",
        "    }\n",
        ")\n",
        "\n",
        "print(df.Idade)\n",
        "print(df.loc[:, [\"Nome\", \"Cidade\"]])\n",
        "print(df[df.Idade > 30])"
      ]
    },
    {
      "cell_type": "markdown",
      "metadata": {
        "id": "aqoz9VSUhvri"
      },
      "source": [
        "## Exercício 4\n",
        "\n",
        "Considere o seguinte `DataFrame`:\n",
        "```python\n",
        "df = pd.DataFrame({\n",
        "    \"População (milhões)\": [211, 144, 331, 67, 83],\n",
        "    \"PIB (trilhões USD)\": [1.84, 1.48, 22.68, 2.83, 4.22],\n",
        "    \"Continente\": [\"América\", \"Asia\", \"América\", \"Europa\", \"Europa\"]\n",
        "    },\n",
        "    index=[\"Brasil\", \"Rússia\", \"Estados Unidos\", \"França\", \"Alemanha\"])\n",
        "```\n",
        "Então:\n",
        "\n",
        "1. Selecione as linhas correspondentes a \"Brasil\" e \"Alemanha\".\n",
        "1. Use `.loc` para selecionar a população e o PIB dos \"Estados Unidos\".\n",
        "1. Use `.iloc` para selecionar os dados dos dois primeiros países.\n",
        "1. Use `.isin` para todos os países que estão na América ou na Asia."
      ]
    },
    {
      "cell_type": "code",
      "execution_count": 4,
      "metadata": {},
      "outputs": [
        {
          "name": "stdout",
          "output_type": "stream",
          "text": [
            "          População (milhões)  PIB (trilhões USD) Continente\n",
            "Brasil                    211                1.84    América\n",
            "Alemanha                   83                4.22     Europa\n",
            "22.68\n",
            "        População (milhões)  PIB (trilhões USD) Continente\n",
            "Brasil                  211                1.84    América\n",
            "Rússia                  144                1.48       Asia\n",
            "                População (milhões)  PIB (trilhões USD) Continente\n",
            "Brasil                          211                1.84    América\n",
            "Rússia                          144                1.48       Asia\n",
            "Estados Unidos                  331               22.68    América\n"
          ]
        }
      ],
      "source": [
        "df = pd.DataFrame(\n",
        "    {\n",
        "        \"População (milhões)\": [211, 144, 331, 67, 83],\n",
        "        \"PIB (trilhões USD)\": [1.84, 1.48, 22.68, 2.83, 4.22],\n",
        "        \"Continente\": [\"América\", \"Asia\", \"América\", \"Europa\", \"Europa\"],\n",
        "    },\n",
        "    index=[\"Brasil\", \"Rússia\", \"Estados Unidos\", \"França\", \"Alemanha\"],\n",
        ")\n",
        "\n",
        "print(df[df.index.isin([\"Brasil\", \"Alemanha\"])])\n",
        "print(df.loc[\"Estados Unidos\", \"PIB (trilhões USD)\"])\n",
        "print(df.iloc[0:2, :])\n",
        "print(df[df.Continente.isin([\"América\", \"Asia\"])])"
      ]
    },
    {
      "cell_type": "markdown",
      "metadata": {
        "id": "gGQaGH6K8HFD"
      },
      "source": [
        "## Atualização de valores"
      ]
    },
    {
      "cell_type": "markdown",
      "metadata": {
        "id": "0wZlOexwz53e"
      },
      "source": [
        "Ao incluir uma nova coluna os índices são pareados automaticamente:"
      ]
    },
    {
      "cell_type": "code",
      "execution_count": null,
      "metadata": {
        "id": "A6ZOMwEl07Mf"
      },
      "outputs": [],
      "source": [
        "import numpy as np\n",
        "import pandas as pd\n",
        "\n",
        "datas = pd.date_range(\"20190101\", periods=6)\n",
        "\n",
        "df = pd.DataFrame(np.random.randn(6, 4), index=datas, columns=list(\"ABCD\"))\n",
        "print(\"df:\\n\", df)\n",
        "\n",
        "## vetor com uma data a frente\n",
        "s1 = pd.Series([1, 2, 3, 4, 5, 6], index=pd.date_range(\"20190102\", periods=6))\n",
        "print(\"\\ns1:\\n\", s1)\n",
        "\n",
        "## a primeira posição fica NaN\n",
        "df[\"F\"] = s1\n",
        "print(\"\\nNovo df:\\n\", df)"
      ]
    },
    {
      "cell_type": "markdown",
      "metadata": {
        "id": "U08QkQOQ08RX"
      },
      "source": [
        "Atualizando valores por nome:"
      ]
    },
    {
      "cell_type": "code",
      "execution_count": null,
      "metadata": {
        "id": "QttN0rKe1jPv"
      },
      "outputs": [],
      "source": [
        "df.at[datas[0], \"A\"] = 0\n",
        "df"
      ]
    },
    {
      "cell_type": "markdown",
      "metadata": {
        "id": "oBJqPDwK1jy-"
      },
      "source": [
        "Atualizando valores por posição:"
      ]
    },
    {
      "cell_type": "code",
      "execution_count": null,
      "metadata": {
        "id": "bDf97iJc19aI"
      },
      "outputs": [],
      "source": [
        "df.iat[0, 1] = 0\n",
        "df"
      ]
    },
    {
      "cell_type": "markdown",
      "metadata": {
        "id": "xiR1Vp2b19tn"
      },
      "source": [
        "Atualização de valores com uma matriz *NumPy*:"
      ]
    },
    {
      "cell_type": "code",
      "execution_count": null,
      "metadata": {
        "id": "TfGIS6Ht4wFX"
      },
      "outputs": [],
      "source": [
        "df.loc[:, \"D\"] = np.array([5] * len(df))\n",
        "df"
      ]
    },
    {
      "cell_type": "markdown",
      "metadata": {
        "id": "jZrzxIHW4wsn"
      },
      "source": [
        "Uma operação `where` como atualização de valores:"
      ]
    },
    {
      "cell_type": "code",
      "execution_count": null,
      "metadata": {
        "id": "_IwwXOhe6Gj4"
      },
      "outputs": [],
      "source": [
        "df2 = df.copy()\n",
        "\n",
        "print(\"df2:\\n\", df2)\n",
        "\n",
        "print(\"\\ndf2 > 0:\\n\", df2 > 0)\n",
        "\n",
        "df2[df2 > 0] = -df2\n",
        "\n",
        "print(\"\\nnovo df2:\\n\", df2)"
      ]
    },
    {
      "cell_type": "markdown",
      "metadata": {
        "id": "8rHU8qC-8ZBm"
      },
      "source": [
        "## Dados faltantes (*missing data*)"
      ]
    },
    {
      "cell_type": "markdown",
      "metadata": {
        "id": "85MfAZQ66HMe"
      },
      "source": [
        "Para o *NumPy*, `np.nan` (ou `pd.NA` no *Pandas*) representa um dado faltante. Ele é, por padrão, excluído dos cálculos.\n",
        "\n",
        "Reindexação permite mudar/adicionar/excluir o índice de um eixo especifico e retorna uma cópia dos dados:"
      ]
    },
    {
      "cell_type": "code",
      "execution_count": null,
      "metadata": {
        "id": "tM0CgEHe7kfI"
      },
      "outputs": [],
      "source": [
        "import numpy as np\n",
        "import pandas as pd\n",
        "\n",
        "datas = pd.date_range(\"20190101\", periods=6)\n",
        "\n",
        "# Cria um 'DataFrame' indexado pelas datas acima, com valores aleatórios...\n",
        "df = pd.DataFrame(np.random.randn(6, 4), index=datas, columns=list(\"ABCD\"))\n",
        "\n",
        "# modifica duas célunas de B para NaN\n",
        "df.iloc[2:4,1] = np.nan\n",
        "\n",
        "print(\"df:\\n\", df)"
      ]
    },
    {
      "cell_type": "markdown",
      "metadata": {
        "id": "Ss7kmqKZ7k1X"
      },
      "source": [
        "`DataFrame.dropna()` ignora as linhas que possuem dados faltantes:"
      ]
    },
    {
      "cell_type": "code",
      "execution_count": null,
      "metadata": {
        "id": "Wz21rFfV8KpH"
      },
      "outputs": [],
      "source": [
        "df.dropna(how=\"any\")"
      ]
    },
    {
      "cell_type": "markdown",
      "metadata": {
        "id": "W_JCVe2q8L--"
      },
      "source": [
        "`DataFrame.fillna()` preenche os dados faltantes com o valor fornecido:"
      ]
    },
    {
      "cell_type": "code",
      "execution_count": null,
      "metadata": {
        "id": "lOkjr5pq9M4_"
      },
      "outputs": [],
      "source": [
        "df.fillna(value=5)"
      ]
    },
    {
      "cell_type": "markdown",
      "metadata": {
        "id": "oERHdssM9WPW"
      },
      "source": [
        "`isna()` retorna uma matriz lógica indicando as posições faltantes:"
      ]
    },
    {
      "cell_type": "code",
      "execution_count": null,
      "metadata": {
        "id": "KxFjwH-_9lri"
      },
      "outputs": [],
      "source": [
        "pd.isna(df)"
      ]
    },
    {
      "cell_type": "markdown",
      "metadata": {
        "id": "bMYtTlgl8pLh"
      },
      "source": [
        "### Operações com dados faltantes"
      ]
    },
    {
      "cell_type": "markdown",
      "metadata": {
        "id": "M0AAIvRn9tu5"
      },
      "source": [
        "As operações, em geral, excluem os dados faltantes.\n",
        "\n",
        "Exemplo, calculando a média para cada coluna:"
      ]
    },
    {
      "cell_type": "code",
      "execution_count": null,
      "metadata": {
        "id": "SUmPIK3s_-DM"
      },
      "outputs": [],
      "source": [
        "import numpy as np\n",
        "import pandas as pd\n",
        "\n",
        "datas = pd.date_range(\"20190101\", periods=6)\n",
        "\n",
        "valores = np.arange(24, dtype=float).reshape(6, 4)\n",
        "\n",
        "df = pd.DataFrame(valores, index=datas, columns=list(\"ABCD\"))\n",
        "\n",
        "df[abs(df)>10.0] = np.nan\n",
        "\n",
        "print(\"df:\\n\", df)\n",
        "\n",
        "df.mean() ## média por colunas"
      ]
    },
    {
      "cell_type": "markdown",
      "metadata": {
        "id": "4YJTjkEYAHFu"
      },
      "source": [
        "Calculando a média para cada linha:"
      ]
    },
    {
      "cell_type": "code",
      "execution_count": null,
      "metadata": {
        "id": "2Pbws0_FATN3"
      },
      "outputs": [],
      "source": [
        "df.mean(axis=1) ## media por linhas"
      ]
    },
    {
      "cell_type": "markdown",
      "metadata": {
        "id": "mh_eZ14JAiZ2"
      },
      "source": [
        "As operações que envolvam outras `Series` ou `DataFrame` com índices ou colunas diferentes irão alinhar os resultados com a união dos índices e nomes de colunas. Além disso, o *Pandas* automaticamente propaga os valores ao longo das dimensões especificadas e preenche os pares não alinhados com `np.nan`."
      ]
    },
    {
      "cell_type": "code",
      "execution_count": null,
      "metadata": {
        "id": "F34HHAteBPuv"
      },
      "outputs": [],
      "source": [
        "s = pd.Series([1, 3, 5, np.nan, 6, 8, 2], index=pd.date_range(\"20190101\", periods=7))\n",
        "print(\"s:\\n\",s)\n",
        "\n",
        "s = s.shift(2) ## atrasa os dados em 2 indices\n",
        "print(\"\\nnovo s:\\n\",s)"
      ]
    },
    {
      "cell_type": "markdown",
      "metadata": {
        "id": "Up85bCdMRUVm"
      },
      "source": [
        "O método `pandas.sub()` subtrai os elementos do *dataframe* com os elementos de outro *dataframe* de acordo com os indices:"
      ]
    },
    {
      "cell_type": "code",
      "execution_count": null,
      "metadata": {
        "id": "bT3GIZLfBRSG"
      },
      "outputs": [],
      "source": [
        "df = pd.DataFrame( np.arange(24, dtype=float).reshape(6, 4), index=datas, columns=list(\"ABCD\"))\n",
        "\n",
        "print(\"df:\\n\", df)\n",
        "\n",
        "print(\"\\ns:\\n\", s)\n",
        "\n",
        "print(\"\\ndf.sub:\\n\")\n",
        "df.sub(s, axis=\"index\") ## a subtração é feita de acordo com os indices"
      ]
    },
    {
      "cell_type": "markdown",
      "metadata": {
        "id": "_RhT-FjFqdKv"
      },
      "source": [
        "## Exercício 5\n",
        "\n",
        "Considere o seguinte `DataFrame`:\n",
        "```python\n",
        "dados = {\n",
        "    \"Produto\": [\"Notebook\", \"Celular\", \"Tablet\", \"Fone de Ouvido\", \"Monitor\", \"Mouse\"],\n",
        "    \"Preço\": [2500, 1500, np.nan, 200, 800, 100],\n",
        "    \"Estoque\": [10, 5, 2, 50, np.nan, 150],\n",
        "    \"Categoria\": [\"Eletrônicos\", \"Eletrônicos\", \"Eletrônicos\", \"Acessórios\", \"Periféricos\", \"Periféricos\"],\n",
        "    \"Avaliação\": [4.5, np.nan, 3.8, 4.2, 3.9, np.nan]\n",
        "}\n",
        "\n",
        "df = pd.DataFrame(dados)\n",
        "```\n",
        "Então:\n",
        "\n",
        "1. Atualize o preço do produto \"Tablet\" para 1800.\n",
        "1. Reduza em 20% o preço de todos os produtos da categoria \"Eletrônicos\".\n",
        "1. Mostre a planilha excluindo as linhas com valores faltantes.\n",
        "1. Preencha os valores faltantes na coluna Estoque com 0."
      ]
    },
    {
      "cell_type": "code",
      "execution_count": 5,
      "metadata": {},
      "outputs": [
        {
          "name": "stdout",
          "output_type": "stream",
          "text": [
            "          Produto   Preço  Estoque    Categoria  Avaliação\n",
            "0        Notebook  2000.0     10.0  Eletrônicos        4.5\n",
            "2          Tablet  1440.0      2.0  Eletrônicos        3.8\n",
            "3  Fone de Ouvido   200.0     50.0   Acessórios        4.2\n",
            "          Produto   Preço  Estoque    Categoria  Avaliação\n",
            "0        Notebook  2000.0     10.0  Eletrônicos        4.5\n",
            "1         Celular  1200.0      5.0  Eletrônicos        NaN\n",
            "2          Tablet  1440.0      2.0  Eletrônicos        3.8\n",
            "3  Fone de Ouvido   200.0     50.0   Acessórios        4.2\n",
            "4         Monitor   800.0      0.0  Periféricos        3.9\n",
            "5           Mouse   100.0    150.0  Periféricos        NaN\n"
          ]
        }
      ],
      "source": [
        "dados = {\n",
        "    \"Produto\": [\"Notebook\", \"Celular\", \"Tablet\", \"Fone de Ouvido\", \"Monitor\", \"Mouse\"],\n",
        "    \"Preço\": [2500, 1500, np.nan, 200, 800, 100],\n",
        "    \"Estoque\": [10, 5, 2, 50, np.nan, 150],\n",
        "    \"Categoria\": [\n",
        "        \"Eletrônicos\",\n",
        "        \"Eletrônicos\",\n",
        "        \"Eletrônicos\",\n",
        "        \"Acessórios\",\n",
        "        \"Periféricos\",\n",
        "        \"Periféricos\",\n",
        "    ],\n",
        "    \"Avaliação\": [4.5, np.nan, 3.8, 4.2, 3.9, np.nan],\n",
        "}\n",
        "\n",
        "df = pd.DataFrame(dados)\n",
        "\n",
        "df.loc[df.Produto == \"Tablet\", \"Preço\"] = 1800\n",
        "df.loc[df.Categoria == \"Eletrônicos\", \"Preço\"] = df.Preço * 0.8\n",
        "print(df.dropna())\n",
        "df.Estoque = df.Estoque.fillna(value=0)\n",
        "\n",
        "print(df)"
      ]
    }
  ],
  "metadata": {
    "colab": {
      "authorship_tag": "ABX9TyMSnOqtLYuvo0aLtoOcCqJz",
      "include_colab_link": true,
      "provenance": [],
      "toc_visible": true
    },
    "kernelspec": {
      "display_name": "Python 3",
      "name": "python3"
    },
    "language_info": {
      "codemirror_mode": {
        "name": "ipython",
        "version": 3
      },
      "file_extension": ".py",
      "mimetype": "text/x-python",
      "name": "python",
      "nbconvert_exporter": "python",
      "pygments_lexer": "ipython3",
      "version": "3.12.3"
    }
  },
  "nbformat": 4,
  "nbformat_minor": 0
}
