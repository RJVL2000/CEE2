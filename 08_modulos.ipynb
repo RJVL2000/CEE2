{
  "cells": [
    {
      "cell_type": "markdown",
      "metadata": {
        "colab_type": "text",
        "id": "view-in-github"
      },
      "source": [
        "<a href=\"https://colab.research.google.com/github/jafiorucci/CEE2PY125/blob/main/8_modulos.ipynb\" target=\"_parent\"><img src=\"https://colab.research.google.com/assets/colab-badge.svg\" alt=\"Open In Colab\"/></a>"
      ]
    },
    {
      "cell_type": "markdown",
      "metadata": {
        "id": "nWvtlNk6rZjh"
      },
      "source": [
        "# Modularização de códigos (bibliotecas)\n"
      ]
    },
    {
      "cell_type": "markdown",
      "metadata": {
        "id": "ythSyQdrrwPK"
      },
      "source": [
        "Um **módulo** é o conceito usado pelo *Python* semelhante às bibliotecas no R ou no C: um arquivo contendo códigos que pode ser utilizado em outro arquivo de código.\n",
        "\n",
        "> Os módulos podem conter funções e também podem conter vetores, dicionários, objetos, classes, etc.\n",
        "\n",
        "> Para criar um **módulo** apenas grave o código com as funções e classes que deseja reaproveitar em um arquivo com extensão `.py`."
      ]
    },
    {
      "cell_type": "markdown",
      "metadata": {
        "id": "mU2XtuWwvf8I"
      },
      "source": [
        "## Exemplo 1: criando módulos\n",
        "\n",
        "Vamos criar um módulo chamado `meu_modulo.py` e vamos colocar algumas funções da ultima aula dentro dele.\n",
        "\n",
        "> O comando `%%writefile` é utilizado para escrever o conteúdo de uma célula do notebook em um arquivo. O arquivo ficará disponível no seu ambiente de trabalho.\n",
        "\n",
        "> Para isto, rode a célula abaixo."
      ]
    },
    {
      "cell_type": "code",
      "execution_count": null,
      "metadata": {
        "id": "KPkLoHJktfw8"
      },
      "outputs": [],
      "source": [
        "# Cria um arquivo chamado meu_modulo.py\n",
        "%%writefile me_modulo.py\n",
        "\n",
        "def soma(a, b):\n",
        "    return a + b\n",
        "\n",
        "def squared(x):\n",
        "  return x ** 2\n",
        "\n",
        "def cumprimentar(nome):\n",
        "    print(f\"Olá, {nome}! Seja bem-vindo.\")\n",
        "\n",
        "def cumprimentar2(cumprimento, nome):\n",
        "    print(cumprimento + \", \" + nome + \"!\")"
      ]
    },
    {
      "cell_type": "markdown",
      "metadata": {
        "id": "PpgLQ_wwxeE1"
      },
      "source": [
        "## Import\n",
        "\n",
        "Para utilizar um módulo basta importar o módulo com a palavra `import`.\n",
        "\n",
        "> Ao importar um módulo usando `import modulo`, o *Python* cria um novo **namespace** (espaço de nomes) chamado `modulo` com o conteúdo deste módulo. Para usar uma função definida no módulo use a sintaxe `modulo.funcao()` para informar que a `funcao()` está definida no *namespace* `modulo`."
      ]
    },
    {
      "cell_type": "markdown",
      "metadata": {
        "id": "yq2JRM21yfSY"
      },
      "source": [
        "## Exemplo 2: carregando e utilizando um módulo\n",
        "\n",
        "> Na célula abaixo o módulo gerado no Exemplo 1 é carregado e as funções são utilizadas."
      ]
    },
    {
      "cell_type": "code",
      "execution_count": null,
      "metadata": {
        "id": "kdnWAfnoyvmD"
      },
      "outputs": [],
      "source": [
        "import meu_modulo\n",
        "\n",
        "a = meu_modulo.soma(5, 10)\n",
        "print(a)\n",
        "\n",
        "b = meu_modulo.squared(2)\n",
        "print(b)\n",
        "\n",
        "meu_modulo.cumprimentar(\"Ana\")\n",
        "\n",
        "meu_modulo.cumprimentar2(\"Boa tarde\", \"João\")"
      ]
    },
    {
      "cell_type": "markdown",
      "metadata": {
        "id": "UKqLyNQxz2KB"
      },
      "source": [
        "É possível definir um **apelido** alterando o nome do *namespace* com o uso da palavra `as`.\n",
        "\n",
        "> A célula abaixo é equivalente ao Exemplo 2, apenas alterando o nome da biblioteca."
      ]
    },
    {
      "cell_type": "code",
      "execution_count": null,
      "metadata": {
        "id": "43pxZjzHue7o"
      },
      "outputs": [],
      "source": [
        "import meu_modulo as mm\n",
        "\n",
        "a = mm.soma(5, 10)\n",
        "print(a)\n",
        "\n",
        "b = mm.squared(2)\n",
        "print(b)\n",
        "\n",
        "mm.cumprimentar(\"Ana\")\n",
        "\n",
        "mm.cumprimentar2(\"Boa tarde\", \"João\")"
      ]
    },
    {
      "cell_type": "markdown",
      "metadata": {
        "id": "SGfUXqaYteYp"
      },
      "source": [
        "## Módulos do Python"
      ]
    },
    {
      "cell_type": "markdown",
      "metadata": {
        "id": "XlfGEiSog2fD"
      },
      "source": [
        "Existem diversos módulos pré-definidos no *Python* que podem ser importados com `import`:"
      ]
    },
    {
      "cell_type": "code",
      "execution_count": null,
      "metadata": {
        "id": "3501ocqXhBkD"
      },
      "outputs": [],
      "source": [
        "import platform\n",
        "print(platform.system())"
      ]
    },
    {
      "cell_type": "markdown",
      "metadata": {
        "id": "JIUDU_W2hKCl"
      },
      "source": [
        "A função `dir()` lista todos os elementos de um módulo."
      ]
    },
    {
      "cell_type": "code",
      "execution_count": null,
      "metadata": {
        "id": "OQhiMCfhhOCV"
      },
      "outputs": [],
      "source": [
        "import math\n",
        "\n",
        "for item in dir(math):\n",
        "  print(item)"
      ]
    },
    {
      "cell_type": "markdown",
      "metadata": {
        "id": "r1rESk6VhWhT"
      },
      "source": [
        "É possível importar apenas partes de um módulo usando a palavra `from`. Veja o exemplo:\n"
      ]
    },
    {
      "cell_type": "code",
      "execution_count": null,
      "metadata": {
        "id": "yM7O2lMMcMXl"
      },
      "outputs": [],
      "source": [
        "from math import pi, sqrt\n",
        "\n",
        "print(pi)\n",
        "\n",
        "print(sqrt(25))"
      ]
    },
    {
      "cell_type": "markdown",
      "metadata": {
        "id": "hNeUuTYVcVp0"
      },
      "source": [
        "**Nota:** elementos importados com `from` não usam o nome do módulo. Note que no exemplo, usamos:\n",
        "* `pi` ao invés de `math.pi`;\n",
        "* `sqrt` ao invés de `math.sqrt`."
      ]
    },
    {
      "cell_type": "markdown",
      "metadata": {
        "id": "Vg5gyfQewfes"
      },
      "source": [
        "## Instalando novos módulos"
      ]
    },
    {
      "cell_type": "markdown",
      "metadata": {
        "id": "Xm4cJ1dgiJYC"
      },
      "source": [
        "No *Python* é possível instalar novos módulos com o comando\n",
        "```bash\n",
        "pip install nome_do_modulo\n",
        "```\n",
        "> Esse comando deve ser executado no terminal e instala o módulo no ambiente Python ativo (por exemplo, o ambiente virtual ou global).\n",
        "\n",
        "Em um notebook Jupyter (ou Colab), também é possível instalar bibliotecas diretamente em uma célula usando:\n",
        "```python\n",
        "!pip install nome_do_modulo\n",
        "```\n",
        "> Neste caso, a biblioteca será instalada no ambiente de execução atual do notebook (geralmente o mesmo ambiente onde o Jupyter foi iniciado).\n",
        "\n",
        "\n",
        "Na plataforma Anaconda, é recomendável utilizar o gerenciador de pacotes `conda` para instalar bibliotecas que estejam disponíveis em seus repositórios. O comando é:\n",
        "```bash\n",
        "conda install nome_do_modulo\n",
        "```\n",
        "> Esse comando também deve ser usado no terminal (ou no Anaconda Prompt). Ele cuida melhor da compatibilidade entre dependências."
      ]
    },
    {
      "cell_type": "markdown",
      "metadata": {
        "id": "y6gpUNfkeqXK"
      },
      "source": [
        "## Biblioteca Padrão do Python\n",
        "\n",
        "A **Biblioteca Padrão do Python** é um conjunto extenso de módulos e pacotes integrados que fornecem soluções para uma ampla gama de tarefas comuns, sem a necessidade de instalar bibliotecas adicionais. Ela inclui ferramentas para manipulação de arquivos, expressões regulares, cálculos matemáticos, comunicação de rede, criptografia, manipulação de dados e muito mais.\n",
        "\n",
        "Aqui estão alguns dos módulos mais utilizados da **Biblioteca Padrão**:\n",
        "\n",
        "1. **`math`**: Fornece funções matemáticas, como funções trigonométricas, exponenciais, fatoriais e arredondamento.\n",
        "1. **`statistics`**: Funções para cálculos básicos de estatísticas, como média, mediana, desvio padrão, correlação, etc.\n",
        "1. **`datetime`**: Manipula datas e horas, permitindo a criação, formatação e cálculo de intervalos de tempo.\n",
        "1. **`os`**: Oferece funções para interação com o sistema operacional, como manipulação de arquivos, diretórios e variáveis de ambiente.\n",
        "1. **`re`**: Oferece suporte a expressões regulares, permitindo a busca e manipulação de padrões em strings.\n",
        "1. **`http`**: Suporta funcionalidades de comunicação HTTP, como criação de servidores web e envio de requisições.\n",
        "\n",
        "A biblioteca padrão do Python é vasta, cobrindo uma ampla variedade de funcionalidades essenciais. Para mais detalhes, você pode consultar a [documentação oficial](https://docs.python.org/pt-br/3/library).\n"
      ]
    },
    {
      "cell_type": "markdown",
      "metadata": {
        "id": "Kp1EMOpRbnht"
      },
      "source": [
        "## Principais Bibliotecas do Python\n",
        "\n",
        "### 1. **NumPy**\n",
        "   - **Descrição**: Biblioteca fundamental para computação científica. Fornece suporte para arrays multidimensionais e funções matemáticas de alto nível.\n",
        "   - **Uso principal**: Operações numéricas, álgebra linear, transformadas de Fourier, geração de números aleatórios, manipulação de grandes volumes de dados.\n",
        "   - **Instalação**: `pip install numpy`\n",
        "\n",
        "### 2. **Pandas**\n",
        "   - **Descrição**: Ferramenta poderosa para análise e manipulação de dados em grandes volumes, com estrutura de DataFrames (tabela de dados) e Series (colunas individuais) para organizar, limpar e transformar dados de forma prática.\n",
        "   - **Uso principal**: Manipulação de dados tabulares, leitura/escrita de arquivos CSV, Excel, etc.\n",
        "   - **Instalação**: `pip install pandas`\n",
        "\n",
        "### 3. **Matplotlib**\n",
        "   - **Descrição**: Biblioteca para criação de gráficos 2D, como gráficos de linha, barras e dispersão.\n",
        "   - **Uso principal**: Visualização de dados através de gráficos.\n",
        "   - **Instalação**: `pip install matplotlib`\n",
        "\n",
        "### 4. **Seaborn**\n",
        "   - **Descrição**: Biblioteca de visualização de dados baseada no Matplotlib, com gráficos estatísticos.\n",
        "   - **Uso principal**: Criação de gráficos estatísticos simples como gráficos de densidade e correlação.\n",
        "   - **Instalação**: `pip install seaborn`\n",
        "\n",
        "### 5. **Scikit-learn**\n",
        "   - **Descrição**: Biblioteca para aprendizado de máquina, contendo ferramentas simples e eficientes para mineração de dados e análise preditiva.\n",
        "   - **Uso principal**: Regressão, classificação, clustering e pré-processamento de dados.\n",
        "   - **Instalação**: `pip install scikit-learn`\n",
        "\n",
        "### 6. **TensorFlow**\n",
        "   - **Descrição**: Biblioteca de aprendizado profundo e machine learning desenvolvida pelo Google.\n",
        "   - **Uso principal**: Treinamento de redes neurais, deep learning, reconhecimento de padrões.\n",
        "   - **Instalação**: `pip install tensorflow`\n",
        "\n",
        "### 7. **Keras**\n",
        "   - **Descrição**: Biblioteca de alto nível para construção e treinamento de redes neurais, que pode ser usada com TensorFlow.\n",
        "   - **Uso principal**: Simplificação do desenvolvimento de redes neurais.\n",
        "   - **Instalação**: `pip install keras`\n",
        "\n",
        "### 8. **Requests**\n",
        "   - **Descrição**: Biblioteca simples para fazer requisições HTTP de maneira fácil e eficiente.\n",
        "   - **Uso principal**: Comunicação com APIs e envio de requisições HTTP (GET, POST, etc.).\n",
        "   - **Instalação**: `pip install requests`\n",
        "\n",
        "### 9. **BeautifulSoup**\n",
        "   - **Descrição**: Biblioteca para web scraping, usada para extrair dados de páginas HTML e XML.\n",
        "   - **Uso principal**: Extração de dados de sites.\n",
        "   - **Instalação**: `pip install beautifulsoup4`\n"
      ]
    },
    {
      "cell_type": "markdown",
      "metadata": {
        "id": "Cp3rFNkA4G3u"
      },
      "source": [
        "## Exercício\n",
        "\n",
        "Apenas faça o commit para o seu repositório do github."
      ]
    }
  ],
  "metadata": {
    "colab": {
      "authorship_tag": "ABX9TyOcsBOEpS2tf22bt169MA/n",
      "include_colab_link": true,
      "provenance": [],
      "toc_visible": true
    },
    "kernelspec": {
      "display_name": "Python 3",
      "name": "python3"
    },
    "language_info": {
      "name": "python",
      "version": "3.12.3"
    }
  },
  "nbformat": 4,
  "nbformat_minor": 0
}
