{
  "cells": [
    {
      "cell_type": "markdown",
      "metadata": {
        "colab_type": "text",
        "id": "view-in-github"
      },
      "source": [
        "<a href=\"https://colab.research.google.com/github/jafiorucci/CEE2PY125/blob/main/6_funcoes.ipynb\" target=\"_parent\"><img src=\"https://colab.research.google.com/assets/colab-badge.svg\" alt=\"Open In Colab\"/></a>\n"
      ]
    },
    {
      "cell_type": "markdown",
      "metadata": {
        "id": "ucToMMLJyE_W"
      },
      "source": [
        "# Funções\n"
      ]
    },
    {
      "cell_type": "markdown",
      "metadata": {
        "id": "kw9ZDVyOyGr-"
      },
      "source": [
        "## Definiçõe e exemplos\n",
        "\n",
        "No desenvolvimento de códigos é comum a necessidade definir sub-rotinas que serão usadas outras vezes ao longo do código. Estas sub-rotinas são chamadas de **funções**. Elas ajudam a organizar o código, tornando-o mais modular, legível e fácil de manter.\n",
        "\n",
        "Para definir uma função em Python, usamos a palavra-chave `def` seguida do nome da função e dos parênteses. Se a função aceitar argumentos (valores que podem ser passados para a função), eles são colocados dentro dos parênteses.\n",
        "\n",
        "Um exemplo básico seria:\n"
      ]
    },
    {
      "cell_type": "code",
      "execution_count": null,
      "metadata": {
        "id": "ZzCoUbVuIXVT"
      },
      "outputs": [],
      "source": [
        "def nome_da_funcao(argumento1, argumento2):\n",
        "    # Bloco de código da função\n",
        "    resultado = argumento1 + argumento2\n",
        "    return resultado  # Retorna o valor final"
      ]
    },
    {
      "cell_type": "markdown",
      "metadata": {
        "id": "NO2QK6S-IbcI"
      },
      "source": [
        "Aqui está uma explicação básica dos elementos:\n",
        "\n",
        "- `def`: Define a função.\n",
        "- `nome_da_funcao`: Nome que você dá à função (como \"soma\", \"imprimir_mensagem\", \"ajuste_modelo\", etc.).\n",
        "- `Argumentos`: São valores ou variáveis que podem ser passados para a função.\n",
        "- `return`: Devolve o valor final da função para ser usado em outras partes do código. Se não for especificado, a função retorna `None` (nada).\n"
      ]
    },
    {
      "cell_type": "markdown",
      "metadata": {
        "id": "A7DMIMNKPYvP"
      },
      "source": [
        "Exemplo: função que soma dois números\n"
      ]
    },
    {
      "cell_type": "code",
      "execution_count": null,
      "metadata": {
        "id": "kVwpD42WPh2-"
      },
      "outputs": [],
      "source": [
        "def soma(a, b):\n",
        "    return a + b\n",
        "\n",
        "\n",
        "# Teste a função\n",
        "resultado = soma(5.57, 3)\n",
        "print(f\"A soma é: {resultado:.1f}\")"
      ]
    },
    {
      "cell_type": "markdown",
      "metadata": {
        "id": "SPZGwXqTovQc"
      },
      "source": [
        "Exemplo: a execução é feita apenas até o return\n"
      ]
    },
    {
      "cell_type": "code",
      "execution_count": null,
      "metadata": {
        "id": "RZl7X8jboygu"
      },
      "outputs": [],
      "source": [
        "def squared(x):\n",
        "    return x**2\n",
        "    print(\"Esta linha não é executada!\")\n",
        "\n",
        "\n",
        "print(squared(3))"
      ]
    },
    {
      "cell_type": "markdown",
      "metadata": {
        "id": "oXfvsGUkKyiZ"
      },
      "source": [
        "Exemplo: A função cumprimentar recebe um argumento (nome) e exibe uma mensagem de boas-vindas.\n"
      ]
    },
    {
      "cell_type": "code",
      "execution_count": null,
      "metadata": {
        "id": "LZgOn8vnI3OX"
      },
      "outputs": [],
      "source": [
        "# Exemplo de uma Função\n",
        "def cumprimentar(nome):\n",
        "    print(f\"Olá, {nome}! Seja bem-vindo.\")\n",
        "\n",
        "\n",
        "# Chamando a função\n",
        "cumprimentar(\"Ana\")\n",
        "cumprimentar(\"Paula\")\n",
        "cumprimentar(\"Jose\")"
      ]
    },
    {
      "cell_type": "markdown",
      "metadata": {
        "id": "0ACScB3eLFvS"
      },
      "source": [
        "Outro exemplo, agora utilizando dois argumentos.\n"
      ]
    },
    {
      "cell_type": "code",
      "execution_count": null,
      "metadata": {
        "id": "JJb4GlcpyjU9"
      },
      "outputs": [],
      "source": [
        "def cumprimentar2(cumprimento, nome):\n",
        "    print(cumprimento + \", \" + nome + \"!\")\n",
        "\n",
        "\n",
        "# Chamando a função\n",
        "cumprimentar2(\"Bom dia\", \"Ana\")\n",
        "cumprimentar2(\"Boa tarde\", \"Paula\")\n",
        "cumprimentar2(\"Boa noite\", \"Jose\")"
      ]
    },
    {
      "cell_type": "markdown",
      "metadata": {
        "id": "xl0nWo4DMwiE"
      },
      "source": [
        "Os parâmetros podem ser passados para a função na forma _posicional_ como no exemplo anterior, ou na forma _nomeada_ como no exemplo abaixo. A vantagem da forma nomeada é que não é obrigatório manter a ordem dos parâmetros definidas na função:\n"
      ]
    },
    {
      "cell_type": "code",
      "execution_count": null,
      "metadata": {
        "id": "7ndgbczuMxHp"
      },
      "outputs": [],
      "source": [
        "cumprimentar2(cumprimento=\"Bom dia\", nome=\"Ana\")  # Parâmetros nomeados.\n",
        "cumprimentar2(nome=\"Ana\", cumprimento=\"Bom dia\")  # Parâmetros nomeados fora de ordem."
      ]
    },
    {
      "cell_type": "markdown",
      "metadata": {
        "id": "66yFf7binD8j"
      },
      "source": [
        "As funções podem admitir uma **quantidade arbitrária de parâmetros**. Isto pode ser realizada passando parâmetros posicionais ou nomeados.\n",
        "\n",
        "- Parâmetros Posicionais: os argumentos podem ser passados como um tupla e recebidos como `*args`, neste caso, o que prevalece é a posição.\n",
        "\n",
        "- Parâmetros Nomeados: os argumentos podem ser passados em formato de dicionário (com os nomes dos parâmetros como chaves) e recebidos como `**args`.\n",
        "\n",
        "Veja os exemplos abaixo:\n"
      ]
    },
    {
      "cell_type": "code",
      "execution_count": null,
      "metadata": {
        "id": "bFhxAARmbtkN"
      },
      "outputs": [],
      "source": [
        "## Argumentos transferidos por posição e recebidos como tupla.\n",
        "\n",
        "\n",
        "def comprar(*args):\n",
        "    for item in args:\n",
        "        print(\"Preciso comprar \" + item + \".\")\n",
        "\n",
        "\n",
        "comprar(\"tomate\", \"cebola\", \"alface\")"
      ]
    },
    {
      "cell_type": "code",
      "execution_count": null,
      "metadata": {
        "id": "zp2SeqHjnLMc"
      },
      "outputs": [],
      "source": [
        "## Exemplo de parâmetros nomeados, recebidos como dicionário.\n",
        "\n",
        "\n",
        "# Esta função captura os dados do usuário, passados como parâmetros nomeados,\n",
        "# em um dicionário.\n",
        "def user(**args):\n",
        "    print(\"Primeiro nome  : \" + args[\"fname\"])\n",
        "    print(\"Último nome    : \" + args[\"lname\"])\n",
        "    print(\"Nome de usuário: \" + args[\"username\"])\n",
        "    print(\"Senha          : \" + args[\"pwd\"])\n",
        "\n",
        "\n",
        "user(fname=\"Peter\", lname=\"Norton\", username=\"pnorton\", pwd=\"12345\")"
      ]
    },
    {
      "cell_type": "code",
      "execution_count": null,
      "metadata": {
        "id": "OvTy0oxqUiP4"
      },
      "outputs": [],
      "source": [
        "## Outro exemplo de parâmetros nomeados, agora transferidos como dicionário\n",
        "\n",
        "\n",
        "## Claro que a função anterior também pode ser implementada\n",
        "## utilizando um dicionário\n",
        "def user(args):\n",
        "    print(\"Primeiro nome  : \" + args[\"fname\"])\n",
        "    print(\"Último nome    : \" + args[\"lname\"])\n",
        "    print(\"Nome de usuário: \" + args[\"username\"])\n",
        "    print(\"Senha          : \" + args[\"pwd\"])\n",
        "\n",
        "\n",
        "user(dict(fname=\"Peter\", lname=\"Norton\", username=\"pnorton\", pwd=\"12345\"))"
      ]
    },
    {
      "cell_type": "markdown",
      "metadata": {
        "id": "syjdnHXjdTzj"
      },
      "source": [
        "Esses conceitos também podem ser combinados.\n",
        "\n",
        "No exemplo abaixo, o primeiro item não nomerado é transmitido para o primeiro argumento, os demais itens não enumerados são transmitidos para a tupla e os itens nomeados são transmitidos para o dicionário.\n"
      ]
    },
    {
      "cell_type": "code",
      "execution_count": null,
      "metadata": {
        "id": "cd5omNczOfkI"
      },
      "outputs": [],
      "source": [
        "# Esta função combinam os dois conceitos.\n",
        "def planejar_viagem(destino, *rota, **veiculo):\n",
        "\n",
        "    print(\"Estou viajando para: \" + destino + \".\")\n",
        "\n",
        "    for item in rota:\n",
        "        print(\"Vou visitar: \" + item + \".\")\n",
        "\n",
        "    print(\n",
        "        \"Vou utilizar: \"\n",
        "        + veiculo[\"carro\"]\n",
        "        + \" de \"\n",
        "        + str(veiculo[\"ano_fabricacao\"])\n",
        "        + \" abastecido com \"\n",
        "        + veiculo[\"combustivel\"]\n",
        "        + \".\"\n",
        "    )\n",
        "\n",
        "\n",
        "planejar_viagem(\n",
        "    \"Rio de Janeiro\",\n",
        "    \"Goiânia\",\n",
        "    \"Belo Horizonte\",\n",
        "    \"São Paulo\",\n",
        "    carro=\"Corolla\",\n",
        "    ano_fabricacao=2020,\n",
        "    combustivel=\"gasolina\",\n",
        ")"
      ]
    },
    {
      "cell_type": "markdown",
      "metadata": {
        "id": "wMySBTmvd7Kz"
      },
      "source": [
        "Claro que o formato convencional permite uma melhor organização do código.\n",
        "\n",
        "Veja a replicação do ultimo exemplo abaixo.\n"
      ]
    },
    {
      "cell_type": "code",
      "execution_count": null,
      "metadata": {
        "id": "CQms2ytgWCVY"
      },
      "outputs": [],
      "source": [
        "def planejar_viagem(destino, rota, veiculo):\n",
        "    print(\"Estou viajando para: \" + destino + \".\")\n",
        "\n",
        "    for item in rota:\n",
        "        print(\"Vou visitar: \" + item + \".\")\n",
        "\n",
        "    print(\n",
        "        \"Vou utilizar: \"\n",
        "        + veiculo[\"carro\"]\n",
        "        + \" de \"\n",
        "        + str(veiculo[\"ano_fabricacao\"])\n",
        "        + \" abastecido com \"\n",
        "        + veiculo[\"combustivel\"]\n",
        "        + \".\"\n",
        "    )\n",
        "\n",
        "\n",
        "planejar_viagem(\n",
        "    destino=\"Rio de Janeiro\",\n",
        "    rota=list((\"Goiânia\", \"Belo Horizonte\", \"São Paulo\")),\n",
        "    veiculo=dict(carro=\"Corolla\", ano_fabricacao=2020, combustivel=\"gasolina\"),\n",
        ")"
      ]
    },
    {
      "cell_type": "markdown",
      "metadata": {
        "id": "KVMzPtnjn8D9"
      },
      "source": [
        "As funções admitem **valores padrão** para seus parâmetros:\n"
      ]
    },
    {
      "cell_type": "code",
      "execution_count": null,
      "metadata": {
        "id": "PDuAeR4doGXX"
      },
      "outputs": [],
      "source": [
        "def saudacao(nome=\"Visitante\", mensagem=\"Bem-vindo(a) ao nosso sistema!\"):\n",
        "    print(f\"Olá, {nome}! {mensagem}\")\n",
        "\n",
        "\n",
        "# Chamadas da função\n",
        "saudacao()  # Usa os valores padrão\n",
        "saudacao(\"Ana\")  # Usa um valor personalizado para 'nome'\n",
        "saudacao(\n",
        "    \"Carlos\", \"Espero que você esteja aproveitando o conteúdo!\"\n",
        ")  # Usa valores personalizados para ambos"
      ]
    },
    {
      "cell_type": "markdown",
      "metadata": {
        "id": "FpwFnqM1XyQ7"
      },
      "source": [
        "Explicação:\n",
        "\n",
        "- A função `saudacao` possui dois parâmetros, `nome` e `mensagem`, ambos com valores padrão.\n",
        "\n",
        "- Quando você chama a função sem argumentos, ela usa os valores padrão (\"Visitante\" e \"Bem-vindo(a) ao nosso sistema!\").\n",
        "\n",
        "- Ao fornecer valores, você substitui os valores padrão.\n"
      ]
    },
    {
      "cell_type": "markdown",
      "metadata": {
        "id": "9lFsxq6rRIvl"
      },
      "source": [
        "### Importante\n"
      ]
    },
    {
      "cell_type": "markdown",
      "metadata": {
        "id": "fCBIvrJGo758"
      },
      "source": [
        "- Os parâmetros sem valores padrão nas funções precisam _sempre_ ser fornecidos.\n",
        "\n",
        "- Os parâmetros podem ser fornecidos fora de ordem, desde que sejam nomeados.\n"
      ]
    },
    {
      "cell_type": "code",
      "execution_count": null,
      "metadata": {
        "id": "ojQGTKV4pKic"
      },
      "outputs": [],
      "source": [
        "def func(a, b, c):\n",
        "    pass  # Use 'pass' quando o bloco não tiver um corpo ainda!!!\n",
        "\n",
        "\n",
        "# func(1, 2)                  # ERRO: falta um dos parâmetros\n",
        "func(c=2, a=3, b=5)  # Parâmetros fora de ordem devem ser nomeados."
      ]
    },
    {
      "cell_type": "markdown",
      "metadata": {
        "id": "aV4UOf7-h2lj"
      },
      "source": [
        "## Retorno\n",
        "\n",
        "**Lembrete:** objetos separados por virgula formam uma tupla. Esse é o formato tradicional de retorno de uma função em python.\n",
        "\n",
        "Podemos desempacotar a saída de uma função de várias formas — inclusive misturando tuplas com dicionários (ou outros tipos), dependendo de como a função retorna os dados.\n",
        "\n",
        "Veja os exemplos:\n"
      ]
    },
    {
      "cell_type": "code",
      "execution_count": null,
      "metadata": {
        "id": "TqCYcUxGkSKL"
      },
      "outputs": [],
      "source": [
        "## Nesse exemplo, retornamos uma tupla formada por dois objetos (lista e dicionário)\n",
        "def exemplo():\n",
        "    return [1, 2, 3], {\"a\": \"A\", \"b\": \"B\"}\n",
        "\n",
        "\n",
        "a = exemplo()\n",
        "\n",
        "print(type(a))\n",
        "\n",
        "lista, dicionario = exemplo()\n",
        "print(lista)  # 1 2 3\n",
        "print(dicionario)  # Erro se usar diretamente no print, mas..."
      ]
    },
    {
      "cell_type": "code",
      "execution_count": null,
      "metadata": {
        "id": "Snve7uJsiPYk"
      },
      "outputs": [],
      "source": [
        "## Essa função retorna um dicionário em conjunto com duas variáveis\n",
        "## os elementos são desempacotados diretamente\n",
        "\n",
        "\n",
        "def dados():\n",
        "    nome = \"Pedro\"\n",
        "    idade = 30\n",
        "    info_extra = {\"cidade\": \"Curitiba\", \"ativo\": True}\n",
        "    return nome, idade, info_extra\n",
        "\n",
        "\n",
        "n, i, extra = dados()\n",
        "\n",
        "print(n)  # Pedro\n",
        "print(i)  # 30\n",
        "print(extra)  # {'cidade': 'Curitiba', 'ativo': True}"
      ]
    },
    {
      "cell_type": "code",
      "execution_count": null,
      "metadata": {
        "id": "Mxz9lj3jjIlF"
      },
      "outputs": [],
      "source": [
        "## nesse exemplo um dicionários é desempacotado dendro de um tupla\n",
        "\n",
        "\n",
        "def dados():\n",
        "    return (\"Ana\", 25, {\"curso\": \"Python\", \"nível\": \"Avançado\"})\n",
        "\n",
        "\n",
        "nome, idade, info = dados()\n",
        "curso, nivel = info[\"curso\"], info[\"nível\"]\n",
        "\n",
        "print(nome)  # Ana\n",
        "print(curso)  # Python"
      ]
    },
    {
      "cell_type": "markdown",
      "metadata": {
        "id": "B0es4rotoQvf"
      },
      "source": [
        "## Documentação\n",
        "\n",
        "E interessante que uma função seja documentada descrevendo o que aquele código faz e como deve ser utilizado.\n"
      ]
    },
    {
      "cell_type": "code",
      "execution_count": null,
      "metadata": {
        "id": "chiywQcut1Hn"
      },
      "outputs": [],
      "source": [
        "def area_retangulo(largura, altura=1):\n",
        "    \"\"\"\n",
        "    Calcula a área de um retângulo.\n",
        "\n",
        "    Esta função calcula a área de um retângulo multiplicando a largura pela altura.\n",
        "    Se a altura não for especificada, assume o valor padrão de 1.\n",
        "\n",
        "    Parameters:\n",
        "    largura (float): A largura do retângulo.\n",
        "    altura (float, opcional): A altura do retângulo. Padrão é 1.\n",
        "\n",
        "    Returns:\n",
        "    float: A área do retângulo calculada como largura * altura.\n",
        "\n",
        "    Example:\n",
        "    >>> calcular_area_retangulo(5, 10)\n",
        "    50\n",
        "    >>> calcular_area_retangulo(5)\n",
        "    5\n",
        "    \"\"\"\n",
        "    return largura * altura"
      ]
    },
    {
      "cell_type": "markdown",
      "metadata": {
        "id": "q9yqYG7mZ3P5"
      },
      "source": [
        "Explicação da docstring:\n",
        "\n",
        "1. Descrição: A primeira linha explica o que a função faz de forma resumida.\n",
        "1. Detalhamento: Explica o funcionamento da função e descreve o valor padrão do argumento altura.\n",
        "1. Parâmetros: Detalha cada parâmetro, seu tipo e função na operação.\n",
        "1. Retorno: Descreve o que a função retorna e o tipo de dado esperado.\n",
        "1. Exemplos: Fornece exemplos de uso da função, com valores que mostram o comportamento padrão e personalizado.\n",
        "\n",
        "Esse padrão de documentação ajuda outros desenvolvedores a entender o uso e o comportamento da função.\n"
      ]
    },
    {
      "cell_type": "code",
      "execution_count": null,
      "metadata": {
        "id": "J3HHsMYLYfyG"
      },
      "outputs": [],
      "source": [
        "## veja como o usuária pode consultar a documentação de uma função\n",
        "help(area_retangulo)"
      ]
    },
    {
      "cell_type": "code",
      "execution_count": null,
      "metadata": {
        "id": "ZuYRUhkSZryz"
      },
      "outputs": [],
      "source": [
        "## ou equivalentemente, podemos consultar o atributo __doc__\n",
        "print(area_retangulo.__doc__)"
      ]
    },
    {
      "cell_type": "code",
      "execution_count": null,
      "metadata": {
        "id": "to3B4jpbakFx"
      },
      "outputs": [],
      "source": [
        "## Geralmente o editor de códigos exibem a docstring\n",
        "## automaticamente quando o usuário passa o mouse\n",
        "## sobre a função ou começa a digitá-la.\n",
        "\n",
        "## Como exemplo, passe o mouse sobre a chamada da função ou apague\n",
        "## e comece a digitar novamente o nome da função\n",
        "area_retangulo()"
      ]
    },
    {
      "cell_type": "markdown",
      "metadata": {
        "id": "RaeB5kXEbAV0"
      },
      "source": [
        "## Função lambda\n",
        "\n",
        "`lambda` é uma forma curta e anônima de criar funções em Python. Ela é útil quando você precisa de uma função simples e rápida, especialmente como argumento para outras funções.\n",
        "\n",
        "### Sintaxe\n",
        "\n",
        "```python\n",
        "lambda argumentos: expressão\n",
        "```\n",
        "\n",
        "### Exemplo\n",
        "\n",
        "No código abaixo as duas funções fazem a mesma coisa, mas a com `lambda` utiliza menos código.\n",
        "\n",
        "```python\n",
        "# Com def\n",
        "def quadrado(x):\n",
        "    return x * x\n",
        "\n",
        "# Com lambda\n",
        "quadrado = lambda x: x * x\n",
        "```\n",
        "\n",
        "### Veja outros exemplos abaixo.\n"
      ]
    },
    {
      "cell_type": "code",
      "execution_count": null,
      "metadata": {
        "id": "xrb4tZhdbdlM"
      },
      "outputs": [],
      "source": [
        "# Exemplo 1: Soma de dois números\n",
        "\n",
        "soma = lambda a, b: a + b\n",
        "\n",
        "print(soma(2, 3))  # Saída: 5"
      ]
    },
    {
      "cell_type": "code",
      "execution_count": null,
      "metadata": {
        "id": "1kq1y5VsbooH"
      },
      "outputs": [],
      "source": [
        "# Exemplo 2: Verificar se um número é par\n",
        "\n",
        "eh_par = lambda x: x % 2 == 0\n",
        "\n",
        "print(eh_par(4))  # Saída: True"
      ]
    },
    {
      "cell_type": "markdown",
      "metadata": {
        "id": "rr-VRqpXdOY9"
      },
      "source": [
        "## Função map()\n",
        "\n",
        "A função `map()` aplica uma função a cada item de um iterável (como uma lista, tupla, etc.) e retorna um iterador com os resultados.\n",
        "\n",
        "É muito usada quando você quer transformar elementos de uma coleção sem usar loops explícitos.\n",
        "\n",
        "### Sintaxe\n",
        "\n",
        "```python\n",
        "map(função, iterável)\n",
        "```\n",
        "\n",
        "- função: função que será aplicada a cada item.\n",
        "\n",
        "- iterável: a sequência de dados (lista, tupla, etc).\n",
        "\n",
        "O retorno é um objeto map, que você pode converter com list(), tuple(), etc.\n",
        "\n",
        "### Veja outros exemplos abaixo.\n"
      ]
    },
    {
      "cell_type": "code",
      "execution_count": null,
      "metadata": {
        "id": "XFnBfXCQb3XQ"
      },
      "outputs": [],
      "source": [
        "# Exemplo 1: Dobrar os números de uma lista\n",
        "\n",
        "numeros = [1, 2, 3, 4]\n",
        "\n",
        "dobro = map(lambda x: x * 2, numeros)\n",
        "\n",
        "print(list(dobro))  # Saída: [2, 4, 6, 8]"
      ]
    },
    {
      "cell_type": "code",
      "execution_count": null,
      "metadata": {
        "id": "_1VQHI2pd4MU"
      },
      "outputs": [],
      "source": [
        "# Exemplo 2: Usando uma função definida com def\n",
        "\n",
        "\n",
        "def quadrado(n):\n",
        "    return n**2\n",
        "\n",
        "\n",
        "valores = [1, 2, 3, 4]\n",
        "\n",
        "resultado = map(quadrado, valores)\n",
        "\n",
        "print(list(resultado))  # Saída: [1, 4, 9, 16]"
      ]
    },
    {
      "cell_type": "code",
      "execution_count": null,
      "metadata": {
        "id": "zS7tw26oeOgQ"
      },
      "outputs": [],
      "source": [
        "# Exemplo 3: Juntar nomes e sobrenomes\n",
        "\n",
        "nomes = [\"Ana\", \"Carlos\", \"Joana\"]\n",
        "sobrenomes = [\"Silva\", \"Souza\", \"Pereira\"]\n",
        "\n",
        "nomes_completos = map(lambda nome, sobrenome: f\"{nome} {sobrenome}\", nomes, sobrenomes)\n",
        "\n",
        "print(list(nomes_completos))\n",
        "\n",
        "# Saída: ['Ana Silva', 'Carlos Souza', 'Joana Pereira']"
      ]
    },
    {
      "cell_type": "markdown",
      "metadata": {
        "id": "IGj59ibBlB-f"
      },
      "source": [
        "## Função filter()\n",
        "\n",
        "A função `filter()` serve para filtrar elementos de um iterável, mantendo apenas os que satisfazem uma condição (ou seja, para os quais a função retorna `True`).\n",
        "\n",
        "### Sintaxe\n",
        "\n",
        "```python\n",
        "filter( função, iterável )\n",
        "```\n",
        "\n",
        "- `função`: deve retornar `True` ou `False` para cada item.\n",
        "\n",
        "- `iterável`: a sequência de dados a ser filtrada.\n",
        "\n",
        "O resultado é um objeto filter (iterador) — geralmente transformado com list().\n",
        "\n",
        "### Veja outros exemplos abaixo.\n"
      ]
    },
    {
      "cell_type": "code",
      "execution_count": null,
      "metadata": {
        "id": "5qaQGkVxlrS_"
      },
      "outputs": [],
      "source": [
        "# Exemplo 1: Filtrar números pares\n",
        "\n",
        "numeros = [1, 2, 3, 4, 5, 6]\n",
        "\n",
        "pares = filter(lambda x: x % 2 == 0, numeros)\n",
        "\n",
        "print(list(pares))  # Saída: [2, 4, 6]"
      ]
    },
    {
      "cell_type": "code",
      "execution_count": null,
      "metadata": {
        "id": "XbmufLxwlx_t"
      },
      "outputs": [],
      "source": [
        "# Exemplo 2: Filtrar strings não vazias\n",
        "\n",
        "nomes = [\"Ana\", \"\", \"João\", \"\", \"Maria\"]\n",
        "\n",
        "nao_vazios = filter(None, nomes)\n",
        "\n",
        "print(list(nao_vazios))  # Saída: ['Ana', 'João', 'Maria']"
      ]
    },
    {
      "cell_type": "code",
      "execution_count": null,
      "metadata": {
        "id": "tNHN43wKl8yn"
      },
      "outputs": [],
      "source": [
        "# Exemplo 3: Usando função com def\n",
        "\n",
        "\n",
        "def maior_que_10(x):\n",
        "    return x > 10\n",
        "\n",
        "\n",
        "valores = [4, 15, 9, 12]\n",
        "\n",
        "resultado = filter(maior_que_10, valores)\n",
        "\n",
        "print(list(resultado))  # Saída: [15, 12]"
      ]
    },
    {
      "cell_type": "markdown",
      "metadata": {
        "id": "ws9NLTwbpfOI"
      },
      "source": [
        "## Exercício 1: Análise de Números\n",
        "\n",
        "Crie uma função chamada `analisar_numeros` que recebe uma lista de números inteiros como parâmetro.\n",
        "\n",
        "A função deve retornar dois objetos:\n",
        "\n",
        "- Uma nova lista contendo apenas os números pares da lista original.\n",
        "\n",
        "- Um dicionário com as seguintes informações:\n",
        "\n",
        "  - \"maior\": o maior valor da lista\n",
        "\n",
        "  - \"menor\": o menor valor da lista\n",
        "\n",
        "  - \"soma\": a soma de todos os valores da lista\n"
      ]
    },
    {
      "cell_type": "code",
      "execution_count": 1,
      "metadata": {},
      "outputs": [
        {
          "name": "stdout",
          "output_type": "stream",
          "text": [
            "([-4, 2, 4, 6, 20], {'maior': 23, 'menor': -4, 'soma': 52})\n"
          ]
        }
      ],
      "source": [
        "def analisar_numeros(lista: list[int]):\n",
        "    pares = [i for i in lista if i % 2 == 0]\n",
        "    summary = {\"maior\": max(lista), \"menor\": min(lista), \"soma\": sum(lista)}\n",
        "    return pares, summary\n",
        "\n",
        "\n",
        "lista = [-4, 1, 2, 4, 6, 20, 23]\n",
        "\n",
        "print(analisar_numeros(lista))"
      ]
    },
    {
      "cell_type": "markdown",
      "metadata": {
        "id": "sIKsst6rIIU4"
      },
      "source": [
        "## Exercício 2: Converter Celsius em Fahrenheit\n",
        "\n",
        "Crie uma função chamada `celsius_para_fahrenheit` que recebe uma temperatura em graus Celsius e retorna a temperatura equivalente em Fahrenheit. A fórmula de conversão é: $ 𝐹 = 𝐶 \\times 9/5 + 32$.\n",
        "\n",
        "- Faça um print do resultado.\n",
        "\n",
        "- Documente a função.\n"
      ]
    },
    {
      "cell_type": "code",
      "execution_count": null,
      "metadata": {},
      "outputs": [
        {
          "name": "stdout",
          "output_type": "stream",
          "text": [
            "32.0\n"
          ]
        }
      ],
      "source": [
        "def celsius_para_fahrenheit(t_celsius: float = 0.0) -> float:\n",
        "    \"\"\"\n",
        "    Calcula a temperatura em Fahrenheit a partir da temperatura em Celsius.\n",
        "\n",
        "    Esta função calcula a temperatura em Fahrenheit utilizando a fórmula de conversão: F = C * 9 / 5 + 32.\n",
        "    Se a temperatura em Celsius não for especificada, assume o valor padrão de 0.\n",
        "\n",
        "    Parameter:\n",
        "    t_celsius (float): A temperatura em Celsius.\n",
        "\n",
        "    Returns:\n",
        "    float: A temperatura em Fahrenheit.\n",
        "\n",
        "    Example:\n",
        "    >>> celsius_para_fahrenheit(0.0)\n",
        "    32.0\n",
        "    >>> celsius_para_fahrenheit(20.0)\n",
        "    68\n",
        "    \"\"\"\n",
        "    t_fahrenheit = t_celsius * 9 / 5 + 32\n",
        "    return t_fahrenheit\n",
        "\n",
        "\n",
        "print(celsius_para_fahrenheit())"
      ]
    }
  ],
  "metadata": {
    "colab": {
      "authorship_tag": "ABX9TyOatzRZlDeZOr6tHXb+zpxv",
      "include_colab_link": true,
      "provenance": [],
      "toc_visible": true
    },
    "kernelspec": {
      "display_name": "Python 3",
      "name": "python3"
    },
    "language_info": {
      "codemirror_mode": {
        "name": "ipython",
        "version": 3
      },
      "file_extension": ".py",
      "mimetype": "text/x-python",
      "name": "python",
      "nbconvert_exporter": "python",
      "pygments_lexer": "ipython3",
      "version": "3.12.3"
    }
  },
  "nbformat": 4,
  "nbformat_minor": 0
}
