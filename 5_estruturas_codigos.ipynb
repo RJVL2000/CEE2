{
  "cells": [
    {
      "cell_type": "markdown",
      "metadata": {
        "colab_type": "text",
        "id": "view-in-github"
      },
      "source": [
        "<a href=\"https://colab.research.google.com/github/jafiorucci/CEE2PY125/blob/main/5_estruturas_codigos.ipynb\" target=\"_parent\"><img src=\"https://colab.research.google.com/assets/colab-badge.svg\" alt=\"Open In Colab\"/></a>"
      ]
    },
    {
      "cell_type": "markdown",
      "metadata": {
        "id": "9otVkbcbg69h"
      },
      "source": [
        "# Estruturas de códigos\n",
        "\n",
        "As estruturas de código são os blocos que organizam e controlam o fluxo de um programa. Nesta introdução, vamos falar sobre Execução Condicional e Laços de Repetição."
      ]
    },
    {
      "cell_type": "markdown",
      "metadata": {
        "id": "IogvXsuHhMSl"
      },
      "source": [
        "## Execução condicional"
      ]
    },
    {
      "cell_type": "markdown",
      "metadata": {
        "id": "x8duFTsgApaN"
      },
      "source": [
        "Blocos de código podem ser executados **condicionalmente** de modo que decisões sejam tomadas com base em determinadas condições.\n",
        "\n",
        "Em Python, as instruções condicionais são escritas usando as palavras-chave `if`, `else` e `elif` (else if). Com isso, podemos executar diferentes blocos de código dependendo de uma condição lógica, que pode ser verdadeira ou falsa.\n",
        "\n",
        "Estrutura Básica de Condicionais:\n",
        "* `if`: Executa o bloco de código se a condição for verdadeira.\n",
        "* `else`: Executa um bloco de código quando todas as condições anteriores são falsas.\n",
        "* `elif`: Executa um bloco de código alternativo se a primeira condição for falsa e a nova condição for verdadeira.\n"
      ]
    },
    {
      "cell_type": "markdown",
      "metadata": {
        "id": "qg5AGu1r1zTt"
      },
      "source": [
        "**Operadores**\n",
        "\n",
        "* Operadores de comparação:\n",
        "  * `==`: Igualdade\n",
        "  * `!=`: Diferença\n",
        "  * `>`: Maior que\n",
        "  * `<`: Menor que\n",
        "  * `>=`: Maior ou igual a\n",
        "  * `<=`: Menor ou igual a\n",
        "\n",
        "* Operadores lógicos:\n",
        "  * `and`: Verdadeiro se ambas as condições forem verdadeiras.\n",
        "  * `or`: Verdadeiro se uma das condições for verdadeira.\n",
        "  * `not`: Inverte o valor lógico (verdadeiro se a condição for falsa, e vice-versa)."
      ]
    },
    {
      "cell_type": "markdown",
      "metadata": {
        "id": "TbD41hBqtF7I"
      },
      "source": [
        "**Identação**\n",
        "\n",
        "Em Python, o nível de indentação (espaçamento) é o que define quais linhas estão dentro de um bloco. Ele não usa chaves `{}` como outras linguagens (tipo R, JavaScript ou C).\n",
        "\n",
        "Regras básicas de indentação no Python:\n",
        "\n",
        "- Use sempre o mesmo número de espaços (normalmente 4).\n",
        "\n",
        "- Não misture espaços e tabulações.\n",
        "\n",
        "- Um bloco de código começa depois de dois pontos : e deve ser indentado na linha seguinte."
      ]
    },
    {
      "cell_type": "markdown",
      "metadata": {
        "id": "VaNytVKFY_jZ"
      },
      "source": [
        "**Exemplo**: No exemplo abaixo, se a variável idade for maior ou igual a 18, a mensagem \"Você é maior de idade\" será exibida; caso contrário, a mensagem será \"Você é menor de idade\"."
      ]
    },
    {
      "cell_type": "code",
      "execution_count": null,
      "metadata": {
        "id": "asZ2Oh7IAwFw"
      },
      "outputs": [],
      "source": [
        "idade = 17\n",
        "\n",
        "if idade >= 18:\n",
        "    print(\"Você é maior de idade.\")\n",
        "else:\n",
        "    print(\"Você é menor de idade.\")"
      ]
    },
    {
      "cell_type": "markdown",
      "metadata": {
        "id": "-2xB2iKe3TbK"
      },
      "source": [
        "**Exemplo**: Crie um programa que peça ao usuário um ano e verifique se ele é bissexto. Um ano é bissexto se for divisível por 4, mas não por 100, exceto se for divisível por 400."
      ]
    },
    {
      "cell_type": "code",
      "execution_count": null,
      "metadata": {
        "id": "Pkj2fijB3aTC"
      },
      "outputs": [],
      "source": [
        "ano = int(input(\"Digite um ano: \"))\n",
        "\n",
        "if (ano % 4 == 0 and ano % 100 != 0) or (ano % 400 == 0):\n",
        "    print(f\"{ano} é um ano bissexto.\")\n",
        "else:\n",
        "    print(f\"{ano} não é um ano bissexto.\")"
      ]
    },
    {
      "cell_type": "markdown",
      "metadata": {
        "id": "WrV7FKU8BHsN"
      },
      "source": [
        "**Blocos Aninhados**: blocos condicionais podem ser aninhados, veja o exemplo:"
      ]
    },
    {
      "cell_type": "code",
      "execution_count": null,
      "metadata": {
        "id": "oPiYY6n0BK8E"
      },
      "outputs": [],
      "source": [
        "nota = 7.5\n",
        "\n",
        "if nota >= 0 and nota <= 10:\n",
        "    if nota >= 9:\n",
        "        print(\"Excelente\")\n",
        "    else:\n",
        "        if nota >= 7:\n",
        "            print(\"Bom\")\n",
        "        else:\n",
        "            if nota >= 5:\n",
        "                print(\"Regular\")\n",
        "            else:\n",
        "                print(\"Reprovado\")\n",
        "else:\n",
        "    print(\"Nota inválida\")"
      ]
    },
    {
      "cell_type": "markdown",
      "metadata": {
        "id": "KpGjBZaABlsd"
      },
      "source": [
        "Como alternativa a essa estrutura, a linguagem define a comando chave `elif` para combinar um `else` e um `if`. Veja o mesmo exemplo agora utilizando `elif`:"
      ]
    },
    {
      "cell_type": "code",
      "execution_count": null,
      "metadata": {
        "id": "Y4pFLMi3BwLP"
      },
      "outputs": [],
      "source": [
        "nota = 7.5\n",
        "\n",
        "if nota < 0 or nota > 10:\n",
        "    print(\"Nota inválida\")\n",
        "elif nota >= 9:\n",
        "    print(\"Excelente\")\n",
        "elif nota >= 7:\n",
        "    print(\"Bom\")\n",
        "elif nota >= 5:\n",
        "    print(\"Regular\")\n",
        "else:\n",
        "    print(\"Reprovado\")"
      ]
    },
    {
      "cell_type": "markdown",
      "metadata": {
        "id": "8_54WaYu4c2F"
      },
      "source": [
        "**Exemplo**: Baseado na idade de um atleta, escreva um programa que classifique-o em uma das seguintes categorias:\n",
        "\n",
        "* Até 12 anos: Infantil\n",
        "* 13 a 17 anos: Juvenil\n",
        "* 18 a 35 anos: Adulto\n",
        "* Acima de 35 anos: Master"
      ]
    },
    {
      "cell_type": "code",
      "execution_count": null,
      "metadata": {
        "id": "NY91pL0n4nrc"
      },
      "outputs": [],
      "source": [
        "idade = int(input(\"Digite a idade do atleta: \"))\n",
        "\n",
        "if idade < 0:\n",
        "    print(\"Idade inválida\")\n",
        "elif idade <= 12:\n",
        "    print(\"Categoria: Infantil\")\n",
        "elif idade <= 17:\n",
        "    print(\"Categoria: Juvenil\")\n",
        "elif idade <= 35:\n",
        "    print(\"Categoria: Adulto\")\n",
        "else:\n",
        "    print(\"Categoria: Master\")"
      ]
    },
    {
      "cell_type": "markdown",
      "metadata": {
        "id": "8FcfVHBb5otc"
      },
      "source": [
        "### Exercício 1: Crie um programa que pergunte o preço de um produto e verifique se ele deve aplicar algum desconto:\n",
        "\n",
        "* Se o preço for maior que R$ 1000, aplique um desconto de 10%.\n",
        "* Caso contrário, aplique um desconto de 5%.\n",
        "\n",
        "Exiba o valor final do produto após o desconto."
      ]
    },
    {
      "cell_type": "code",
      "execution_count": null,
      "metadata": {},
      "outputs": [
        {
          "name": "stdout",
          "output_type": "stream",
          "text": [
            "900.09\n"
          ]
        }
      ],
      "source": [
        "preco = float(input(\"Digite o preço do produto: \")) # Input: 1000.1\n",
        "\n",
        "if preco > 1000:\n",
        "    desconto = 0.10\n",
        "else:\n",
        "    desconto = 0.05\n",
        "\n",
        "preco_final = round(preco - (preco * desconto), 2)\n",
        "print(preco_final)"
      ]
    },
    {
      "cell_type": "markdown",
      "metadata": {
        "id": "Kw4rHdLs3t__"
      },
      "source": [
        "### Exercício 2: Escreva um programa que atribua menção para um aluno da UNB de acordo com o padrão da universidade. Inicialize perguntando a Nota Final e a Frequência do aluno. Classifique de acordo com os critérios:\n",
        "- Frequência $ < $ 70\\% : SR\n",
        "- Frequência $\\geq$ 70\\% e $0 \\leq NF < 3$: II\n",
        "- Frequência $\\geq$ 70\\% e $3 \\leq NF < 5$: MI\n",
        "- Frequência $\\geq$ 70\\% e $5 \\leq NF < 7$: MM\n",
        "- Frequência $\\geq$ 70\\% e $7 \\leq NF < 9$: MS\n",
        "- Frequência $\\geq$ 70\\% e $9 \\leq NF \\leq 10$: SS"
      ]
    },
    {
      "cell_type": "code",
      "execution_count": null,
      "metadata": {},
      "outputs": [
        {
          "name": "stdout",
          "output_type": "stream",
          "text": [
            "MM\n"
          ]
        }
      ],
      "source": [
        "nota_final = float(input('Digite a Nota Final do aluno: ')) # Input: 6\n",
        "frequencia = float(input('Digite a Frequência do aluno: ')) # Input: 75\n",
        "\n",
        "if frequencia < 70:\n",
        "    mencao = 'SR'\n",
        "else:\n",
        "    if 0 <= nota_final < 3:\n",
        "        mencao = 'II'\n",
        "    elif 3 <= nota_final < 5:\n",
        "        mencao = 'MI'\n",
        "    elif 5 <= nota_final < 7:\n",
        "        mencao = 'MM'\n",
        "    elif 7 <= nota_final < 9:\n",
        "        mencao = 'MS'\n",
        "    elif 9 <= nota_final <= 10:\n",
        "        mencao = 'SS'\n",
        "    else:\n",
        "        mencao = 'Nota inválida'\n",
        "print(mencao) "
      ]
    },
    {
      "cell_type": "markdown",
      "metadata": {
        "id": "10YbWVx_hkDf"
      },
      "source": [
        "## Laços de repetição"
      ]
    },
    {
      "cell_type": "markdown",
      "metadata": {
        "id": "2s1hcYzfB4Wk"
      },
      "source": [
        "**Laços de repetição** permitem executar um bloco de código várias vezes. Eles são fundamentais em programação quando precisamos repetir tarefas de forma automática. Em Python, os principais laços de repetição são `for` e `while`.\n",
        "\n",
        "O **Controle de Fluxo** pode ser feito com `break` e `continue`, em que:\n",
        "* `break`: encerra o loop imediatamente.\n",
        "* `continue`: pula para a próxima iteração.\n",
        "* `pass`: não faz nada, apenas ocupa espaço (placeholder). Geralmente é utilizado durante a construção de um código, no qual quer deixar um bloco em aberto para que venha a ser preenchido no futuro."
      ]
    },
    {
      "cell_type": "markdown",
      "metadata": {
        "id": "-cnGWPoJ-xO0"
      },
      "source": [
        "### `while`\n",
        "\n",
        "O laço `while` executa o bloco de código enquanto uma condição for verdadeira. Ele verifica a condição antes de cada execução do bloco.\n",
        "\n",
        "**Sintaxe:**\n",
        "\n",
        "```python\n",
        "while condição:\n",
        "    # Código a ser executado enquanto a condição for verdadeira\n",
        "```"
      ]
    },
    {
      "cell_type": "markdown",
      "metadata": {
        "id": "8lUS53Ff_YWD"
      },
      "source": [
        "**Exemplo**"
      ]
    },
    {
      "cell_type": "code",
      "execution_count": null,
      "metadata": {
        "id": "Sn03QCKQ_a9J"
      },
      "outputs": [],
      "source": [
        "i = 1     # contador\n",
        "while i < 6:\n",
        "  print(i)\n",
        "  i += 1\n",
        "\n",
        "print(\"Executado ao sair do laço!\")"
      ]
    },
    {
      "cell_type": "code",
      "execution_count": null,
      "metadata": {
        "id": "PuGkzANPyZqU"
      },
      "outputs": [],
      "source": [
        "# Exibe os valores 1, 2, 3\n",
        "i = 1\n",
        "while i < 6:\n",
        "  print(i)\n",
        "  if i == 3:\n",
        "    break    # Quando i = 3 o laço é quebrado.\n",
        "  i += 1"
      ]
    },
    {
      "cell_type": "code",
      "execution_count": null,
      "metadata": {
        "id": "zvWwr8x_ypuC"
      },
      "outputs": [],
      "source": [
        "# Exibe os valores 2, 4, 5, 6\n",
        "i = 1\n",
        "while i < 6:\n",
        "  i += 1\n",
        "  if i == 3:\n",
        "    continue    # Quando i = 3 pula para a proxima iteração.\n",
        "  print(i)"
      ]
    },
    {
      "cell_type": "code",
      "execution_count": null,
      "metadata": {
        "id": "EpKeiboEzgx9"
      },
      "outputs": [],
      "source": [
        "# Exibe os valores 2, 3, 4, 5, 6\n",
        "i = 1\n",
        "while i < 6:\n",
        "  i += 1\n",
        "  if i == 3:\n",
        "    pass    # Quando i = 3, não faz nada de diferente.\n",
        "  print(i)"
      ]
    },
    {
      "cell_type": "markdown",
      "metadata": {
        "id": "VEXcxtsYExss"
      },
      "source": [
        "**Exemplo**: Escreva um programa onde o computador escolhe um número aleatório de 1 a 10 (use `random.randint(1, 10)`) e o usuário tenta adivinhar. O programa continua pedindo palpites até que o usuário acerte."
      ]
    },
    {
      "cell_type": "code",
      "execution_count": null,
      "metadata": {
        "id": "0qDzyXHNE4gD"
      },
      "outputs": [],
      "source": [
        "####### geração do número aleatório\n",
        "import random\n",
        "numero_secreto = random.randint(1, 10) ## gera o número aleatório\n",
        "\n",
        "###### parte principal do programa\n",
        "palpite = 0\n",
        "while palpite != numero_secreto:\n",
        "    palpite = int(input(\"Adivinhe o número entre 1 e 10: \"))\n",
        "\n",
        "    if palpite < numero_secreto:\n",
        "        print(\"Muito baixo!\")\n",
        "    elif palpite > numero_secreto:\n",
        "        print(\"Muito alto!\")\n",
        "\n",
        "print(\"Parabéns! Você acertou!\")"
      ]
    },
    {
      "cell_type": "markdown",
      "metadata": {
        "id": "N588w2fd0iZY"
      },
      "source": [
        "#### while Infinito\n",
        "\n",
        "Um loop while infinito é um loop que nunca termina por conta própria, a menos que você use algo como break ou feche o programa. Ele é útil em várias situações como jogos, menus interativos, servidores etc\n",
        "\n",
        "> O código abaixo vai imprimir a mensagem sem parar, até você forçar a parada (Ctrl+C no terminal, por exemplo).\n",
        "\n",
        "  ```python\n",
        "  while True:\n",
        "      print(\"Isso vai rodar para sempre!\")\n",
        "  ```\n",
        "\n",
        "**Exemplo**: o código abaixo também utiliza a estrutura de while infinito, mas possui uma condição de parada.  "
      ]
    },
    {
      "cell_type": "code",
      "execution_count": null,
      "metadata": {
        "id": "8yA9mQIH0C4t"
      },
      "outputs": [],
      "source": [
        "## exibe: 1, 2, 3, 4\n",
        "i = 1\n",
        "while True:\n",
        "  if i < 5:\n",
        "    print(i)\n",
        "  else:\n",
        "    break\n",
        "  i += 1"
      ]
    },
    {
      "cell_type": "markdown",
      "metadata": {
        "id": "jG_xbySF1uys"
      },
      "source": [
        "**Exemplo**: Menu Interativo com Condição de Saída\n",
        "\n",
        "> Esse while é infinito, mas pode ser interrompido com break quando o usuário digita \"sair\"."
      ]
    },
    {
      "cell_type": "code",
      "execution_count": null,
      "metadata": {
        "id": "8nvgKtvB12tx"
      },
      "outputs": [],
      "source": [
        "while True:\n",
        "    opcao = input(\"Digite 'sair' para encerrar: \")\n",
        "    if opcao == \"sair\":\n",
        "        print(\"Encerrando...\")\n",
        "        break\n",
        "    else:\n",
        "        print(\"Você digitou:\", opcao)"
      ]
    },
    {
      "cell_type": "markdown",
      "metadata": {
        "id": "sxFRSD5B2i8i"
      },
      "source": [
        "**Exemplo tipo jogo**: Tentativa de Adivinhação"
      ]
    },
    {
      "cell_type": "code",
      "execution_count": null,
      "metadata": {
        "id": "BiRZrr982i8i"
      },
      "outputs": [],
      "source": [
        "senha_correta = \"python\"\n",
        "\n",
        "while True:\n",
        "    tentativa = input(\"Digite a senha: \")\n",
        "    if tentativa == senha_correta:\n",
        "        print(\"Acesso liberado!\")\n",
        "        break\n",
        "    else:\n",
        "        print(\"Senha incorreta. Tente novamente.\")"
      ]
    },
    {
      "cell_type": "markdown",
      "metadata": {
        "id": "n38x_rjKDY3G"
      },
      "source": [
        "### `for`\n",
        "\n",
        "O laço `for` é usado para iterar sobre uma sequência (como listas, tuplas, strings, ou intervalos com range). Em cada iteração, o valor da sequência é atribuído a uma variável, e o bloco de código dentro do laço é executado.\n",
        "\n",
        "**Sintaxe do** `for`:\n",
        "\n",
        "```python\n",
        "for variável in sequência:\n",
        "    # Código a ser executado a cada iteração\n",
        "```"
      ]
    },
    {
      "cell_type": "markdown",
      "metadata": {
        "id": "NIwWatHJBQRN"
      },
      "source": [
        "**Exemplo**"
      ]
    },
    {
      "cell_type": "code",
      "execution_count": null,
      "metadata": {
        "id": "gkr29tBCBSID"
      },
      "outputs": [],
      "source": [
        "for numero in range(1, 6):\n",
        "    print(numero)"
      ]
    },
    {
      "cell_type": "markdown",
      "metadata": {
        "id": "3USrX1mNBVf3"
      },
      "source": [
        "**Exemplos**"
      ]
    },
    {
      "cell_type": "code",
      "execution_count": null,
      "metadata": {
        "id": "K6EWhF0xDdEO"
      },
      "outputs": [],
      "source": [
        "## iterando sobre uma lista\n",
        "\n",
        "frutas = ['banana', 'maçã', 'morango']\n",
        "\n",
        "for fruta in frutas:\n",
        "  print('Comprar ', fruta, '.', sep='')"
      ]
    },
    {
      "cell_type": "code",
      "execution_count": null,
      "metadata": {
        "id": "TrSghRtK3Z7_"
      },
      "outputs": [],
      "source": [
        "## iterando sobre uma string\n",
        "\n",
        "for letra in 'banana':\n",
        "  print(letra)"
      ]
    },
    {
      "cell_type": "code",
      "execution_count": null,
      "metadata": {
        "id": "g6LyTKrD3dZZ"
      },
      "outputs": [],
      "source": [
        "## iterando sobre uma sequência com quebra\n",
        "\n",
        "for k in range(10):\n",
        "  print(k)\n",
        "  if k == 5:\n",
        "    break    # Quebra o laço."
      ]
    },
    {
      "cell_type": "code",
      "execution_count": null,
      "metadata": {
        "id": "SA5w7XXb3fX4"
      },
      "outputs": [],
      "source": [
        "## mostrando apenas os elementos de interesse\n",
        "\n",
        "for k in range(1, 15):\n",
        "  if k % 2  == 0: # se k é par então segue para o\n",
        "    continue      # próximo elemento do laço.\n",
        "  print(k)"
      ]
    },
    {
      "cell_type": "code",
      "execution_count": null,
      "metadata": {
        "id": "qJxBEtbc3hXC"
      },
      "outputs": [],
      "source": [
        "## gera o mesmo resultado da anterior\n",
        "\n",
        "for k in range(1, 15, 2):\n",
        "  print(k)"
      ]
    },
    {
      "cell_type": "markdown",
      "metadata": {
        "id": "JH_Gjc0YExyG"
      },
      "source": [
        "O laço **for** também pode ser usado para inicializar *vetores* e *matrizes*."
      ]
    },
    {
      "cell_type": "code",
      "execution_count": null,
      "metadata": {
        "id": "S3D4LcUdE5XO"
      },
      "outputs": [],
      "source": [
        "v1 = [ 0 for i in range(10)]     # Cria um vetor de 10 posições iguais a 0.\n",
        "v2 = [ i**2 for i in range(10)]  # Cria um vetor de 10 posições com quadrados.\n",
        "\n",
        "print(v1)\n",
        "print(v2)\n",
        "\n",
        "# Cria matrizes 4 x 3. (listas de listas)\n",
        "m1 = [[0 for i in range(3)] for j in range(4)]\n",
        "m2 = [[i*j for j in range(3)] for i in range(4)]\n",
        "\n",
        "print(m1)\n",
        "print(m2)"
      ]
    },
    {
      "cell_type": "markdown",
      "metadata": {
        "id": "1TMmPG6FFsit"
      },
      "source": [
        "O laço **for** pode ser usado para iterar sobre *listas*, *tuplas*, *conjuntos* e *chaves* de dicionários."
      ]
    },
    {
      "cell_type": "code",
      "execution_count": null,
      "metadata": {
        "id": "4AhmeKXhFr_W"
      },
      "outputs": [],
      "source": [
        "lista = list((\"A\",\"B\",\"C\",\"D\"))\n",
        "tupla = tuple((\"A\",\"B\",\"C\",\"D\"))\n",
        "\n",
        "for k in lista:\n",
        "  print(k)\n",
        "\n",
        "print('---')\n",
        "\n",
        "for k in tupla:\n",
        "  print(k)"
      ]
    },
    {
      "cell_type": "code",
      "execution_count": null,
      "metadata": {
        "id": "GzJoJbem5YC1"
      },
      "outputs": [],
      "source": [
        "## no caso de conjuntos a ordem pode não ser mantida\n",
        "conj  = set((\"A\",\"B\",\"C\",\"D\"))\n",
        "\n",
        "for k in conj:\n",
        "  print(k)\n"
      ]
    },
    {
      "cell_type": "code",
      "execution_count": null,
      "metadata": {
        "id": "1fkCBVWI5PBp"
      },
      "outputs": [],
      "source": [
        "## no caso de dicionários podemos iterar de duas maneiras\n",
        "\n",
        "carro = dict(marca = \"Ford\", modelo = \"Mustang\", ano = 1967)\n",
        "\n",
        "### sobre as chaves\n",
        "for k in carro:\n",
        "  print('chave = ', k, ', valor = ', carro[k], sep=\"\")\n",
        "\n",
        "print('---')\n",
        "\n",
        "### ou sobre chaves e valores\n",
        "for k, v in carro.items():\n",
        "  print('chave=', k, ', valor=', v, sep=\"\")\n"
      ]
    },
    {
      "cell_type": "markdown",
      "metadata": {
        "id": "xXYxJkWeCbMV"
      },
      "source": [
        "**Exemplo:** Crie um programa que receba um número inteiro do usuário e use um laço for para verificar se o número é primo.\n",
        "* Um número primo é divisível apenas por 1 e por ele mesmo;\n",
        "* Qualquer número menor que 2 não é considerado como primo;\n",
        "* Para saber se $n$ é primo, basta que seja testado os divisores pertentes ao intervalo de 2 até $||\\sqrt{n}||$, em que $||x||$ denota o maior inteiro menor que $x$."
      ]
    },
    {
      "cell_type": "code",
      "execution_count": null,
      "metadata": {
        "id": "5JQQv74-CvSL"
      },
      "outputs": [],
      "source": [
        "numero = int(input(\"Digite um número: \"))\n",
        "\n",
        "if numero < 2:\n",
        "    print(f\"{numero} não é primo.\")\n",
        "else:\n",
        "    primo = True\n",
        "    for i in range(2, int(numero ** 0.5) + 1):\n",
        "        if numero % i == 0:\n",
        "            primo = False\n",
        "            break\n",
        "\n",
        "    if primo:\n",
        "        print(f\"{numero} é primo.\")\n",
        "    else:\n",
        "        print(f\"{numero} não é primo.\")\n"
      ]
    },
    {
      "cell_type": "markdown",
      "metadata": {
        "id": "vs5RcxBHFJsL"
      },
      "source": [
        "### Exercício 3: Soma dos primeiros 100 números\n",
        "\n",
        "a) Use um laço `while` para calcular a soma dos primeiros 100 números inteiros (de 1 a 100).\n",
        "\n",
        "b)  Use um laço `for` para calcular a soma dos primeiros 100 números inteiros (de 1 a 100)."
      ]
    },
    {
      "cell_type": "code",
      "execution_count": 3,
      "metadata": {},
      "outputs": [
        {
          "name": "stdout",
          "output_type": "stream",
          "text": [
            "A soma dos números de 1 a 100 é 5050.\n",
            "A soma dos números de 1 a 100 é 5050.\n"
          ]
        }
      ],
      "source": [
        "# a)\n",
        "numero = 1\n",
        "soma = 0\n",
        "while numero <= 100:\n",
        "    soma += numero\n",
        "    numero += 1\n",
        "print(f\"A soma dos números de 1 a 100 é {soma}.\")\n",
        "\n",
        "# b)\n",
        "soma = 0\n",
        "for i in range(1, 101):\n",
        "    soma += i\n",
        "print(f\"A soma dos números de 1 a 100 é {soma}.\")"
      ]
    },
    {
      "cell_type": "markdown",
      "metadata": {
        "id": "yUadjv1FFyg8"
      },
      "source": [
        "### Exercício 4: Números ímpares com `continue`\n",
        "\n",
        "Use um laço `for` para exibir todos os números de 1 a 10, exceto os números ímpares (use o `continue`)."
      ]
    },
    {
      "cell_type": "code",
      "execution_count": 4,
      "metadata": {},
      "outputs": [
        {
          "name": "stdout",
          "output_type": "stream",
          "text": [
            "2\n",
            "4\n",
            "6\n",
            "8\n",
            "10\n"
          ]
        }
      ],
      "source": [
        "for i in range(1, 11):\n",
        "    if i % 2 == 0:\n",
        "        print(i)\n",
        "    else:\n",
        "        continue"
      ]
    },
    {
      "cell_type": "markdown",
      "metadata": {
        "id": "tGxM8LQ9Gtdp"
      },
      "source": [
        "### Exercício 5: Sequência de Fibonacci\n",
        "\n",
        "Use um laço `while` para calcular e exibir os primeiros 15 termos da sequência de Fibonacci.\n",
        "\n",
        "A sequência de Fibonacci começa com 0 e 1, e os próximos números são a soma dos dois números anteriores.\n",
        "\n",
        "Sequência: 0, 1, 1, 2, 3, 5, ..."
      ]
    },
    {
      "cell_type": "code",
      "execution_count": 5,
      "metadata": {},
      "outputs": [
        {
          "name": "stdout",
          "output_type": "stream",
          "text": [
            "[0, 1, 1, 2, 3, 5, 8, 13, 21, 34, 55, 89, 144, 233, 377]\n"
          ]
        }
      ],
      "source": [
        "fibonacci = [0, 1]\n",
        "while len(fibonacci) < 15:\n",
        "    fibonacci.append(fibonacci[-1] + fibonacci[-2])\n",
        "print(fibonacci)"
      ]
    }
  ],
  "metadata": {
    "colab": {
      "authorship_tag": "ABX9TyNiK7Xi7P7k9l5itCBaEZsK",
      "include_colab_link": true,
      "provenance": [],
      "toc_visible": true
    },
    "kernelspec": {
      "display_name": "Python 3",
      "name": "python3"
    },
    "language_info": {
      "codemirror_mode": {
        "name": "ipython",
        "version": 3
      },
      "file_extension": ".py",
      "mimetype": "text/x-python",
      "name": "python",
      "nbconvert_exporter": "python",
      "pygments_lexer": "ipython3",
      "version": "3.12.3"
    }
  },
  "nbformat": 4,
  "nbformat_minor": 0
}
